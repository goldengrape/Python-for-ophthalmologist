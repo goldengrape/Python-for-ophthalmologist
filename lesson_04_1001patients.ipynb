{
 "cells": [
  {
   "cell_type": "markdown",
   "metadata": {},
   "source": [
    "# 一千零一个病人\n",
    "\n",
    "普通人干活往往是图中蓝色的曲线, 随着问题规模的增长, 付出的努力或者工作量也随之线性增长. Nerd, Geek这类人干活则是红色的曲线, 当他们遇到一个可能反复出现的问题时, 先要花大力气去搞出一个自动化的东西, 然后不论问题再怎么增长规模, 他们也只不过是跑跑自动化的工具, 不费什么力气. 这就是编写程序的意义所在.\n",
    "![](./img/nerdwork.png)\n",
    "\n",
    "之前我们写了计算IOL度数的程序似乎没有什么意义. 每计算一次都还要敲上print, 再调用函数. 看起来并不必手工或者用IOL master之类的机器好多少. \n",
    "\n",
    "不过如果现在是个临床研究, 一下子要处理上1001个病人的数据, 用上不同的公式来计算他们所需的IOL度数, 再和术后3个月的验光结果比较. 看哪个公式的预测最准确, 那手工再输入到IOL Master里面一个一个算就复杂了. "
   ]
  },
  {
   "cell_type": "markdown",
   "metadata": {},
   "source": [
    "# 产生多人数据\n",
    "\n",
    "下面我们要使用numpy这个工具包来产生多个随机数据, 来模拟很多人的情况, 为了方便显示, 只是产生5个人的数据好了. "
   ]
  },
  {
   "cell_type": "code",
   "execution_count": 1,
   "metadata": {
    "ExecuteTime": {
     "end_time": "2017-10-16T03:54:01.504086Z",
     "start_time": "2017-10-16T03:54:00.672584Z"
    },
    "scrolled": true
   },
   "outputs": [
    {
     "name": "stdout",
     "output_type": "stream",
     "text": [
      "[[ 25.19525402]\n",
      " [ 25.86075747]\n",
      " [ 25.4110535 ]\n",
      " [ 25.17953273]\n",
      " [ 24.6946192 ]]\n",
      "[[ 118. ]\n",
      " [ 118.4]\n",
      " [ 119. ]\n",
      " [ 119. ]\n",
      " [ 118. ]]\n"
     ]
    }
   ],
   "source": [
    "import numpy as np\n",
    "np.random.seed(0)\n",
    "\n",
    "patient_number=5\n",
    "L=np.random.rand(patient_number,1)*4+23\n",
    "K_1=np.random.rand(patient_number,1)*2+40\n",
    "K_2=np.random.rand(patient_number,1)*2+41\n",
    "REF=np.round(np.random.rand(patient_number,1))*(-3)\n",
    "A=np.random.choice([118.4,119.0,118.0],size=(patient_number,1))\n",
    "print(L)\n",
    "print(A)"
   ]
  },
  {
   "cell_type": "markdown",
   "metadata": {},
   "source": [
    "```python\n",
    "import numpy as np\n",
    "```\n",
    "之前已经讲解过了, 就是导入numpy这个科学计算工具包, 并且简称为np, 那么Numpy工具包里面的函数, 就用np.函数名来表示了. \n",
    "\n",
    "如果在上面有错误, 在导入numpy时出错, ** 请确认是在coclac里使用的kernel是python3(anaconda) **\n",
    "\n",
    "但具体应该用什么函数来实现需要的功能, numpy的函数在撰写上有什么要求, 就需要查numpy的手册了:  https://docs.scipy.org/doc/numpy/reference/\n",
    "更简单一些的, 我们可以直接去搜索去搜索, 这也是我接下来要讲的: \n",
    "\n",
    "# 面向Google/ StackOverFlow的编程"
   ]
  },
  {
   "cell_type": "markdown",
   "metadata": {
    "ExecuteTime": {
     "end_time": "2017-10-15T15:20:36.129942Z",
     "start_time": "2017-10-15T15:20:36.123902Z"
    }
   },
   "source": [
    "一切有现成答案的问题, 都可以通过搜索引擎找到答案.  ----不记得谁说过了\n",
    "网络本来就是程序员们构建的, 所以在网络上跟程序相关的资源非常非常多, 比眼科图谱多多了. \n",
    "两个主要的搜索工具: \n",
    "* Google: 这是通用的搜索引擎, 一般用python或者numpy+你需要的关键词, 比如random, 用google搜索到的往往是相关的文档\n",
    "![](./img/google_numpy.png)\n",
    "* Stackoverflow: 这是更加面向程序员的社区, 里面更多是面向具体问题的解决方案, 很多已经给出了代码, 复制粘贴过来重新理解一下, 也许就可以用了. \n",
    "![](./img/stackoverflow_numpy.png)\n",
    "\n",
    "搜索本身就是学习过程, 不要指望你在什么都不知道的情况下就能直接搜索到需要的内容. 更多情况下是一边搜索, 一边学习, 逐渐缩小自己使用的关键词. 在搜索过程中, python的中文内容也是不少的, 不过, 我更推荐你以此练练英语, 有很多词汇中文翻译得反而更难理解. 还不如直接看英文呢. \n",
    "\n",
    "关于np.random我就不详细解释了, 这只是为了后面使用多人数据随机产生的一组数据而已, 更常见的多人数据, 很可能是来自于一个excel文件, 不过请先按下好奇心, 我们先从基本的开始. "
   ]
  },
  {
   "cell_type": "markdown",
   "metadata": {},
   "source": [
    "# 计算单个IOL的SRK2公式\n",
    "\n",
    "把我们之前写过的SRK2公式拿出来看看: "
   ]
  },
  {
   "cell_type": "code",
   "execution_count": 2,
   "metadata": {
    "ExecuteTime": {
     "end_time": "2017-10-16T03:55:08.605008Z",
     "start_time": "2017-10-16T03:55:08.573007Z"
    },
    "collapsed": true
   },
   "outputs": [],
   "source": [
    "def SRK_2_origin(A,K_1,K_2,L,REF=0):\n",
    "    if L < 20.0 :\n",
    "        A1=A+3\n",
    "    elif L < 21.0 :\n",
    "        A1=A+2\n",
    "    elif L < 22.0 :\n",
    "        A1=A+1\n",
    "    elif L == 22.0:\n",
    "        A1=A\n",
    "    elif L > 22.0 and L < 24.5 :\n",
    "        A1=A\n",
    "    elif L >= 24.5:\n",
    "        A1=A-0.5\n",
    "    \n",
    "    K = (K_1+K_2)/2\n",
    "    P_emme= A1- 0.9*K -2.5*L\n",
    "    \n",
    "    if P_emme < 14:\n",
    "        CR = 1.00\n",
    "    else:\n",
    "        CR = 1.25\n",
    "        \n",
    "    P_ammc=P_emme-REF*CR\n",
    "    return P_ammc"
   ]
  },
  {
   "cell_type": "markdown",
   "metadata": {},
   "source": [
    "把前面产生的数据代入, 计算一下SRK2公式算出的结果. "
   ]
  },
  {
   "cell_type": "code",
   "execution_count": 3,
   "metadata": {
    "ExecuteTime": {
     "end_time": "2017-10-16T03:55:11.253696Z",
     "start_time": "2017-10-16T03:55:11.102940Z"
    },
    "scrolled": false
   },
   "outputs": [
    {
     "ename": "ValueError",
     "evalue": "The truth value of an array with more than one element is ambiguous. Use a.any() or a.all()",
     "output_type": "error",
     "traceback": [
      "\u001b[0;31m---------------------------------------------------------------------------\u001b[0m",
      "\u001b[0;31mValueError\u001b[0m                                Traceback (most recent call last)",
      "\u001b[0;32m<ipython-input-3-49cd03eadbeb>\u001b[0m in \u001b[0;36m<module>\u001b[0;34m()\u001b[0m\n\u001b[0;32m----> 1\u001b[0;31m \u001b[0mprint\u001b[0m\u001b[0;34m(\u001b[0m\u001b[0mSRK_2_origin\u001b[0m\u001b[0;34m(\u001b[0m\u001b[0mA\u001b[0m\u001b[0;34m,\u001b[0m\u001b[0mK_1\u001b[0m\u001b[0;34m,\u001b[0m\u001b[0mK_2\u001b[0m\u001b[0;34m,\u001b[0m\u001b[0mL\u001b[0m\u001b[0;34m,\u001b[0m\u001b[0mREF\u001b[0m\u001b[0;34m)\u001b[0m\u001b[0;34m)\u001b[0m\u001b[0;34m\u001b[0m\u001b[0m\n\u001b[0m",
      "\u001b[0;32m<ipython-input-2-c9621155cb1a>\u001b[0m in \u001b[0;36mSRK_2_origin\u001b[0;34m(A, K_1, K_2, L, REF)\u001b[0m\n\u001b[1;32m      1\u001b[0m \u001b[0;32mdef\u001b[0m \u001b[0mSRK_2_origin\u001b[0m\u001b[0;34m(\u001b[0m\u001b[0mA\u001b[0m\u001b[0;34m,\u001b[0m\u001b[0mK_1\u001b[0m\u001b[0;34m,\u001b[0m\u001b[0mK_2\u001b[0m\u001b[0;34m,\u001b[0m\u001b[0mL\u001b[0m\u001b[0;34m,\u001b[0m\u001b[0mREF\u001b[0m\u001b[0;34m=\u001b[0m\u001b[0;36m0\u001b[0m\u001b[0;34m)\u001b[0m\u001b[0;34m:\u001b[0m\u001b[0;34m\u001b[0m\u001b[0m\n\u001b[0;32m----> 2\u001b[0;31m     \u001b[0;32mif\u001b[0m \u001b[0mL\u001b[0m \u001b[0;34m<\u001b[0m \u001b[0;36m20.0\u001b[0m \u001b[0;34m:\u001b[0m\u001b[0;34m\u001b[0m\u001b[0m\n\u001b[0m\u001b[1;32m      3\u001b[0m         \u001b[0mA1\u001b[0m\u001b[0;34m=\u001b[0m\u001b[0mA\u001b[0m\u001b[0;34m+\u001b[0m\u001b[0;36m3\u001b[0m\u001b[0;34m\u001b[0m\u001b[0m\n\u001b[1;32m      4\u001b[0m     \u001b[0;32melif\u001b[0m \u001b[0mL\u001b[0m \u001b[0;34m<\u001b[0m \u001b[0;36m21.0\u001b[0m \u001b[0;34m:\u001b[0m\u001b[0;34m\u001b[0m\u001b[0m\n\u001b[1;32m      5\u001b[0m         \u001b[0mA1\u001b[0m\u001b[0;34m=\u001b[0m\u001b[0mA\u001b[0m\u001b[0;34m+\u001b[0m\u001b[0;36m2\u001b[0m\u001b[0;34m\u001b[0m\u001b[0m\n",
      "\u001b[0;31mValueError\u001b[0m: The truth value of an array with more than one element is ambiguous. Use a.any() or a.all()"
     ]
    }
   ],
   "source": [
    "print(SRK_2_origin(A,K_1,K_2,L,REF))"
   ]
  },
  {
   "cell_type": "markdown",
   "metadata": {},
   "source": [
    "看到出错了吧, 很多时候在编写面向大量数据的函数时, 处理和面向单独一个数的会有差别. 如果没考虑到这样的差别就会出错了. \n",
    "\n",
    "这里面的错误主要是发生在SRK2公式要根据眼轴长L来修正A常数的过程. \n",
    "\n",
    "因为我们传给SRK_2_origin函数的L, 里面包含有5个数, 而不是1个数, 处理的时候要同时处理5个数, 而不仅仅是一个. 这就是所谓的\n",
    "\n",
    "# 向量"
   ]
  },
  {
   "cell_type": "code",
   "execution_count": 4,
   "metadata": {
    "ExecuteTime": {
     "end_time": "2017-10-16T03:55:15.367224Z",
     "start_time": "2017-10-16T03:55:15.357847Z"
    },
    "scrolled": false
   },
   "outputs": [
    {
     "name": "stdout",
     "output_type": "stream",
     "text": [
      "[[ 25.88253062]\n",
      " [ 25.32807917]\n",
      " [ 25.14949292]\n",
      " [ 26.0344625 ]\n",
      " [ 23.42363043]]\n",
      "L的类型: \n",
      "<class 'numpy.ndarray'>\n"
     ]
    }
   ],
   "source": [
    "patient_number=5\n",
    "L=np.random.rand(5,1)*4+23\n",
    "\n",
    "print(L)\n",
    "print(\"L的类型: \")\n",
    "print(type(L))"
   ]
  },
  {
   "cell_type": "markdown",
   "metadata": {},
   "source": [
    "```python\n",
    "L=np.random.rand(5,1)*4+23\n",
    "```\n",
    "产生了5行1列的一个类型为'numpy.ndarray'的列向量. 其中(5,1)是描述向量的形态shape的. "
   ]
  },
  {
   "cell_type": "code",
   "execution_count": 5,
   "metadata": {
    "ExecuteTime": {
     "end_time": "2017-10-16T03:55:17.555564Z",
     "start_time": "2017-10-16T03:55:17.550179Z"
    },
    "scrolled": true
   },
   "outputs": [
    {
     "name": "stdout",
     "output_type": "stream",
     "text": [
      "(5, 1)\n"
     ]
    }
   ],
   "source": [
    "print(L.shape)"
   ]
  },
  {
   "cell_type": "markdown",
   "metadata": {},
   "source": [
    "还可以有很多产生ndarray的方法, 不仅仅是列向量, 也可以产生二维的矩阵, 比如: "
   ]
  },
  {
   "cell_type": "code",
   "execution_count": 6,
   "metadata": {
    "ExecuteTime": {
     "end_time": "2017-10-16T03:55:18.899411Z",
     "start_time": "2017-10-16T03:55:18.892876Z"
    }
   },
   "outputs": [
    {
     "name": "stdout",
     "output_type": "stream",
     "text": [
      "[[ 0  1  2  3]\n",
      " [ 4  5  6  7]\n",
      " [ 8  9 10 11]]\n",
      "(3, 4)\n"
     ]
    }
   ],
   "source": [
    "x=np.arange(12).reshape(3,4)\n",
    "print(x)\n",
    "print(x.shape)"
   ]
  },
  {
   "cell_type": "markdown",
   "metadata": {},
   "source": [
    "np.arange(N)是产生0到N-1的N个数, reshape是把一个向量或者矩阵转变形状, 这里就是把0-11这12个数字, 排列乘3行4列的二维矩阵. "
   ]
  },
  {
   "cell_type": "markdown",
   "metadata": {},
   "source": [
    "还需要提示一个小技巧, numpy在处理单独一行或者单独一列的向量时, 会把1省去, 不要这样写, 最好用reshape把1行或者1列的形态标记清楚. "
   ]
  },
  {
   "cell_type": "code",
   "execution_count": 7,
   "metadata": {
    "ExecuteTime": {
     "end_time": "2017-10-16T03:55:20.716607Z",
     "start_time": "2017-10-16T03:55:20.708651Z"
    }
   },
   "outputs": [
    {
     "name": "stdout",
     "output_type": "stream",
     "text": [
      "U=[0 1 2], \tU.shape=(3,)\n",
      "V=[[0]\n",
      " [1]\n",
      " [2]], \n",
      "\t\tV.shape=(3, 1)\n"
     ]
    }
   ],
   "source": [
    "U=np.arange(3)\n",
    "print('U={0}, \\tU.shape={1}'.format(U, U.shape)) #此处打印展示了诸多奇技淫巧, 如有兴趣可自行搜索\n",
    "V=np.arange(3).reshape(-1,1) # 这里的-1表示什么猜猜看\n",
    "print('V={0}, \\n\\t\\tV.shape={1}'.format(V, V.shape))"
   ]
  },
  {
   "cell_type": "markdown",
   "metadata": {},
   "source": [
    "# 矩阵内容的提取"
   ]
  },
  {
   "cell_type": "markdown",
   "metadata": {},
   "source": [
    "我们可以单独提取出矩阵中的一部分, 比如, 第0行, 注意python的计数是从0开始的, 务必小心这一点: "
   ]
  },
  {
   "cell_type": "code",
   "execution_count": 8,
   "metadata": {
    "ExecuteTime": {
     "end_time": "2017-10-16T03:55:22.891452Z",
     "start_time": "2017-10-16T03:55:22.884614Z"
    }
   },
   "outputs": [
    {
     "name": "stdout",
     "output_type": "stream",
     "text": [
      "[0 1 2 3]\n"
     ]
    }
   ],
   "source": [
    "x=np.arange(12).reshape(3,4)\n",
    "print(x[0, : ])"
   ]
  },
  {
   "cell_type": "markdown",
   "metadata": {},
   "source": [
    "这里使用方括号[ ] 来示意是要索引, [0,:]中的冒号: 是说所有的部分. \n",
    "也可以提取出矩阵中的一小部分, 比如: "
   ]
  },
  {
   "cell_type": "code",
   "execution_count": 9,
   "metadata": {
    "ExecuteTime": {
     "end_time": "2017-10-16T03:55:24.226638Z",
     "start_time": "2017-10-16T03:55:24.221557Z"
    }
   },
   "outputs": [
    {
     "name": "stdout",
     "output_type": "stream",
     "text": [
      "[[1]\n",
      " [5]\n",
      " [9]]\n"
     ]
    }
   ],
   "source": [
    "print( x[0:3, 1:2])"
   ]
  },
  {
   "cell_type": "markdown",
   "metadata": {},
   "source": [
    "冒号的右侧, 表示<, 而不是<=, 所以1:2, 和1是一回事. \n",
    "还可以按照一定的逻辑判断来提取, 比如: "
   ]
  },
  {
   "cell_type": "code",
   "execution_count": 10,
   "metadata": {
    "ExecuteTime": {
     "end_time": "2017-10-16T03:55:25.586444Z",
     "start_time": "2017-10-16T03:55:25.581856Z"
    },
    "scrolled": true
   },
   "outputs": [
    {
     "name": "stdout",
     "output_type": "stream",
     "text": [
      "[ 5  6  7  8  9 10 11]\n"
     ]
    }
   ],
   "source": [
    "print( x[x>4])"
   ]
  },
  {
   "cell_type": "markdown",
   "metadata": {},
   "source": [
    "这个特点就是我们在后面需要使用的了. 比如对于SRK2公式, \n",
    " L > 22.0 and L < 24.5 时, A常数不变. \n",
    "我们可以使用一个特殊的np.logical_and() 来处理对矩阵的逻辑运算. "
   ]
  },
  {
   "cell_type": "code",
   "execution_count": 11,
   "metadata": {
    "ExecuteTime": {
     "end_time": "2017-10-16T03:55:28.469618Z",
     "start_time": "2017-10-16T03:55:28.462803Z"
    },
    "scrolled": true
   },
   "outputs": [
    {
     "name": "stdout",
     "output_type": "stream",
     "text": [
      "[[False]\n",
      " [False]\n",
      " [False]\n",
      " [False]\n",
      " [ True]]\n",
      "[ 118.]\n"
     ]
    }
   ],
   "source": [
    "pickout=np.logical_and(L>22, L<24.5)\n",
    "print(pickout)\n",
    "print( A[pickout] )"
   ]
  },
  {
   "cell_type": "markdown",
   "metadata": {},
   "source": [
    "# 计算多个IOL的SRK2公式\n",
    "\n",
    "要使SRK2公式能够面向多个数计算, 也就是能够对向量计算, 就要改造一下之前的if语句. \n",
    "比如之前: \n",
    "```python\n",
    "if L < 20.0 :\n",
    "    A1=A+3\n",
    "```\n",
    "已经不适合对L向量和A向量进行处理了. 我们可以改造成: "
   ]
  },
  {
   "cell_type": "code",
   "execution_count": 12,
   "metadata": {
    "ExecuteTime": {
     "end_time": "2017-10-16T03:55:37.242362Z",
     "start_time": "2017-10-16T03:55:37.236673Z"
    },
    "scrolled": true
   },
   "outputs": [
    {
     "name": "stdout",
     "output_type": "stream",
     "text": [
      "[[ 118. ]\n",
      " [ 118.4]\n",
      " [ 119. ]\n",
      " [ 119. ]\n",
      " [ 118. ]]\n"
     ]
    }
   ],
   "source": [
    "A[L<20.0] = A[L<20.0] + 3\n",
    "print(A)"
   ]
  },
  {
   "cell_type": "markdown",
   "metadata": {},
   "source": [
    "类似的, 可以构造一个根据L修正A常数的函数: "
   ]
  },
  {
   "cell_type": "code",
   "execution_count": 13,
   "metadata": {
    "ExecuteTime": {
     "end_time": "2017-10-16T03:55:42.540487Z",
     "start_time": "2017-10-16T03:55:42.534308Z"
    },
    "collapsed": true
   },
   "outputs": [],
   "source": [
    "def on_L_change_A(L,A,Lmin,Lmax,deltaA):\n",
    "    pickout=np.logical_and(L>Lmin, L<=Lmax)\n",
    "    A[pickout] += deltaA\n",
    "    return A"
   ]
  },
  {
   "cell_type": "markdown",
   "metadata": {},
   "source": [
    "有了这个函数, 再去定义SRK2公式的函数, 就可以躲开出错的if语句了. \n",
    "\n",
    "# 练习\n",
    "\n",
    "利用on_L_change_A函数修改新的SRK_2公式函数, 使之可以满足同时处理多组数据. \n",
    "\n",
    "## 第一处\n",
    "使用on_L_change_A函数, 替代if. . . elif. . . 语句, 例如\n",
    "\n",
    "```python\n",
    "if L < 20.0 :\n",
    "    A1=A+3\n",
    "```\n",
    "修改成了\n",
    "```python\n",
    "A = on_L_change_A(L,A,0,    20,    3) # 我想眼轴长L应该不至于<0, 因此用0作为下界\n",
    "```\n",
    "\n",
    "```python\n",
    "if L > 24.5 :\n",
    "    A1=A-0.5\n",
    "```\n",
    "修改成了\n",
    "```python\n",
    "A = on_L_change_A(L,A,24.5, 50,    -0.5) # 我想眼轴长L应该不至于 > 50, 因此用50作为上届\n",
    "```\n",
    "\n",
    "补充下面关于A的修正过程, 将含有None修改成合适的语句. \n",
    "\n",
    "## 第二处\n",
    "```python\n",
    "    if P_emme < 14:\n",
    "        CR = 1.00\n",
    "    else:\n",
    "        CR = 1.25\n",
    "```\n",
    "已经首先使用    \n",
    "```python\n",
    "CR = np.ones(P_emme.shape)\n",
    "```\n",
    "将CR的默认值设定成了元素为1, 形状与P_emme相同的矩阵, \n",
    "请将 P_emme >=14 时所对应的CR值, 修改成 = 1.25 \n",
    "\n",
    "你可能需要在CR[?]里面增加一些逻辑判断. "
   ]
  },
  {
   "cell_type": "code",
   "execution_count": 14,
   "metadata": {
    "ExecuteTime": {
     "end_time": "2017-10-16T03:55:45.844629Z",
     "start_time": "2017-10-16T03:55:45.816377Z"
    },
    "collapsed": true
   },
   "outputs": [],
   "source": [
    "def SRK_2(A,K_1,K_2,L,REF=0):\n",
    "    A = on_L_change_A(L,A,0,    20,    3)\n",
    "    # 在此行下面修改代码, 不要改变此行之前的代码\n",
    "    A = None\n",
    "    A = None\n",
    "    A = None\n",
    "    # 在此行上面修改代码, 不要改变此行之后的代码\n",
    "    A = on_L_change_A(L,A,24.5, 50,    -0.5)\n",
    "\n",
    "    K = (K_1+K_2)/2\n",
    "    P_emme= A - 0.9*K -2.5*L\n",
    "    CR = np.ones(P_emme.shape)\n",
    "    # 在此行下面修改代码, 不要改变此行之前的代码\n",
    "    # CR[ ? ]=1.25\n",
    "    # 在此行上面修改代码, 不要改变此行之后的代码\n",
    "        \n",
    "    P_ammc=P_emme-REF*CR # 注意这里的乘法\n",
    "    return P_ammc"
   ]
  },
  {
   "cell_type": "code",
   "execution_count": null,
   "metadata": {
    "ExecuteTime": {
     "end_time": "2017-10-16T03:55:46.877789Z",
     "start_time": "2017-10-16T03:55:46.861404Z"
    },
    "scrolled": true
   },
   "outputs": [],
   "source": [
    "print(SRK_2(A,K_1,K_2,L,REF))"
   ]
  },
  {
   "cell_type": "markdown",
   "metadata": {
    "collapsed": true
   },
   "source": [
    "期望的答案是:\n",
    "```\n",
    "[[ 15.04981622]\n",
    " [ 17.25996816]\n",
    " [ 21.6124319 ]\n",
    " [ 19.0135103 ]\n",
    " [ 26.33189411]]\n",
    "```\n",
    "\n",
    "处理5个病人的数据, 和处理一千零一个人的数据并没有区别. "
   ]
  }
 ],
 "metadata": {
  "kernelspec": {
   "display_name": "Python 3",
   "language": "python",
   "name": "python3"
  },
  "language_info": {
   "codemirror_mode": {
    "name": "ipython",
    "version": 3
   },
   "file_extension": ".py",
   "mimetype": "text/x-python",
   "name": "python",
   "nbconvert_exporter": "python",
   "pygments_lexer": "ipython3",
   "version": "3.5.2"
  },
  "toc": {
   "colors": {
    "hover_highlight": "#DAA520",
    "navigate_num": "#000000",
    "navigate_text": "#333333",
    "running_highlight": "#FF0000",
    "selected_highlight": "#FFD700",
    "sidebar_border": "#EEEEEE",
    "wrapper_background": "#FFFFFF"
   },
   "moveMenuLeft": true,
   "nav_menu": {
    "height": "102px",
    "width": "254px"
   },
   "navigate_menu": true,
   "number_sections": true,
   "sideBar": true,
   "threshold": 4,
   "toc_cell": false,
   "toc_section_display": "block",
   "toc_window_display": false,
   "widenNotebook": false
  }
 },
 "nbformat": 4,
 "nbformat_minor": 2
}
