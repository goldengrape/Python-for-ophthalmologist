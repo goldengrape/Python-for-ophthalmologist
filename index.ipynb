{
 "cells": [
  {
   "cell_type": "markdown",
   "metadata": {
    "ExecuteTime": {
     "end_time": "2017-10-16T03:27:21.567786Z",
     "start_time": "2017-10-16T03:27:21.548513Z"
    }
   },
   "source": [
    "# 面向眼科医生的Python教程\n",
    "\n",
    "# 序言\n",
    "\n",
    "\n",
    "本教程是面向眼科医生的python语言教程。python语言很简单, 难在开始学习和坚持学习前三个月。\n",
    "\n",
    "人之为学有难易乎? 靡不有初鲜克有终。\n",
    "\n",
    "编程是一种技能，学习编程和做手术一样，需要由易到难，勤于练习。不要寄希望于看一遍教程或者书籍就掌握写python的技巧，也不必强求自己一开始就写出华丽复杂的程序。\n",
    "\n",
    "本教程以眼科临床工作和科研中常见的场景循序渐进进行教学，并且在每一部分都有练习作业。请在阅读过程中随时停下来，自己输入代码试一试。多多练习才能体会到编程的乐趣。\n",
    "\n",
    "测试代码和完成作业推荐使用[cocalc.com](http://cocalc.com/) 这个在线编程环境。您可以将本教程中的ipython文件上传到自己的cocalc项目内，在其中修改代码并运行。\n",
    "\n",
    "或者, 我最近刚刚发现微软也推出了在线版本的Jupyter服务, 您也可以使用本教程在[azure notebook上的镜像](https://notebooks.azure.com/goldengrape/libraries/Python-for-ophthalmologist) . 方便一键Clone, 对于没接触过git的初学者更加方便\n",
    "\n",
    "当您对python足够熟悉以后再过渡到本地安装python。不要急于求成，就像应该先以翼状胬肉手术练习好显微镜使用，然后才开始phaco或玻切手术的训练。\n",
    "\n",
    "本教程只是一个初级的入门教程，以科学计算部分为主。在您今后的学习工作中可能还需要编写收集数据的网络爬虫、深度神经网络、甚至手机app，这些内容请参考网上其他教程。\n",
    "\n",
    "# 使用\n",
    "您可以使用[点击此处](https://goldengrape.github.io/Python-for-ophthalmologist)来阅读[本教程的html版本](https://goldengrape.github.io/Python-for-ophthalmologist), 这个版本应该也可以在手机上正确显示. \n",
    "\n",
    "您可以点击 .ipynb 文件, 在线阅读本教程内容.\n",
    "\n",
    "![clickipynb](https://i.loli.net/2017/09/28/59cd07ccaf950.png)\n",
    "\n",
    "还可以点击 clone or download, 将本教程下载到电脑上阅读.\n",
    "\n",
    "![clickdownload](https://i.loli.net/2017/09/28/59cd07b75acca.png)\n",
    "\n",
    "下载到电脑上阅读时, 您可以打开 .html文件阅读.\n",
    "\n",
    "如果您阅读的是azure notebooks上的[镜像](https://notebooks.azure.com/goldengrape/libraries/Python-for-ophthalmologist), 可以一键Clone, 边看边练. \n",
    "![](./img/azurenotebooks.png)\n",
    "\n",
    "# CoCalc\n",
    "\n",
    "[Cocalc.com](https://cocalc.com/)是一个非常优秀的在线科学计算工具集, 其中已经包含了python, 以及几乎所有科学计算所需要的python工具包.\n",
    "\n",
    "注册cocalc是免费的, 就初学者而言, 暂时还不需要购买其中的付费升级. 主要区别是远程主机联网的能力和运行稳定性. 当您已经达到一定水平后, 比如需要使用编写网页爬虫采集数据, 可以考虑购买升级. 目前本教程使用免费版足以.\n",
    "\n",
    "您可以将下载下来的本教程文件upload到cocalc中, 就可以直接运行 .ipynb 文件, 并且修改其中的作业练习代码, 完成练习.\n",
    "\n",
    "关于coclac的使用, 本教程中将有介绍.\n",
    "\n",
    "# Azure Notebook\n",
    "[Azure Notebook](https://notebooks.azure.com) 是微软在自己的云服务上推出的在线编程工具, 当然也包含了python, 经过测试我发现大多数的python工具包也都已经包括了, 比cocalc更好一些的是, azure notebook中即使是免费账户也可以有权限自己在安装一些工具包. 毕竟微软财大气粗. \n",
    "\n",
    "在azure notebook里, 有一键Clone的工具, 您只需要点击clone按钮, 就可以原样复制本教程, 并在自己的浏览器上进行修改和运行测试. 玩坏了也没关系, 大不了删掉再重新clone一次. \n",
    "![](./img/azurenotebooks.png)\n",
    "\n",
    "# 参考\n",
    "* 任何时候, Google都是您的良师益友. 凡是有确定答案的问题, 通常都可以通过Google搜索到. 至于如何能够访问Google, 已经不在本教程范围内讨论.\n",
    "\n",
    "* [stackoverflow](https://stackoverflow.com/questions/tagged/python) 是一个编程提问网站, 多数情况下, 您遇到的问题在里面已经有所解答.\n",
    "\n",
    "* [莫烦PYTHON教程](https://morvanzhou.github.io/tutorials/python-basic/) 是很好的视频教程, 有时候文字解释不如视频来得清晰明了.\n",
    "\n",
    "* [廖雪峰Python教程](https://www.liaoxuefeng.com/wiki/0014316089557264a6b348958f449949df42a6d3a2e542c000) 也是不错的教程, 但我推荐将其作为速查手册, 需要了解python的某个细节时去查阅其中的文字说明. 我是不推荐按照他的教程在本地装python开始学的.\n",
    "\n",
    "* [Sololearn](https://www.sololearn.com/Course/Python/) Sololearn是个教程APP, 有android/iOS和网页版, 里面也是循序渐进的讲解了python的各个方面. 而且有实时的练习, 利用碎片时间也可以学得很好, 非常推荐.\n",
    "\n",
    "综上,  我推荐您:\n",
    "1. 在手机上安装Sololearn, 利用碎片时间入门python;\n",
    "2. 注册使用[CoCalc](https://coclac.com/app) 在线阅读本教程并做与眼科相关的练习作业.\n",
    "3. 逐渐开始您自己的python项目, 遇到问题时查询[廖雪峰Python文字教程](https://www.liaoxuefeng.com/wiki/0014316089557264a6b348958f449949df42a6d3a2e542c000), 看[莫烦PYTHON视频教程](https://morvanzhou.github.io/tutorials/python-basic/) , 并请教Google/ [stackoverflow](https://stackoverflow.com/questions/tagged/python)\n",
    "\n",
    "# 学而时习之不亦说乎\n",
    "祝学习愉快\n"
   ]
  },
  {
   "cell_type": "markdown",
   "metadata": {},
   "source": [
    "# 目录\n",
    "* [第 0 课, 动机](./lesson_00_motivation.html)\n",
    "* [第 1 课, CoCalc](./lesson_01_jupyter.html)\n",
    "* [第 2 课, SRK公式](./lesson_02_SRK.html)\n",
    "  * [第 2 课, jupyter笔记本下载](./lesson_02_SRK.ipynb)\n",
    "* [第 3 课, SRK-II公式](./lesson_03_SRKII.html)\n",
    "  * [第 3 课, jupyter笔记本下载](./lesson_03_SRKII.ipynb)\n",
    "* [第 4 课, 一千零一个病人](./lesson_04_1001patients.html)\n",
    "  * [第 4 课, jupyter笔记本下载](./lesson_04_1001patients.ipynb)\n"
   ]
  },
  {
   "cell_type": "code",
   "execution_count": null,
   "metadata": {
    "collapsed": true
   },
   "outputs": [],
   "source": []
  }
 ],
 "metadata": {
  "kernelspec": {
   "display_name": "Python 3",
   "language": "python",
   "name": "python3"
  },
  "language_info": {
   "codemirror_mode": {
    "name": "ipython",
    "version": 3
   },
   "file_extension": ".py",
   "mimetype": "text/x-python",
   "name": "python",
   "nbconvert_exporter": "python",
   "pygments_lexer": "ipython3",
   "version": "3.5.2"
  },
  "toc": {
   "colors": {
    "hover_highlight": "#DAA520",
    "navigate_num": "#000000",
    "navigate_text": "#333333",
    "running_highlight": "#FF0000",
    "selected_highlight": "#FFD700",
    "sidebar_border": "#EEEEEE",
    "wrapper_background": "#FFFFFF"
   },
   "moveMenuLeft": true,
   "nav_menu": {
    "height": "158px",
    "width": "254px"
   },
   "navigate_menu": true,
   "number_sections": true,
   "sideBar": true,
   "threshold": 4,
   "toc_cell": false,
   "toc_section_display": "block",
   "toc_window_display": false,
   "widenNotebook": false
  }
 },
 "nbformat": 4,
 "nbformat_minor": 2
}
