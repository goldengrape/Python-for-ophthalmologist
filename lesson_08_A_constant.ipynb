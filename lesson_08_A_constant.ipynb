{
 "cells": [
  {
   "cell_type": "markdown",
   "metadata": {},
   "source": [
    "# 人工晶体度数计算中的参数估计与优化\n",
    "\n",
    "发现了一篇[Determination of Personalized IOL-Constants for the Haigis Formula under Consideration of Measurement Precision](https://journals.plos.org/plosone/article?id=10.1371/journal.pone.0158988)\n",
    "\n",
    "里面讲的是使用加权最小二乘法来进行Haigis公式的参数优化。我打算使用他的数据，而利用贝叶斯方法做同样的事情。练会这一招以后，其他IOL计算公式的参数优化也是一样的。"
   ]
  },
  {
   "cell_type": "markdown",
   "metadata": {},
   "source": [
    "# 获得数据\n",
    "\n",
    "必须得说，临床医学的公开数据比起做计算机的，真是少多了。除了哪些有机器学习强力推动的图像数据集，要找一个开放的数据集还真是困难，虽然理论上，不过就是白内障术前测量和术后复查的IOL数据，好像一抓一大把。但术后IOL稳定至少要3个月，国内的白内障病人3个月后还能追踪到也不是件容易的事情。\n",
    "\n",
    "不过，现在有些杂志要求给出Data Availability，\n",
    "所以加上“Data Availability”这个关键词以后能够找到一些带有原始数据的文章。\n",
    "有些文章假么假事地说are available from the corresponding author on reasonable request.但有些文章很实诚，直接就在Supporting Information里给出excel文件。\n",
    "用google找似乎发现的成功率更高一些。\n",
    "\n",
    "我就是使用这个方法找到了这篇讲 Haigis公式参数优化的文章[Determination of Personalized IOL-Constants for the Haigis Formula under Consideration of Measurement Precision](https://journals.plos.org/plosone/article?id=10.1371/journal.pone.0158988)\n",
    "\n",
    "在Supporting Information里面，可以下载到原始的数据。好心的作者已经整理成excel文件了。\n",
    "\n",
    "* [数据1](https://doi.org/10.1371/journal.pone.0158988.s001) 植入的是博士伦 EyeCeeOne NS-60YG 人工晶体，一共75只眼。\n",
    "* [数据2](https://doi.org/10.1371/journal.pone.0158988.s002) 植入的是Alcon  Acrysof SN60WF 人工晶体，有121只眼\n",
    "\n",
    "我已经把这两个数据都下载下来，放在/data/haigis_data目录中，分别是\"S1 File.XLSX\", \"S1 File.XLSX\""
   ]
  },
  {
   "cell_type": "markdown",
   "metadata": {},
   "source": [
    "# 读取数据"
   ]
  },
  {
   "cell_type": "code",
   "execution_count": 1,
   "metadata": {},
   "outputs": [],
   "source": [
    "# Pandas and numpy for data manipulation\n",
    "import pandas as pd\n",
    "import numpy as np\n",
    "np.random.seed(42)\n",
    " \n",
    "# Matplotlib and seaborn for plotting\n",
    "import matplotlib.pyplot as plt\n",
    "%matplotlib inline\n",
    "\n",
    "import matplotlib\n",
    "matplotlib.rcParams['font.size'] = 16\n",
    "matplotlib.rcParams['figure.figsize'] = (9, 9)\n",
    "\n",
    "import seaborn as sns\n",
    "\n",
    "import os"
   ]
  },
  {
   "cell_type": "code",
   "execution_count": 2,
   "metadata": {},
   "outputs": [],
   "source": [
    "# 这里使用了一个小技巧，因为我并不知道您使用的计算机是什么系统的，所以路径使用了os.path.join进行合并。\n",
    "# pandas可以直接读取excel文件，读取成pandas数据库\n",
    "s1=pd.read_excel(os.path.join(\"data\",\"haigis_data\",\"S1 File.XLSX\"))\n",
    "# s2=pd.read_excel(os.path.join(\"data\",\"haigis_data\",\"S2 File.XLSX\"))"
   ]
  },
  {
   "cell_type": "code",
   "execution_count": 3,
   "metadata": {},
   "outputs": [
    {
     "data": {
      "text/html": [
       "<div>\n",
       "<style scoped>\n",
       "    .dataframe tbody tr th:only-of-type {\n",
       "        vertical-align: middle;\n",
       "    }\n",
       "\n",
       "    .dataframe tbody tr th {\n",
       "        vertical-align: top;\n",
       "    }\n",
       "\n",
       "    .dataframe thead th {\n",
       "        text-align: right;\n",
       "    }\n",
       "</style>\n",
       "<table border=\"1\" class=\"dataframe\">\n",
       "  <thead>\n",
       "    <tr style=\"text-align: right;\">\n",
       "      <th></th>\n",
       "      <th>Eye</th>\n",
       "      <th>AL</th>\n",
       "      <th>D1 [mm]</th>\n",
       "      <th>°</th>\n",
       "      <th>D2 [mm]</th>\n",
       "      <th>°.1</th>\n",
       "      <th>ACD</th>\n",
       "      <th>IOL power</th>\n",
       "      <th>target refraction</th>\n",
       "      <th>Unnamed: 9</th>\n",
       "      <th>refraction - 6 months postOP</th>\n",
       "      <th>Unnamed: 11</th>\n",
       "      <th>Unnamed: 12</th>\n",
       "      <th>VA</th>\n",
       "      <th>SE</th>\n",
       "      <th>Unnamed: 15</th>\n",
       "    </tr>\n",
       "  </thead>\n",
       "  <tbody>\n",
       "    <tr>\n",
       "      <th>0</th>\n",
       "      <td>OD</td>\n",
       "      <td>24.97</td>\n",
       "      <td>7.15</td>\n",
       "      <td>171.0</td>\n",
       "      <td>7.04</td>\n",
       "      <td>81.0</td>\n",
       "      <td>3.57</td>\n",
       "      <td>16.5</td>\n",
       "      <td>-2.50</td>\n",
       "      <td>NaN</td>\n",
       "      <td>-4.00</td>\n",
       "      <td>0.50</td>\n",
       "      <td>68</td>\n",
       "      <td>0.8</td>\n",
       "      <td>-3.750</td>\n",
       "      <td>EyeCee One NS-60YG</td>\n",
       "    </tr>\n",
       "    <tr>\n",
       "      <th>1</th>\n",
       "      <td>OS</td>\n",
       "      <td>21.62</td>\n",
       "      <td>7.80</td>\n",
       "      <td>95.0</td>\n",
       "      <td>7.59</td>\n",
       "      <td>5.0</td>\n",
       "      <td>2.49</td>\n",
       "      <td>29.0</td>\n",
       "      <td>-0.99</td>\n",
       "      <td>NaN</td>\n",
       "      <td>-0.75</td>\n",
       "      <td>1.50</td>\n",
       "      <td>164</td>\n",
       "      <td>0.6</td>\n",
       "      <td>0.000</td>\n",
       "      <td>EyeCee One NS-60YG</td>\n",
       "    </tr>\n",
       "    <tr>\n",
       "      <th>2</th>\n",
       "      <td>OS</td>\n",
       "      <td>26.53</td>\n",
       "      <td>8.06</td>\n",
       "      <td>10.0</td>\n",
       "      <td>7.89</td>\n",
       "      <td>100.0</td>\n",
       "      <td>3.94</td>\n",
       "      <td>17.5</td>\n",
       "      <td>-2.73</td>\n",
       "      <td>NaN</td>\n",
       "      <td>-3.25</td>\n",
       "      <td>0.75</td>\n",
       "      <td>120</td>\n",
       "      <td>1.0</td>\n",
       "      <td>-2.875</td>\n",
       "      <td>EyeCee One NS-60YG</td>\n",
       "    </tr>\n",
       "    <tr>\n",
       "      <th>3</th>\n",
       "      <td>OS</td>\n",
       "      <td>22.03</td>\n",
       "      <td>7.51</td>\n",
       "      <td>169.0</td>\n",
       "      <td>7.44</td>\n",
       "      <td>79.0</td>\n",
       "      <td>2.74</td>\n",
       "      <td>25.5</td>\n",
       "      <td>-0.48</td>\n",
       "      <td>NaN</td>\n",
       "      <td>-0.50</td>\n",
       "      <td>0.25</td>\n",
       "      <td>64</td>\n",
       "      <td>1.0</td>\n",
       "      <td>-0.375</td>\n",
       "      <td>EyeCee One NS-60YG</td>\n",
       "    </tr>\n",
       "    <tr>\n",
       "      <th>4</th>\n",
       "      <td>OD</td>\n",
       "      <td>23.05</td>\n",
       "      <td>7.99</td>\n",
       "      <td>76.0</td>\n",
       "      <td>7.88</td>\n",
       "      <td>166.0</td>\n",
       "      <td>2.94</td>\n",
       "      <td>25.0</td>\n",
       "      <td>-0.69</td>\n",
       "      <td>NaN</td>\n",
       "      <td>-0.25</td>\n",
       "      <td>0.75</td>\n",
       "      <td>169</td>\n",
       "      <td>0.4</td>\n",
       "      <td>0.125</td>\n",
       "      <td>EyeCee One NS-60YG</td>\n",
       "    </tr>\n",
       "  </tbody>\n",
       "</table>\n",
       "</div>"
      ],
      "text/plain": [
       "  Eye     AL  D1 [mm]      °  D2 [mm]    °.1   ACD  IOL power  \\\n",
       "0  OD  24.97     7.15  171.0     7.04   81.0  3.57       16.5   \n",
       "1  OS  21.62     7.80   95.0     7.59    5.0  2.49       29.0   \n",
       "2  OS  26.53     8.06   10.0     7.89  100.0  3.94       17.5   \n",
       "3  OS  22.03     7.51  169.0     7.44   79.0  2.74       25.5   \n",
       "4  OD  23.05     7.99   76.0     7.88  166.0  2.94       25.0   \n",
       "\n",
       "   target refraction  Unnamed: 9  refraction - 6 months postOP  Unnamed: 11  \\\n",
       "0              -2.50         NaN                         -4.00         0.50   \n",
       "1              -0.99         NaN                         -0.75         1.50   \n",
       "2              -2.73         NaN                         -3.25         0.75   \n",
       "3              -0.48         NaN                         -0.50         0.25   \n",
       "4              -0.69         NaN                         -0.25         0.75   \n",
       "\n",
       "  Unnamed: 12   VA     SE         Unnamed: 15  \n",
       "0          68  0.8 -3.750  EyeCee One NS-60YG  \n",
       "1         164  0.6  0.000  EyeCee One NS-60YG  \n",
       "2         120  1.0 -2.875  EyeCee One NS-60YG  \n",
       "3          64  1.0 -0.375  EyeCee One NS-60YG  \n",
       "4         169  0.4  0.125  EyeCee One NS-60YG  "
      ]
     },
     "execution_count": 3,
     "metadata": {},
     "output_type": "execute_result"
    }
   ],
   "source": [
    "s1.head()"
   ]
  },
  {
   "cell_type": "markdown",
   "metadata": {},
   "source": [
    "# 清洗数据\n",
    "\n",
    "读取进来的数据是需要清洗的。excel中有一些是空白的数据，pandas在读取时会以NaN （Not a Number）标记。有些列是不需要的，或者是空列。\n",
    "\n",
    "清洗的时候，先删除掉空列，使用[drop命令](https://pandas.pydata.org/pandas-docs/stable/reference/api/pandas.DataFrame.drop.html), 然后再使用dropna()把含有NaN的行都删掉。注意命令的顺序，如果先删除含有NaN的行，那么就没有剩下的数据了。\n",
    "\n",
    "Haigis公式并不针对散光，所以只需要保留其中的眼轴长AL，角膜曲率半径D1，角膜曲率半径D2，前房深度ACD，植入的IOL度数IOL power，和术后6个月的屈光度refraction - 6 months postOP，其他的数据列是不需要的。\n",
    "\n",
    "另外，s1表格中，单位都是以毫米记录的，而在计算过程中通常是以米作为标准单位。所以需要稍微转换一下"
   ]
  },
  {
   "cell_type": "code",
   "execution_count": 4,
   "metadata": {},
   "outputs": [],
   "source": [
    "df=pd.DataFrame()\n",
    "df['AL']=s1['AL']/1000\n",
    "df['D1']=s1['D1 [mm]']/1000\n",
    "df['D2']=s1['D2 [mm]']/1000\n",
    "df['ACD']=s1['ACD']/1000\n",
    "df['IOL power']=s1['IOL power']\n",
    "df['postOP refraction']=s1['refraction - 6 months postOP']\n",
    "df=df.dropna()"
   ]
  },
  {
   "cell_type": "markdown",
   "metadata": {},
   "source": [
    "简单浏览一下数据的概貌, 丢弃NaN数据以后，保留了69个有效的数据"
   ]
  },
  {
   "cell_type": "code",
   "execution_count": 5,
   "metadata": {},
   "outputs": [
    {
     "data": {
      "text/html": [
       "<div>\n",
       "<style scoped>\n",
       "    .dataframe tbody tr th:only-of-type {\n",
       "        vertical-align: middle;\n",
       "    }\n",
       "\n",
       "    .dataframe tbody tr th {\n",
       "        vertical-align: top;\n",
       "    }\n",
       "\n",
       "    .dataframe thead th {\n",
       "        text-align: right;\n",
       "    }\n",
       "</style>\n",
       "<table border=\"1\" class=\"dataframe\">\n",
       "  <thead>\n",
       "    <tr style=\"text-align: right;\">\n",
       "      <th></th>\n",
       "      <th>AL</th>\n",
       "      <th>D1</th>\n",
       "      <th>D2</th>\n",
       "      <th>ACD</th>\n",
       "      <th>IOL power</th>\n",
       "      <th>postOP refraction</th>\n",
       "    </tr>\n",
       "  </thead>\n",
       "  <tbody>\n",
       "    <tr>\n",
       "      <th>count</th>\n",
       "      <td>69.000000</td>\n",
       "      <td>69.000000</td>\n",
       "      <td>69.000000</td>\n",
       "      <td>69.000000</td>\n",
       "      <td>69.000000</td>\n",
       "      <td>69.000000</td>\n",
       "    </tr>\n",
       "    <tr>\n",
       "      <th>mean</th>\n",
       "      <td>0.023565</td>\n",
       "      <td>0.007726</td>\n",
       "      <td>0.007579</td>\n",
       "      <td>0.003092</td>\n",
       "      <td>21.797101</td>\n",
       "      <td>-0.815942</td>\n",
       "    </tr>\n",
       "    <tr>\n",
       "      <th>std</th>\n",
       "      <td>0.001379</td>\n",
       "      <td>0.000303</td>\n",
       "      <td>0.000305</td>\n",
       "      <td>0.000439</td>\n",
       "      <td>3.499284</td>\n",
       "      <td>1.055291</td>\n",
       "    </tr>\n",
       "    <tr>\n",
       "      <th>min</th>\n",
       "      <td>0.020340</td>\n",
       "      <td>0.007080</td>\n",
       "      <td>0.006510</td>\n",
       "      <td>0.002160</td>\n",
       "      <td>13.000000</td>\n",
       "      <td>-4.000000</td>\n",
       "    </tr>\n",
       "    <tr>\n",
       "      <th>25%</th>\n",
       "      <td>0.022740</td>\n",
       "      <td>0.007510</td>\n",
       "      <td>0.007390</td>\n",
       "      <td>0.002770</td>\n",
       "      <td>20.000000</td>\n",
       "      <td>-1.250000</td>\n",
       "    </tr>\n",
       "    <tr>\n",
       "      <th>50%</th>\n",
       "      <td>0.023260</td>\n",
       "      <td>0.007740</td>\n",
       "      <td>0.007570</td>\n",
       "      <td>0.003130</td>\n",
       "      <td>22.500000</td>\n",
       "      <td>-0.500000</td>\n",
       "    </tr>\n",
       "    <tr>\n",
       "      <th>75%</th>\n",
       "      <td>0.024230</td>\n",
       "      <td>0.007970</td>\n",
       "      <td>0.007810</td>\n",
       "      <td>0.003410</td>\n",
       "      <td>24.000000</td>\n",
       "      <td>-0.250000</td>\n",
       "    </tr>\n",
       "    <tr>\n",
       "      <th>max</th>\n",
       "      <td>0.027980</td>\n",
       "      <td>0.008420</td>\n",
       "      <td>0.008270</td>\n",
       "      <td>0.003940</td>\n",
       "      <td>30.000000</td>\n",
       "      <td>1.750000</td>\n",
       "    </tr>\n",
       "  </tbody>\n",
       "</table>\n",
       "</div>"
      ],
      "text/plain": [
       "              AL         D1         D2        ACD  IOL power  \\\n",
       "count  69.000000  69.000000  69.000000  69.000000  69.000000   \n",
       "mean    0.023565   0.007726   0.007579   0.003092  21.797101   \n",
       "std     0.001379   0.000303   0.000305   0.000439   3.499284   \n",
       "min     0.020340   0.007080   0.006510   0.002160  13.000000   \n",
       "25%     0.022740   0.007510   0.007390   0.002770  20.000000   \n",
       "50%     0.023260   0.007740   0.007570   0.003130  22.500000   \n",
       "75%     0.024230   0.007970   0.007810   0.003410  24.000000   \n",
       "max     0.027980   0.008420   0.008270   0.003940  30.000000   \n",
       "\n",
       "       postOP refraction  \n",
       "count          69.000000  \n",
       "mean           -0.815942  \n",
       "std             1.055291  \n",
       "min            -4.000000  \n",
       "25%            -1.250000  \n",
       "50%            -0.500000  \n",
       "75%            -0.250000  \n",
       "max             1.750000  "
      ]
     },
     "execution_count": 5,
     "metadata": {},
     "output_type": "execute_result"
    }
   ],
   "source": [
    "df.describe()"
   ]
  },
  {
   "cell_type": "code",
   "execution_count": 6,
   "metadata": {},
   "outputs": [
    {
     "data": {
      "image/png": "[encoded data removed]",
      "text/plain": [
       "<Figure size 432x288 with 6 Axes>"
      ]
     },
     "metadata": {
      "needs_background": "light"
     },
     "output_type": "display_data"
    }
   ],
   "source": [
    "f, axes = plt.subplots(len(df.columns), 1)\n",
    "\n",
    "for col,ax in zip(df.columns,axes):\n",
    "    sns.distplot(df[col],ax=ax)"
   ]
  },
  {
   "cell_type": "markdown",
   "metadata": {},
   "source": [
    "# Haigis公式\n",
    "\n",
    "这里从文献的引言部分讲起, 请参考[原文](https://journals.plos.org/plosone/article?id=10.1371/journal.pone.0158988#sec001)\n",
    "\n",
    "Haigis公式\n",
    "$$\n",
    "D=\\frac{n}{L-d}-\\frac{n}{\\frac{R_{x}}{K_{m}+\\frac{R_{x}}{1-R_{x} \\cdot 0.012 m}}-d} \\tag{1}\n",
    "$$\n",
    "\n",
    "是基于一个简化的角膜薄透镜模型，该模型仅使用角膜前表面的角膜曲率值来计算有效角膜屈光力 Km，使用 nc = 1.332的平均角膜屈光指数进行计算。 \n",
    "\n",
    "* Rx是计划屈光度。\n",
    "* 术后光学前房深度 d 不一定与术后生理性前房深度相对应。\n",
    "* 房水的折射率n = 1.336，\n",
    "* ACD是有晶体眼时的前房深度，\n",
    "* L是眼轴长度\n",
    "\n",
    "**预测**的光学前房深度d，由下面公式给出：\n",
    "$$\n",
    "d=a_{0}+A C D \\cdot a_{1}+L \\cdot a_{2} \\tag{2}\n",
    "$$\n",
    "\n",
    "其中Haigis公式中的a0,a1,a2是IOL型号特异性的，每个厂家每种型号不一定相同。\n",
    "\n",
    "术后**实际**光学前房深度可通过求解方程 1 的 d，推导得出, 将方程 1 中计划的屈光度 Rx 替换为术后实际的屈光度 F。 \n",
    "$$\n",
    "z=K_{m}+\\frac{F}{1-F \\cdot 0.012 \\mathrm{m}} \\tag{3}\n",
    "$$\n",
    "\n",
    "得到化简的方程1\n",
    "\n",
    "$$\n",
    "d=\\frac{1}{2}\\left(L+\\frac{n}{z}\\right)-\\sqrt{\\frac{1}{4}\\left(L+\\frac{n}{z}\\right)^{2}-\\left(L \\frac{n}{z}-\\frac{n^{2}}{D z}+n \\frac{L}{D}\\right)} \\tag{4}\n",
    "$$\n",
    "\n",
    "方程4得到的d，应该和方程2得到的d之间误差尽量小，所谓优化参数，就是找到合适的$a_{0},a_{1},a_{2}$, 使得方程4-方程2的平方和最小\n",
    "\n",
    "$$\n",
    "\\chi_{\\mathrm{olsq}}^{2}=\\sum_{i}\\left(a_{0}+A C D_{i} \\cdot a_{1}+L_{i} \\cdot a_{2}-d_{i}\\right)^{2}\n",
    "$$\n",
    "\n"
   ]
  },
  {
   "cell_type": "markdown",
   "metadata": {},
   "source": [
    "# 线性回归\n",
    "\n",
    "其实上面就是个线性回归的问题，也就是求解 Y = K X + b\n"
   ]
  },
  {
   "cell_type": "code",
   "execution_count": 7,
   "metadata": {},
   "outputs": [],
   "source": [
    "def Km(D1,D2,nc):\n",
    "    K1=(nc-1)/D1\n",
    "    K2=(nc-1)/D2\n",
    "    return (K1+K2)/2\n",
    "\n",
    "def z(Km,F):\n",
    "    return Km+F/(1-F*0.012)\n",
    "    \n",
    "def real_d(L,n,z,D):\n",
    "    d_part_1=1/2*(L+n/z)\n",
    "    d_part_2=1/4*(L+n/z)**2\n",
    "    d_part_3=L*n/z-n**2/(D*z)+n*L/D\n",
    "    d = d_part_1-np.sqrt(d_part_2-d_part_3)\n",
    "    return d"
   ]
  },
  {
   "cell_type": "code",
   "execution_count": 8,
   "metadata": {},
   "outputs": [],
   "source": [
    "nc=1.332\n",
    "K_=Km(df['D1'],df['D2'], nc)\n",
    "F=df['postOP refraction']\n",
    "z_=z(K_,F)\n",
    "L=df['AL']\n",
    "ACD = df['ACD']\n",
    "n=1.336\n",
    "D=df['IOL power']\n",
    "df['real_d']=real_d(L,n,z_,D)"
   ]
  },
  {
   "cell_type": "code",
   "execution_count": 9,
   "metadata": {},
   "outputs": [
    {
     "data": {
      "text/plain": [
       "<seaborn.axisgrid.JointGrid at 0x1a1c466fd0>"
      ]
     },
     "execution_count": 9,
     "metadata": {},
     "output_type": "execute_result"
    },
    {
     "data": {
      "image/png": "[encoded data removed]",
      "text/plain": [
       "<Figure size 504x504 with 3 Axes>"
      ]
     },
     "metadata": {
      "needs_background": "light"
     },
     "output_type": "display_data"
    }
   ],
   "source": [
    "sns.jointplot(df['ACD'], df['real_d'], kind=\"kde\", height=7, space=0)"
   ]
  },
  {
   "cell_type": "code",
   "execution_count": 10,
   "metadata": {},
   "outputs": [
    {
     "data": {
      "text/plain": [
       "<seaborn.axisgrid.JointGrid at 0x1a1c5e49e8>"
      ]
     },
     "execution_count": 10,
     "metadata": {},
     "output_type": "execute_result"
    },
    {
     "data": {
      "image/png": "[encoded data removed]",
      "text/plain": [
       "<Figure size 504x504 with 3 Axes>"
      ]
     },
     "metadata": {
      "needs_background": "light"
     },
     "output_type": "display_data"
    }
   ],
   "source": [
    "sns.jointplot(df['AL'], df['real_d'], kind=\"kde\", height=7, space=0)"
   ]
  },
  {
   "cell_type": "code",
   "execution_count": 11,
   "metadata": {},
   "outputs": [
    {
     "name": "stderr",
     "output_type": "stream",
     "text": [
      "WARNING (theano.configdefaults): install mkl with `conda install mkl-service`: No module named 'mkl'\n"
     ]
    }
   ],
   "source": [
    "%matplotlib inline\n",
    "\n",
    "from pymc3 import  *\n",
    "\n",
    "import numpy as np\n",
    "import matplotlib.pyplot as plt"
   ]
  },
  {
   "cell_type": "code",
   "execution_count": 13,
   "metadata": {},
   "outputs": [
    {
     "data": {
      "text/html": [
       "<div>\n",
       "<style scoped>\n",
       "    .dataframe tbody tr th:only-of-type {\n",
       "        vertical-align: middle;\n",
       "    }\n",
       "\n",
       "    .dataframe tbody tr th {\n",
       "        vertical-align: top;\n",
       "    }\n",
       "\n",
       "    .dataframe thead th {\n",
       "        text-align: right;\n",
       "    }\n",
       "</style>\n",
       "<table border=\"1\" class=\"dataframe\">\n",
       "  <thead>\n",
       "    <tr style=\"text-align: right;\">\n",
       "      <th></th>\n",
       "      <th>AL</th>\n",
       "      <th>D1</th>\n",
       "      <th>D2</th>\n",
       "      <th>ACD</th>\n",
       "      <th>IOL power</th>\n",
       "      <th>postOP refraction</th>\n",
       "      <th>real_d</th>\n",
       "    </tr>\n",
       "  </thead>\n",
       "  <tbody>\n",
       "    <tr>\n",
       "      <th>0</th>\n",
       "      <td>0.02497</td>\n",
       "      <td>0.00715</td>\n",
       "      <td>0.00704</td>\n",
       "      <td>0.00357</td>\n",
       "      <td>16.5</td>\n",
       "      <td>-4.00</td>\n",
       "      <td>0.005568</td>\n",
       "    </tr>\n",
       "    <tr>\n",
       "      <th>1</th>\n",
       "      <td>0.02162</td>\n",
       "      <td>0.00780</td>\n",
       "      <td>0.00759</td>\n",
       "      <td>0.00249</td>\n",
       "      <td>29.0</td>\n",
       "      <td>-0.75</td>\n",
       "      <td>0.004660</td>\n",
       "    </tr>\n",
       "    <tr>\n",
       "      <th>2</th>\n",
       "      <td>0.02653</td>\n",
       "      <td>0.00806</td>\n",
       "      <td>0.00789</td>\n",
       "      <td>0.00394</td>\n",
       "      <td>17.5</td>\n",
       "      <td>-3.25</td>\n",
       "      <td>0.005314</td>\n",
       "    </tr>\n",
       "    <tr>\n",
       "      <th>3</th>\n",
       "      <td>0.02203</td>\n",
       "      <td>0.00751</td>\n",
       "      <td>0.00744</td>\n",
       "      <td>0.00274</td>\n",
       "      <td>25.5</td>\n",
       "      <td>-0.50</td>\n",
       "      <td>0.004844</td>\n",
       "    </tr>\n",
       "    <tr>\n",
       "      <th>4</th>\n",
       "      <td>0.02305</td>\n",
       "      <td>0.00799</td>\n",
       "      <td>0.00788</td>\n",
       "      <td>0.00294</td>\n",
       "      <td>25.0</td>\n",
       "      <td>-0.25</td>\n",
       "      <td>0.005106</td>\n",
       "    </tr>\n",
       "  </tbody>\n",
       "</table>\n",
       "</div>"
      ],
      "text/plain": [
       "        AL       D1       D2      ACD  IOL power  postOP refraction    real_d\n",
       "0  0.02497  0.00715  0.00704  0.00357       16.5              -4.00  0.005568\n",
       "1  0.02162  0.00780  0.00759  0.00249       29.0              -0.75  0.004660\n",
       "2  0.02653  0.00806  0.00789  0.00394       17.5              -3.25  0.005314\n",
       "3  0.02203  0.00751  0.00744  0.00274       25.5              -0.50  0.004844\n",
       "4  0.02305  0.00799  0.00788  0.00294       25.0              -0.25  0.005106"
      ]
     },
     "execution_count": 13,
     "metadata": {},
     "output_type": "execute_result"
    }
   ],
   "source": [
    "df.head()"
   ]
  },
  {
   "cell_type": "code",
   "execution_count": 12,
   "metadata": {},
   "outputs": [],
   "source": [
    "x=np.asarray([ACD.values, L.values]).T\n",
    "y=df['real_d'].values\n",
    "data = {'x': x, 'y': y}"
   ]
  },
  {
   "cell_type": "code",
   "execution_count": 37,
   "metadata": {},
   "outputs": [
    {
     "data": {
      "text/plain": [
       "0.0004388668758260951"
      ]
     },
     "execution_count": 37,
     "metadata": {},
     "output_type": "execute_result"
    }
   ],
   "source": [
    "df.ACD.std()"
   ]
  },
  {
   "cell_type": "code",
   "execution_count": 39,
   "metadata": {},
   "outputs": [
    {
     "name": "stderr",
     "output_type": "stream",
     "text": [
      "Auto-assigning NUTS sampler...\n",
      "Initializing NUTS using jitter+adapt_diag...\n",
      "Multiprocess sampling (2 chains in 2 jobs)\n",
      "NUTS: [sd, AL, ACD, Intercept]\n",
      "Sampling 2 chains: 100%|██████████| 5000/5000 [01:21<00:00, 61.17draws/s]\n",
      "The chain contains only diverging samples. The model is probably misspecified.\n",
      "The acceptance probability does not match the target. It is 0.0, but should be close to 0.8. Try to increase the number of tuning steps.\n",
      "The acceptance probability does not match the target. It is 0.9987245213342595, but should be close to 0.8. Try to increase the number of tuning steps.\n",
      "The gelman-rubin statistic is larger than 1.4 for some parameters. The sampler did not converge.\n",
      "The estimated number of effective samples is smaller than 200 for some parameters.\n"
     ]
    }
   ],
   "source": [
    "with Model() as model:\n",
    "    priors = {\n",
    "          'real_d': Normal.dist(mu=df.real_d.mean(), sd=df.real_d.std()),\n",
    "          'ACD': Normal.dist(mu=df.ACD.mean(), sd=9.4e-5),\n",
    "          'AL': Normal.dist(mu=df.AL.mean(), sd= 10e-5)\n",
    "    }\n",
    "    GLM.from_formula('real_d ~ ACD+AL', df, priors=priors)\n",
    "    trace = sample(2000, cores=2)"
   ]
  },
  {
   "cell_type": "code",
   "execution_count": 15,
   "metadata": {},
   "outputs": [
    {
     "name": "stderr",
     "output_type": "stream",
     "text": [
      "Auto-assigning NUTS sampler...\n",
      "Initializing NUTS using jitter+adapt_diag...\n",
      "Multiprocess sampling (2 chains in 2 jobs)\n",
      "NUTS: [sigma, AL, ACD, Intercept]\n",
      "Sampling 2 chains: 100%|██████████| 5000/5000 [00:43<00:00, 75.81draws/s]\n",
      "The acceptance probability does not match the target. It is 0.9178898715861374, but should be close to 0.8. Try to increase the number of tuning steps.\n"
     ]
    }
   ],
   "source": [
    "# with Model() as model:\n",
    "#     lm = glm.LinearComponent.from_formula('real_d ~ ACD+AL', df)\n",
    "#     sigma = Uniform('sigma', 0, 10)\n",
    "#     y_obs = Normal('y_obs', mu=lm.y_est, sd=sigma, observed=df.real_d)\n",
    "#     trace = sample(2000, cores=2)\n"
   ]
  },
  {
   "cell_type": "code",
   "execution_count": 40,
   "metadata": {},
   "outputs": [
    {
     "name": "stderr",
     "output_type": "stream",
     "text": [
      "/Users/goldengrape/anaconda3/envs/blog/lib/python3.6/site-packages/matplotlib/tight_layout.py:199: UserWarning: Tight layout not applied. tight_layout cannot make axes width small enough to accommodate all axes decorations\n",
      "  warnings.warn('Tight layout not applied. '\n"
     ]
    },
    {
     "data": {
      "text/plain": [
       "array([[<matplotlib.axes._subplots.AxesSubplot object at 0x1c20d7b240>,\n",
       "        <matplotlib.axes._subplots.AxesSubplot object at 0x1c20d9d470>],\n",
       "       [<matplotlib.axes._subplots.AxesSubplot object at 0x1c20dc0438>,\n",
       "        <matplotlib.axes._subplots.AxesSubplot object at 0x1c20de3668>],\n",
       "       [<matplotlib.axes._subplots.AxesSubplot object at 0x1c20e09898>,\n",
       "        <matplotlib.axes._subplots.AxesSubplot object at 0x1c20e2eac8>],\n",
       "       [<matplotlib.axes._subplots.AxesSubplot object at 0x1c20e56cf8>,\n",
       "        <matplotlib.axes._subplots.AxesSubplot object at 0x1c20e81ef0>]],\n",
       "      dtype=object)"
      ]
     },
     "execution_count": 40,
     "metadata": {},
     "output_type": "execute_result"
    },
    {
     "ename": "ValueError",
     "evalue": "Image size of 269568x482 pixels is too large. It must be less than 2^16 in each direction.",
     "output_type": "error",
     "traceback": [
      "\u001b[0;31m---------------------------------------------------------------------------\u001b[0m",
      "\u001b[0;31mValueError\u001b[0m                                Traceback (most recent call last)",
      "\u001b[0;32m~/anaconda3/envs/blog/lib/python3.6/site-packages/IPython/core/formatters.py\u001b[0m in \u001b[0;36m__call__\u001b[0;34m(self, obj)\u001b[0m\n\u001b[1;32m    339\u001b[0m                 \u001b[0;32mpass\u001b[0m\u001b[0;34m\u001b[0m\u001b[0;34m\u001b[0m\u001b[0m\n\u001b[1;32m    340\u001b[0m             \u001b[0;32melse\u001b[0m\u001b[0;34m:\u001b[0m\u001b[0;34m\u001b[0m\u001b[0;34m\u001b[0m\u001b[0m\n\u001b[0;32m--> 341\u001b[0;31m                 \u001b[0;32mreturn\u001b[0m \u001b[0mprinter\u001b[0m\u001b[0;34m(\u001b[0m\u001b[0mobj\u001b[0m\u001b[0;34m)\u001b[0m\u001b[0;34m\u001b[0m\u001b[0;34m\u001b[0m\u001b[0m\n\u001b[0m\u001b[1;32m    342\u001b[0m             \u001b[0;31m# Finally look for special method names\u001b[0m\u001b[0;34m\u001b[0m\u001b[0;34m\u001b[0m\u001b[0;34m\u001b[0m\u001b[0m\n\u001b[1;32m    343\u001b[0m             \u001b[0mmethod\u001b[0m \u001b[0;34m=\u001b[0m \u001b[0mget_real_method\u001b[0m\u001b[0;34m(\u001b[0m\u001b[0mobj\u001b[0m\u001b[0;34m,\u001b[0m \u001b[0mself\u001b[0m\u001b[0;34m.\u001b[0m\u001b[0mprint_method\u001b[0m\u001b[0;34m)\u001b[0m\u001b[0;34m\u001b[0m\u001b[0;34m\u001b[0m\u001b[0m\n",
      "\u001b[0;32m~/anaconda3/envs/blog/lib/python3.6/site-packages/IPython/core/pylabtools.py\u001b[0m in \u001b[0;36m<lambda>\u001b[0;34m(fig)\u001b[0m\n\u001b[1;32m    242\u001b[0m \u001b[0;34m\u001b[0m\u001b[0m\n\u001b[1;32m    243\u001b[0m     \u001b[0;32mif\u001b[0m \u001b[0;34m'png'\u001b[0m \u001b[0;32min\u001b[0m \u001b[0mformats\u001b[0m\u001b[0;34m:\u001b[0m\u001b[0;34m\u001b[0m\u001b[0;34m\u001b[0m\u001b[0m\n\u001b[0;32m--> 244\u001b[0;31m         \u001b[0mpng_formatter\u001b[0m\u001b[0;34m.\u001b[0m\u001b[0mfor_type\u001b[0m\u001b[0;34m(\u001b[0m\u001b[0mFigure\u001b[0m\u001b[0;34m,\u001b[0m \u001b[0;32mlambda\u001b[0m \u001b[0mfig\u001b[0m\u001b[0;34m:\u001b[0m \u001b[0mprint_figure\u001b[0m\u001b[0;34m(\u001b[0m\u001b[0mfig\u001b[0m\u001b[0;34m,\u001b[0m \u001b[0;34m'png'\u001b[0m\u001b[0;34m,\u001b[0m \u001b[0;34m**\u001b[0m\u001b[0mkwargs\u001b[0m\u001b[0;34m)\u001b[0m\u001b[0;34m)\u001b[0m\u001b[0;34m\u001b[0m\u001b[0;34m\u001b[0m\u001b[0m\n\u001b[0m\u001b[1;32m    245\u001b[0m     \u001b[0;32mif\u001b[0m \u001b[0;34m'retina'\u001b[0m \u001b[0;32min\u001b[0m \u001b[0mformats\u001b[0m \u001b[0;32mor\u001b[0m \u001b[0;34m'png2x'\u001b[0m \u001b[0;32min\u001b[0m \u001b[0mformats\u001b[0m\u001b[0;34m:\u001b[0m\u001b[0;34m\u001b[0m\u001b[0;34m\u001b[0m\u001b[0m\n\u001b[1;32m    246\u001b[0m         \u001b[0mpng_formatter\u001b[0m\u001b[0;34m.\u001b[0m\u001b[0mfor_type\u001b[0m\u001b[0;34m(\u001b[0m\u001b[0mFigure\u001b[0m\u001b[0;34m,\u001b[0m \u001b[0;32mlambda\u001b[0m \u001b[0mfig\u001b[0m\u001b[0;34m:\u001b[0m \u001b[0mretina_figure\u001b[0m\u001b[0;34m(\u001b[0m\u001b[0mfig\u001b[0m\u001b[0;34m,\u001b[0m \u001b[0;34m**\u001b[0m\u001b[0mkwargs\u001b[0m\u001b[0;34m)\u001b[0m\u001b[0;34m)\u001b[0m\u001b[0;34m\u001b[0m\u001b[0;34m\u001b[0m\u001b[0m\n",
      "\u001b[0;32m~/anaconda3/envs/blog/lib/python3.6/site-packages/IPython/core/pylabtools.py\u001b[0m in \u001b[0;36mprint_figure\u001b[0;34m(fig, fmt, bbox_inches, **kwargs)\u001b[0m\n\u001b[1;32m    126\u001b[0m \u001b[0;34m\u001b[0m\u001b[0m\n\u001b[1;32m    127\u001b[0m     \u001b[0mbytes_io\u001b[0m \u001b[0;34m=\u001b[0m \u001b[0mBytesIO\u001b[0m\u001b[0;34m(\u001b[0m\u001b[0;34m)\u001b[0m\u001b[0;34m\u001b[0m\u001b[0;34m\u001b[0m\u001b[0m\n\u001b[0;32m--> 128\u001b[0;31m     \u001b[0mfig\u001b[0m\u001b[0;34m.\u001b[0m\u001b[0mcanvas\u001b[0m\u001b[0;34m.\u001b[0m\u001b[0mprint_figure\u001b[0m\u001b[0;34m(\u001b[0m\u001b[0mbytes_io\u001b[0m\u001b[0;34m,\u001b[0m \u001b[0;34m**\u001b[0m\u001b[0mkw\u001b[0m\u001b[0;34m)\u001b[0m\u001b[0;34m\u001b[0m\u001b[0;34m\u001b[0m\u001b[0m\n\u001b[0m\u001b[1;32m    129\u001b[0m     \u001b[0mdata\u001b[0m \u001b[0;34m=\u001b[0m \u001b[0mbytes_io\u001b[0m\u001b[0;34m.\u001b[0m\u001b[0mgetvalue\u001b[0m\u001b[0;34m(\u001b[0m\u001b[0;34m)\u001b[0m\u001b[0;34m\u001b[0m\u001b[0;34m\u001b[0m\u001b[0m\n\u001b[1;32m    130\u001b[0m     \u001b[0;32mif\u001b[0m \u001b[0mfmt\u001b[0m \u001b[0;34m==\u001b[0m \u001b[0;34m'svg'\u001b[0m\u001b[0;34m:\u001b[0m\u001b[0;34m\u001b[0m\u001b[0;34m\u001b[0m\u001b[0m\n",
      "\u001b[0;32m~/anaconda3/envs/blog/lib/python3.6/site-packages/matplotlib/backend_bases.py\u001b[0m in \u001b[0;36mprint_figure\u001b[0;34m(self, filename, dpi, facecolor, edgecolor, orientation, format, bbox_inches, **kwargs)\u001b[0m\n\u001b[1;32m   2073\u001b[0m                     \u001b[0morientation\u001b[0m\u001b[0;34m=\u001b[0m\u001b[0morientation\u001b[0m\u001b[0;34m,\u001b[0m\u001b[0;34m\u001b[0m\u001b[0;34m\u001b[0m\u001b[0m\n\u001b[1;32m   2074\u001b[0m                     \u001b[0mbbox_inches_restore\u001b[0m\u001b[0;34m=\u001b[0m\u001b[0m_bbox_inches_restore\u001b[0m\u001b[0;34m,\u001b[0m\u001b[0;34m\u001b[0m\u001b[0;34m\u001b[0m\u001b[0m\n\u001b[0;32m-> 2075\u001b[0;31m                     **kwargs)\n\u001b[0m\u001b[1;32m   2076\u001b[0m             \u001b[0;32mfinally\u001b[0m\u001b[0;34m:\u001b[0m\u001b[0;34m\u001b[0m\u001b[0;34m\u001b[0m\u001b[0m\n\u001b[1;32m   2077\u001b[0m                 \u001b[0;32mif\u001b[0m \u001b[0mbbox_inches\u001b[0m \u001b[0;32mand\u001b[0m \u001b[0mrestore_bbox\u001b[0m\u001b[0;34m:\u001b[0m\u001b[0;34m\u001b[0m\u001b[0;34m\u001b[0m\u001b[0m\n",
      "\u001b[0;32m~/anaconda3/envs/blog/lib/python3.6/site-packages/matplotlib/backends/backend_agg.py\u001b[0m in \u001b[0;36mprint_png\u001b[0;34m(self, filename_or_obj, *args, **kwargs)\u001b[0m\n\u001b[1;32m    508\u001b[0m \u001b[0;34m\u001b[0m\u001b[0m\n\u001b[1;32m    509\u001b[0m         \"\"\"\n\u001b[0;32m--> 510\u001b[0;31m         \u001b[0mFigureCanvasAgg\u001b[0m\u001b[0;34m.\u001b[0m\u001b[0mdraw\u001b[0m\u001b[0;34m(\u001b[0m\u001b[0mself\u001b[0m\u001b[0;34m)\u001b[0m\u001b[0;34m\u001b[0m\u001b[0;34m\u001b[0m\u001b[0m\n\u001b[0m\u001b[1;32m    511\u001b[0m         \u001b[0mrenderer\u001b[0m \u001b[0;34m=\u001b[0m \u001b[0mself\u001b[0m\u001b[0;34m.\u001b[0m\u001b[0mget_renderer\u001b[0m\u001b[0;34m(\u001b[0m\u001b[0;34m)\u001b[0m\u001b[0;34m\u001b[0m\u001b[0;34m\u001b[0m\u001b[0m\n\u001b[1;32m    512\u001b[0m \u001b[0;34m\u001b[0m\u001b[0m\n",
      "\u001b[0;32m~/anaconda3/envs/blog/lib/python3.6/site-packages/matplotlib/backends/backend_agg.py\u001b[0m in \u001b[0;36mdraw\u001b[0;34m(self)\u001b[0m\n\u001b[1;32m    394\u001b[0m         \u001b[0mDraw\u001b[0m \u001b[0mthe\u001b[0m \u001b[0mfigure\u001b[0m \u001b[0musing\u001b[0m \u001b[0mthe\u001b[0m \u001b[0mrenderer\u001b[0m\u001b[0;34m.\u001b[0m\u001b[0;34m\u001b[0m\u001b[0;34m\u001b[0m\u001b[0m\n\u001b[1;32m    395\u001b[0m         \"\"\"\n\u001b[0;32m--> 396\u001b[0;31m         \u001b[0mself\u001b[0m\u001b[0;34m.\u001b[0m\u001b[0mrenderer\u001b[0m \u001b[0;34m=\u001b[0m \u001b[0mself\u001b[0m\u001b[0;34m.\u001b[0m\u001b[0mget_renderer\u001b[0m\u001b[0;34m(\u001b[0m\u001b[0mcleared\u001b[0m\u001b[0;34m=\u001b[0m\u001b[0;32mTrue\u001b[0m\u001b[0;34m)\u001b[0m\u001b[0;34m\u001b[0m\u001b[0;34m\u001b[0m\u001b[0m\n\u001b[0m\u001b[1;32m    397\u001b[0m         \u001b[0;31m# acquire a lock on the shared font cache\u001b[0m\u001b[0;34m\u001b[0m\u001b[0;34m\u001b[0m\u001b[0;34m\u001b[0m\u001b[0m\n\u001b[1;32m    398\u001b[0m         \u001b[0mRendererAgg\u001b[0m\u001b[0;34m.\u001b[0m\u001b[0mlock\u001b[0m\u001b[0;34m.\u001b[0m\u001b[0macquire\u001b[0m\u001b[0;34m(\u001b[0m\u001b[0;34m)\u001b[0m\u001b[0;34m\u001b[0m\u001b[0;34m\u001b[0m\u001b[0m\n",
      "\u001b[0;32m~/anaconda3/envs/blog/lib/python3.6/site-packages/matplotlib/backends/backend_agg.py\u001b[0m in \u001b[0;36mget_renderer\u001b[0;34m(self, cleared)\u001b[0m\n\u001b[1;32m    415\u001b[0m \u001b[0;34m\u001b[0m\u001b[0m\n\u001b[1;32m    416\u001b[0m         \u001b[0;32mif\u001b[0m \u001b[0mneed_new_renderer\u001b[0m\u001b[0;34m:\u001b[0m\u001b[0;34m\u001b[0m\u001b[0;34m\u001b[0m\u001b[0m\n\u001b[0;32m--> 417\u001b[0;31m             \u001b[0mself\u001b[0m\u001b[0;34m.\u001b[0m\u001b[0mrenderer\u001b[0m \u001b[0;34m=\u001b[0m \u001b[0mRendererAgg\u001b[0m\u001b[0;34m(\u001b[0m\u001b[0mw\u001b[0m\u001b[0;34m,\u001b[0m \u001b[0mh\u001b[0m\u001b[0;34m,\u001b[0m \u001b[0mself\u001b[0m\u001b[0;34m.\u001b[0m\u001b[0mfigure\u001b[0m\u001b[0;34m.\u001b[0m\u001b[0mdpi\u001b[0m\u001b[0;34m)\u001b[0m\u001b[0;34m\u001b[0m\u001b[0;34m\u001b[0m\u001b[0m\n\u001b[0m\u001b[1;32m    418\u001b[0m             \u001b[0mself\u001b[0m\u001b[0;34m.\u001b[0m\u001b[0m_lastKey\u001b[0m \u001b[0;34m=\u001b[0m \u001b[0mkey\u001b[0m\u001b[0;34m\u001b[0m\u001b[0;34m\u001b[0m\u001b[0m\n\u001b[1;32m    419\u001b[0m         \u001b[0;32melif\u001b[0m \u001b[0mcleared\u001b[0m\u001b[0;34m:\u001b[0m\u001b[0;34m\u001b[0m\u001b[0;34m\u001b[0m\u001b[0m\n",
      "\u001b[0;32m~/anaconda3/envs/blog/lib/python3.6/site-packages/matplotlib/backends/backend_agg.py\u001b[0m in \u001b[0;36m__init__\u001b[0;34m(self, width, height, dpi)\u001b[0m\n\u001b[1;32m     85\u001b[0m         \u001b[0mself\u001b[0m\u001b[0;34m.\u001b[0m\u001b[0mwidth\u001b[0m \u001b[0;34m=\u001b[0m \u001b[0mwidth\u001b[0m\u001b[0;34m\u001b[0m\u001b[0;34m\u001b[0m\u001b[0m\n\u001b[1;32m     86\u001b[0m         \u001b[0mself\u001b[0m\u001b[0;34m.\u001b[0m\u001b[0mheight\u001b[0m \u001b[0;34m=\u001b[0m \u001b[0mheight\u001b[0m\u001b[0;34m\u001b[0m\u001b[0;34m\u001b[0m\u001b[0m\n\u001b[0;32m---> 87\u001b[0;31m         \u001b[0mself\u001b[0m\u001b[0;34m.\u001b[0m\u001b[0m_renderer\u001b[0m \u001b[0;34m=\u001b[0m \u001b[0m_RendererAgg\u001b[0m\u001b[0;34m(\u001b[0m\u001b[0mint\u001b[0m\u001b[0;34m(\u001b[0m\u001b[0mwidth\u001b[0m\u001b[0;34m)\u001b[0m\u001b[0;34m,\u001b[0m \u001b[0mint\u001b[0m\u001b[0;34m(\u001b[0m\u001b[0mheight\u001b[0m\u001b[0;34m)\u001b[0m\u001b[0;34m,\u001b[0m \u001b[0mdpi\u001b[0m\u001b[0;34m)\u001b[0m\u001b[0;34m\u001b[0m\u001b[0;34m\u001b[0m\u001b[0m\n\u001b[0m\u001b[1;32m     88\u001b[0m         \u001b[0mself\u001b[0m\u001b[0;34m.\u001b[0m\u001b[0m_filter_renderers\u001b[0m \u001b[0;34m=\u001b[0m \u001b[0;34m[\u001b[0m\u001b[0;34m]\u001b[0m\u001b[0;34m\u001b[0m\u001b[0;34m\u001b[0m\u001b[0m\n\u001b[1;32m     89\u001b[0m \u001b[0;34m\u001b[0m\u001b[0m\n",
      "\u001b[0;31mValueError\u001b[0m: Image size of 269568x482 pixels is too large. It must be less than 2^16 in each direction."
     ]
    },
    {
     "data": {
      "text/plain": [
       "<Figure size 864x576 with 8 Axes>"
      ]
     },
     "metadata": {
      "needs_background": "light"
     },
     "output_type": "display_data"
    }
   ],
   "source": [
    "traceplot(trace)"
   ]
  },
  {
   "cell_type": "code",
   "execution_count": 41,
   "metadata": {},
   "outputs": [
    {
     "name": "stdout",
     "output_type": "stream",
     "text": [
      "a0=0.004494105917341967, 95% CI (0.004248810605595004,0.00473940122908893)\n",
      "a1=0.0031200890964775264, 95% CI (0.0029762217878275305,0.0032639564051275224)\n",
      "a2=0.023505824526418053, 95% CI (0.02331571680032767,0.023695932252508437)\n"
     ]
    }
   ],
   "source": [
    "print(\"a0={}, 95% CI ({},{})\".format(\n",
    "    np.mean(trace['Intercept']),\n",
    "    np.mean(trace['Intercept'])-2*np.std(trace['Intercept']),\n",
    "    np.mean(trace['Intercept'])+2*np.std(trace['Intercept'])))\n",
    "\n",
    "print(\"a1={}, 95% CI ({},{})\".format(\n",
    "    np.mean(trace['ACD']),\n",
    "    np.mean(trace['ACD'])-2*np.std(trace['ACD']),\n",
    "    np.mean(trace['ACD'])+2*np.std(trace['ACD'])))\n",
    "\n",
    "print(\"a2={}, 95% CI ({},{})\".format(\n",
    "    np.mean(trace['AL']),\n",
    "    np.mean(trace['AL'])-2*np.std(trace['AL']),\n",
    "    np.mean(trace['AL'])+2*np.std(trace['AL'])))\n",
    "\n",
    "\n",
    "# print('a1=',np.mean(trace['ACD']), 'std=',np.std(trace['ACD']))\n",
    "# print('a2=',np.mean(trace['AL']), 'std=',np.std(trace['AL']))\n"
   ]
  },
  {
   "cell_type": "code",
   "execution_count": null,
   "metadata": {},
   "outputs": [],
   "source": []
  }
 ],
 "metadata": {
  "kernelspec": {
   "display_name": "Python 3",
   "language": "python",
   "name": "python3"
  },
  "language_info": {
   "codemirror_mode": {
    "name": "ipython",
    "version": 3
   },
   "file_extension": ".py",
   "mimetype": "text/x-python",
   "name": "python",
   "nbconvert_exporter": "python",
   "pygments_lexer": "ipython3",
   "version": "3.6.8"
  }
 },
 "nbformat": 4,
 "nbformat_minor": 2
}
