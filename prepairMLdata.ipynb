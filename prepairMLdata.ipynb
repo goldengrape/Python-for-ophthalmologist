{
 "cells": [
  {
   "cell_type": "markdown",
   "metadata": {
    "collapsed": true
   },
   "source": [
    "# 生成随机数据\n",
    "\n",
    "利用SRK/T公式, 产生大量的IOL数据, 用来进行机器学习训练用. \n",
    "如果是临床病人, 那么术前应该取得的数据有: \n",
    "* A常数\n",
    "* 角膜曲率K1, K2\n",
    "* 眼轴长L\n",
    "* 目标屈光度REF\n",
    "\n",
    "术中假定按照SRK-II植入了IOL\n",
    "* IOL实际植入数据P\n",
    "\n",
    "术后3个月, 屈光稳定, 重新验光\n",
    "* 术后屈光度R, 用SRKT公式算出Pr-P+随机误差\n",
    "* 但有很多病人其实术后没什么不满意, 于是失访了, 我们假定术后验光<=0.75D就不来了, 我们只好假定验光为正视眼, 或者正视眼医生也没留下处方记录. \n",
    "* 还有一部分是随机失访\n"
   ]
  },
  {
   "cell_type": "code",
   "execution_count": 1,
   "metadata": {
    "ExecuteTime": {
     "end_time": "2017-10-26T01:50:21.933554Z",
     "start_time": "2017-10-26T01:50:20.214155Z"
    },
    "collapsed": true
   },
   "outputs": [],
   "source": [
    "import pandas as pd\n",
    "from pandas import DataFrame\n",
    "import numpy as np\n",
    "import os\n",
    "from IOLfomular import testdata,SRK_2,SRK_T\n"
   ]
  },
  {
   "cell_type": "code",
   "execution_count": 4,
   "metadata": {
    "ExecuteTime": {
     "end_time": "2017-10-26T01:55:11.383856Z",
     "start_time": "2017-10-26T01:55:11.285825Z"
    },
    "collapsed": true
   },
   "outputs": [],
   "source": [
    "\n",
    "def generate_dataset(population):\n",
    "    preOPdata=testdata(population)\n",
    "    A=np.asarray(preOPdata['A'])\n",
    "    K1=np.asarray(preOPdata['K1'])\n",
    "    K2=np.asarray(preOPdata['K2'])\n",
    "    L=np.asarray(preOPdata['L'])\n",
    "    REF=np.asarray(preOPdata['REF']) \n",
    "    \n",
    "    P=SRK_2(A,K1,K2,L,REF)\n",
    "#     P=np.around(P*4)/4\n",
    "    Pr=SRK_T(A,K1,K2,L,REF)         \n",
    "    \n",
    "    noise=np.random.randn(population,1)*0.0\n",
    "    ratio=np.random.rand(population,1)*0.0+1.0\n",
    "    R=ratio*(P-Pr)+noise\n",
    "#     R=np.around(R*4)/4\n",
    "#     satisfied=np.logical_and(R<0,R>-0.50)\n",
    "#     loss_to_follow=np.random.rand(population,1)<0.05\n",
    "#     R[satisfied]=0\n",
    "#     R[loss_to_follow]=np.nan\n",
    "    data=np.asarray([preOPdata['A'],\n",
    "            preOPdata['K1'],\n",
    "            preOPdata['K2'],\n",
    "            preOPdata['L'],\n",
    "            preOPdata['REF'],\n",
    "            P,\n",
    "            R]).reshape(7,population).T\n",
    "    result=DataFrame(data, columns=['A','K1','K2','L','REF','IOLPower','PostOPREF']\n",
    "            )\n",
    "    return result\n",
    "\n",
    "dataset=generate_dataset(2000)"
   ]
  },
  {
   "cell_type": "markdown",
   "metadata": {},
   "source": [
    "# 保存"
   ]
  },
  {
   "cell_type": "code",
   "execution_count": 5,
   "metadata": {
    "ExecuteTime": {
     "end_time": "2017-10-26T01:55:21.903985Z",
     "start_time": "2017-10-26T01:55:12.367732Z"
    },
    "collapsed": true
   },
   "outputs": [],
   "source": [
    "pathname='data'\n",
    "filename='sampleIOLdataset.xlsx'\n",
    "dataset.to_excel(os.path.join(pathname,filename))\n"
   ]
  },
  {
   "cell_type": "code",
   "execution_count": null,
   "metadata": {
    "collapsed": true
   },
   "outputs": [],
   "source": []
  }
 ],
 "metadata": {
  "kernelspec": {
   "display_name": "Python 3",
   "language": "python",
   "name": "python3"
  },
  "language_info": {
   "codemirror_mode": {
    "name": "ipython",
    "version": 3
   },
   "file_extension": ".py",
   "mimetype": "text/x-python",
   "name": "python",
   "nbconvert_exporter": "python",
   "pygments_lexer": "ipython3",
   "version": "3.5.2"
  },
  "toc": {
   "colors": {
    "hover_highlight": "#DAA520",
    "navigate_num": "#000000",
    "navigate_text": "#333333",
    "running_highlight": "#FF0000",
    "selected_highlight": "#FFD700",
    "sidebar_border": "#EEEEEE",
    "wrapper_background": "#FFFFFF"
   },
   "moveMenuLeft": true,
   "nav_menu": {
    "height": "48px",
    "width": "254px"
   },
   "navigate_menu": true,
   "number_sections": true,
   "sideBar": true,
   "threshold": 4,
   "toc_cell": false,
   "toc_section_display": "block",
   "toc_window_display": false,
   "widenNotebook": false
  }
 },
 "nbformat": 4,
 "nbformat_minor": 2
}
