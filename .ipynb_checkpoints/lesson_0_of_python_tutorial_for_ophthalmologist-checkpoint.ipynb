{
 "cells": [
  {
   "cell_type": "markdown",
   "metadata": {},
   "source": [
    "面向眼科医生的Python教程(0)"
   ]
  },
  {
   "cell_type": "markdown",
   "metadata": {},
   "source": [
    "# 为什么我要写这个教程\n",
    "\n",
    "因为写教程, 教会其他人, 是学习的一部分, 也是学习过程中最为重要的一部分. \n",
    "\n",
    "不论是学习编程还是学习看病还是学习做手术都是这样. 作为眼科医生, 回忆一下你在住院医阶段记得最清楚的几个疾病, 是不是你被要求在查房时讲解的哪些, 印象最深的病人, 是不是你刚开始管病人时被问住的哪些. \n",
    "\n",
    "只有教会了其他人, 学习的过程才算是完整的. \n",
    "\n",
    "我现在正在学习python, 进一步我还在深入学习\"深度学习\", 还打算使用python和深度学习技术做很多有意思的东西. 为了自己的学习, 也为了让大家也能体会到这些乐趣, 我开始写这个教程. \n",
    "\n",
    "## 本教程特点\n",
    "\n",
    "python的教程很多很多, 有些非常好, 有些非常坑, 我会按照自己的经历参考和重新编排这些教程, 产生这个新的面向眼科医生的python教程. \n",
    "\n",
    "本教程中, 会尽量贴近眼科中常见的场景, 编写一些能够在日常工作中可用的代码. \n"
   ]
  },
  {
   "cell_type": "markdown",
   "metadata": {},
   "source": [
    "# 为什么要学编程\n",
    "\n",
    "点击下面这个视频, 先看一段非眼科\"成功人士\"对为什么要学编程的理解: \n",
    "[Why Programming Is Important?](https://www.youtube.com/watch?v=Dv7gLpW91DM)\n"
   ]
  },
  {
   "cell_type": "code",
   "execution_count": 2,
   "metadata": {
    "ExecuteTime": {
     "end_time": "2017-08-25T04:36:02.003242Z",
     "start_time": "2017-08-25T04:36:01.998614Z"
    }
   },
   "outputs": [
    {
     "data": {
      "text/html": [
       "<iframe width=\"560\" height=\"315\" src=\"https://www.youtube.com/embed/Dv7gLpW91DM\" frameborder=\"0\" allowfullscreen></iframe>"
      ],
      "text/plain": [
       "<IPython.core.display.HTML object>"
      ]
     },
     "execution_count": 2,
     "metadata": {},
     "output_type": "execute_result"
    }
   ],
   "source": [
    "from IPython.display import HTML\n",
    "\n",
    "# Youtube\n",
    "HTML('<iframe width=\"560\" height=\"315\" src=\"https://www.youtube.com/embed/Dv7gLpW91DM\" frameborder=\"0\" allowfullscreen></iframe>')\n",
    "\n"
   ]
  },
  {
   "cell_type": "markdown",
   "metadata": {},
   "source": [
    "## 为什么眼科医生要学习编程\n",
    "\n",
    "### 人工智能时代与眼科"
   ]
  },
  {
   "cell_type": "markdown",
   "metadata": {},
   "source": [
    "## 女医生也可以学编程么? \n",
    "\n",
    "最伟大的程序员是女性. 当我们说某个领域最伟大的人时, 唯一没有争议的提法, 就是开创这个领域的人. \n",
    "\n",
    "第一位程序员, 是[埃达·洛夫莱斯](https://zh.wikipedia.org/zh-cn/%E6%84%9B%E9%81%94%C2%B7%E5%8B%92%E8%8A%99%E8%95%BE%E7%B5%B2)\n",
    "\n",
    "![](https://upload.wikimedia.org/wikipedia/commons/thumb/a/a4/Ada_Lovelace_portrait.jpg/334px-Ada_Lovelace_portrait.jpg)"
   ]
  },
  {
   "cell_type": "markdown",
   "metadata": {},
   "source": [
    "## 我应该如何学习编程"
   ]
  },
  {
   "cell_type": "markdown",
   "metadata": {},
   "source": [
    "# 为什么要学Python"
   ]
  },
  {
   "cell_type": "markdown",
   "metadata": {},
   "source": [
    "# 如何开始\n",
    "\n"
   ]
  },
  {
   "cell_type": "markdown",
   "metadata": {},
   "source": [
    "# 参考资料"
   ]
  },
  {
   "cell_type": "code",
   "execution_count": null,
   "metadata": {
    "collapsed": true
   },
   "outputs": [],
   "source": []
  }
 ],
 "metadata": {
  "kernelspec": {
   "display_name": "Python 3",
   "language": "python",
   "name": "python3"
  },
  "language_info": {
   "codemirror_mode": {
    "name": "ipython",
    "version": 3
   },
   "file_extension": ".py",
   "mimetype": "text/x-python",
   "name": "python",
   "nbconvert_exporter": "python",
   "pygments_lexer": "ipython3",
   "version": "3.6.1"
  },
  "toc": {
   "colors": {
    "hover_highlight": "#DAA520",
    "navigate_num": "#000000",
    "navigate_text": "#333333",
    "running_highlight": "#FF0000",
    "selected_highlight": "#FFD700",
    "sidebar_border": "#EEEEEE",
    "wrapper_background": "#FFFFFF"
   },
   "moveMenuLeft": true,
   "nav_menu": {
    "height": "156px",
    "width": "252px"
   },
   "navigate_menu": true,
   "number_sections": true,
   "sideBar": true,
   "threshold": 4,
   "toc_cell": false,
   "toc_section_display": "block",
   "toc_window_display": false,
   "widenNotebook": false
  }
 },
 "nbformat": 4,
 "nbformat_minor": 2
}
