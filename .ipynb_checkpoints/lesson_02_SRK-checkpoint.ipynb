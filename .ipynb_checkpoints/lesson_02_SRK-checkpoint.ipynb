{
 "cells": [
  {
   "cell_type": "markdown",
   "metadata": {},
   "source": [
    "# 变量"
   ]
  },
  {
   "cell_type": "markdown",
   "metadata": {},
   "source": [
    "python最简单的功能相当于一个计算器.\n",
    "\n",
    "比如, 眼科最简单的公式SRK公式:\n",
    "\n",
    "P = A - 0.9*K - 2.5*AL\n",
    "\n",
    "直接输入数就可以了, 要进行运算时使用shift+return运行. "
   ]
  },
  {
   "cell_type": "code",
   "execution_count": 12,
   "metadata": {},
   "outputs": [
    {
     "name": "stdout",
     "output_type": "stream",
     "text": [
      "24.900000000000006\n"
     ]
    }
   ],
   "source": [
    "AL=23\n",
    "A=118.4\n",
    "K=40\n",
    "P = A - 0.9*K - 2.5*AL\n",
    "print(P) "
   ]
  },
  {
   "cell_type": "markdown",
   "metadata": {},
   "source": [
    "其中AL,A,K,P这些都叫做变量, =符号并不是\"等于\", 而是被称做赋值的操作. 可以想象变量是一个盒子, 每次可以往里面装不同的东西. \n",
    "\n",
    "例如, 经常出现这样的问题, 一个病人本来用A常数为118.4的人工晶体, 现在因为某种原因, 突然需要换成A常数为119.0的人工晶体. \n",
    "\n",
    "变量A可以这样写: "
   ]
  },
  {
   "cell_type": "code",
   "execution_count": 13,
   "metadata": {},
   "outputs": [
    {
     "name": "stdout",
     "output_type": "stream",
     "text": [
      "119.0\n"
     ]
    }
   ],
   "source": [
    "A=A+0.6\n",
    "print(A)"
   ]
  },
  {
   "cell_type": "markdown",
   "metadata": {},
   "source": [
    "如果=符号是\"等于\", 那么A=A+0.6, 只能推导出A=0, 显然是不对的. \n",
    "当改变了A常数以后, 如果需要计算新的人工晶体度数"
   ]
  },
  {
   "cell_type": "code",
   "execution_count": 14,
   "metadata": {
    "scrolled": true
   },
   "outputs": [
    {
     "name": "stdout",
     "output_type": "stream",
     "text": [
      "25.5\n"
     ]
    }
   ],
   "source": [
    "P = A - 0.9*K - 2.5*AL\n",
    "print(P)"
   ]
  },
  {
   "cell_type": "markdown",
   "metadata": {},
   "source": [
    "## 练习\n",
    "\n",
    "好了, 该你动手试一试了: \n",
    "* 患者眼轴长24.5mm\n",
    "* 角膜曲率: K_1=40, K_2=42\n",
    "* 选择使用A常数=119.0 的IOL\n",
    "\n",
    "求目标度数"
   ]
  },
  {
   "cell_type": "code",
   "execution_count": 1,
   "metadata": {
    "ExecuteTime": {
     "end_time": "2017-09-28T09:36:06.879437Z",
     "start_time": "2017-09-28T09:36:06.865836Z"
    },
    "scrolled": false
   },
   "outputs": [
    {
     "name": "stdout",
     "output_type": "stream",
     "text": [
      "None\n"
     ]
    }
   ],
   "source": [
    "# 在此行下面修改代码\n",
    "AL=None # 将None改成需要的数值\n",
    "A=None\n",
    "K_1=None\n",
    "K_2=None\n",
    "K=None\n",
    "P=None # 将None改成需要的计算公式\n",
    "# 在此行上面修改代码\n",
    "# 不要改变此行之后的代码\n",
    "print(P)"
   ]
  },
  {
   "cell_type": "markdown",
   "metadata": {},
   "source": [
    "参考答案: \n",
    "    20.849999999999994"
   ]
  },
  {
   "cell_type": "markdown",
   "metadata": {},
   "source": [
    "# 函数"
   ]
  },
  {
   "cell_type": "markdown",
   "metadata": {},
   "source": [
    "如果每次计算都要把P=A - 0.9*K - 2.5*AL写一遍, 是很麻烦的事情, 于是引出一个叫做函数的东西: \n",
    "函数相当于把常用的计算过程写在一起, 方便反复使用. "
   ]
  },
  {
   "cell_type": "code",
   "execution_count": 6,
   "metadata": {
    "ExecuteTime": {
     "end_time": "2017-09-28T09:44:38.849359Z",
     "start_time": "2017-09-28T09:44:38.845537Z"
    },
    "collapsed": true
   },
   "outputs": [],
   "source": [
    "def SRK(A,K,AL):\n",
    "    P= A - 0.9*K - 2.5*AL\n",
    "    return P"
   ]
  },
  {
   "cell_type": "code",
   "execution_count": 7,
   "metadata": {
    "ExecuteTime": {
     "end_time": "2017-09-28T09:44:39.405190Z",
     "start_time": "2017-09-28T09:44:39.400884Z"
    }
   },
   "outputs": [
    {
     "name": "stdout",
     "output_type": "stream",
     "text": [
      "25.5\n"
     ]
    }
   ],
   "source": [
    "print(SRK(119.0,40,23))"
   ]
  },
  {
   "cell_type": "markdown",
   "metadata": {},
   "source": [
    "Python中定义函数的方法是: \n",
    "```python\n",
    "def 函数名(参数1, 参数2, 参数3, 参数4):\n",
    "    空4个写函数体的内容\n",
    "    return 函数值\n",
    "```\n",
    "\n",
    "比如: def IOL_power(A,K,AL):\n",
    "\n",
    "IOL_power就是函数名, A, K, AL就是参数.\n",
    "\n",
    "在召唤函数的时候, 要把赋予参数数值\n",
    "\n",
    "IOL_power(119.0,40,23)\n",
    "\n",
    "python会按照数字的顺序依次把119.0赋给A, 40赋给K, 23赋给AL"
   ]
  },
  {
   "cell_type": "markdown",
   "metadata": {},
   "source": [
    "## 练习: \n",
    "重新定义SRK函数, 要使之能够计算两个角膜曲率K_1,K_2的情况. 其中: \n",
    "$$ K=\\frac{ K_1+K_2}{2} \n",
    "\\\\\n",
    "P=A - 0.9 \\times K + 2.5 \\times AL\n",
    "$$"
   ]
  },
  {
   "cell_type": "code",
   "execution_count": 9,
   "metadata": {
    "ExecuteTime": {
     "end_time": "2017-09-28T09:51:44.922152Z",
     "start_time": "2017-09-28T09:51:44.912124Z"
    },
    "scrolled": true
   },
   "outputs": [
    {
     "name": "stdout",
     "output_type": "stream",
     "text": [
      "None\n"
     ]
    }
   ],
   "source": [
    "def SRK(A,K_1,K_2,AL):\n",
    "    # 在此行下面修改代码, 不要改变此行之前的代码\n",
    "    K=None\n",
    "    P=None \n",
    "    # 在此行上面修改代码, 不要改变此行之后的代码\n",
    "    return P\n",
    "print( SRK (119.0, 40, 42, 24.5) )"
   ]
  },
  {
   "cell_type": "markdown",
   "metadata": {},
   "source": [
    "参考答案:  20.849999999999994"
   ]
  },
  {
   "cell_type": "markdown",
   "metadata": {},
   "source": [
    "# 其他\n",
    "\n",
    "## 变量命名\n",
    "python中的变量命名有一些规矩: \n",
    "* 应当是以字母或者下划线开头的: 比如a, ABC, _A\n",
    "* 不可以是数字开头, 如果有 1=2 就很尴尬了\n",
    "\n",
    "## 格式\n",
    "python的代码格式: \n",
    "* 如果使用 # 表示注释\n",
    "* 使用缩进来表示代码块, 其他语言例如C语言, 是使用{}, python一定是要使用缩进, 不同的缩进表示代码的层级不同\n",
    "下面这段代码中: \n",
    "```python\n",
    "def SRK(A,K,AL):\n",
    "    P= A - 0.9*K - 2.5*AL\n",
    "    return P\n",
    "print(SRK(119.0,40,23))\n",
    "```\n",
    "return和print是两个不同的代码块. 对于有些强迫症患者, 这样写可能会更清晰\n",
    "```python\n",
    "def SRK(A,K,AL): #{\n",
    "    P= A - 0.9*K - 2.5*AL\n",
    "    return P\n",
    "#}\n",
    "print(SRK(119.0,40,23))\n",
    "```\n",
    "\n",
    "## python2与python3\n",
    "\n",
    "本教程是基于python 3的, python目前有两个主流版本python 2.7和python 3.6, 这两个在语法上有细微的差别, 比如\n",
    "* 在python 2中, print \"Hello World!\"\n",
    "* 在python 2中, 100/7=14, \n",
    "  * 因为整数型数据除以整数型数据还是等于整数型数据\n",
    "  * 要想得到小数, 应当写成100.0/7\n",
    "\n",
    "* 在python 3中, print(\"Hello World!\")\n",
    "* 在python 3中, 100/7=14.285714285714286\n",
    "\n",
    "我个人认为python 3用起来舒服一些, 至少100/7=14.285714285714286, 但还有可能有许多遗留的工具包是基于python 2的, 在安装和使用前一定要仔细看清楚. "
   ]
  }
 ],
 "metadata": {
  "kernelspec": {
   "display_name": "Python 3",
   "language": "python",
   "name": "python3"
  },
  "language_info": {
   "codemirror_mode": {
    "name": "ipython",
    "version": 3
   },
   "file_extension": ".py",
   "mimetype": "text/x-python",
   "name": "python",
   "nbconvert_exporter": "python",
   "pygments_lexer": "ipython3",
   "version": "3.5.2"
  },
  "toc": {
   "colors": {
    "hover_highlight": "#DAA520",
    "navigate_num": "#000000",
    "navigate_text": "#333333",
    "running_highlight": "#FF0000",
    "selected_highlight": "#FFD700",
    "sidebar_border": "#EEEEEE",
    "wrapper_background": "#FFFFFF"
   },
   "moveMenuLeft": true,
   "nav_menu": {
    "height": "114px",
    "width": "254px"
   },
   "navigate_menu": true,
   "number_sections": true,
   "sideBar": true,
   "threshold": 4,
   "toc_cell": false,
   "toc_section_display": "block",
   "toc_window_display": false,
   "widenNotebook": false
  }
 },
 "nbformat": 4,
 "nbformat_minor": 1
}
