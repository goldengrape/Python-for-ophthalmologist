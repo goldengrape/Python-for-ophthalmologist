{
 "cells": [
  {
   "cell_type": "markdown",
   "metadata": {},
   "source": [
    "# 公式拟合\n",
    "\n",
    "某医院进行临床登记实验, 收集白内障病例2000眼, 进行Phaco+IOL植入术, 使用SRK-2公式进行IOL计算, \n",
    "\n",
    "术前检查记录: \n",
    "* 选用IOL的A常数: A\n",
    "* 角膜曲率: K1, K2\n",
    "* 眼轴长: L\n",
    "* 目标屈光度: REF\n",
    "\n",
    "术中记录: \n",
    "* 植入IOL度数: P\n",
    "\n",
    "术后3个月复查: \n",
    "* 仅记录了术后对屈光状态不满意, 给予眼镜处方患者的显然验光结果: PostREF\n",
    "* 一部分病人失访, 术后验光结果空缺\n",
    "\n",
    "现该医院委托你拟合一个新的IOL计算公式, 所有的病例数据已经整理好存成excel文件, 放在了data文件夹内的sampleIOLdataset.xlsx文件中. \n"
   ]
  },
  {
   "cell_type": "markdown",
   "metadata": {},
   "source": [
    "# 读取数据集"
   ]
  },
  {
   "cell_type": "code",
   "execution_count": null,
   "metadata": {
    "ExecuteTime": {
     "start_time": "2017-10-21T16:10:13.453Z"
    },
    "collapsed": true
   },
   "outputs": [],
   "source": [
    "import os\n",
    "import pandas as pd\n",
    "pathname='data'\n",
    "fname='sampleIOLdataset.xlsx'\n",
    "filename=os.path.join(pathname,fname)\n",
    "IOLdata=testdata=pd.read_excel(filename)"
   ]
  },
  {
   "cell_type": "code",
   "execution_count": null,
   "metadata": {
    "ExecuteTime": {
     "start_time": "2017-10-21T16:10:13.456Z"
    }
   },
   "outputs": [],
   "source": [
    "print(IOLdata[0:5])\n",
    "print(IOLdata.A[0:3])\n"
   ]
  },
  {
   "cell_type": "markdown",
   "metadata": {},
   "source": [
    "# 数据清洗"
   ]
  },
  {
   "cell_type": "code",
   "execution_count": null,
   "metadata": {
    "ExecuteTime": {
     "start_time": "2017-10-21T16:10:13.459Z"
    }
   },
   "outputs": [],
   "source": [
    "import numpy as np\n",
    "nanlist=np.isnan(IOLdata.PostOPREF)\n",
    "print(IOLdata[nanlist][0:4])"
   ]
  },
  {
   "cell_type": "code",
   "execution_count": null,
   "metadata": {
    "ExecuteTime": {
     "start_time": "2017-10-21T16:10:13.462Z"
    },
    "scrolled": true
   },
   "outputs": [],
   "source": [
    "IOLdata.PostOPREF[nanlist]=IOLdata.REF[nanlist]\n",
    "# IOLdata=IOLdata.replace(np.nan,0)\n",
    "print(IOLdata[nanlist][0:4])\n",
    "y_data=np.asarray(IOLdata.PostOPREF).T.reshape(-1,1)\n",
    "x_data=np.asarray(IOLdata)[:,0:6]\n",
    "\n",
    "print(y_data.shape)\n",
    "print(x_data.shape)"
   ]
  },
  {
   "cell_type": "code",
   "execution_count": null,
   "metadata": {
    "ExecuteTime": {
     "start_time": "2017-10-21T16:10:13.468Z"
    },
    "scrolled": true
   },
   "outputs": [],
   "source": [
    "y_mean=np.mean(y_data)\n",
    "y_std=np.std(y_data)\n",
    "new_y_data=(y_data-y_mean)/y_std\n",
    "y_train=new_y_data[:1700]\n",
    "y_test=new_y_data[1700:]\n",
    "\n",
    "\n",
    "x_mean=np.mean(x_data,axis=0,keepdims=True)\n",
    "x_std=np.std(x_data,axis=0,keepdims=True)\n",
    "\n",
    "new_x_data=(x_data-x_mean)/x_std\n",
    "\n",
    "x_train=new_x_data[:1700]\n",
    "x_test=new_x_data[1700:]\n"
   ]
  },
  {
   "cell_type": "markdown",
   "metadata": {},
   "source": [
    "# 神经网络简介"
   ]
  },
  {
   "cell_type": "markdown",
   "metadata": {},
   "source": [
    "# Keras简介"
   ]
  },
  {
   "cell_type": "markdown",
   "metadata": {},
   "source": [
    "https://keras-cn.readthedocs.io/en/latest/"
   ]
  },
  {
   "cell_type": "markdown",
   "metadata": {},
   "source": [
    "# 建立深度神经网络"
   ]
  },
  {
   "cell_type": "code",
   "execution_count": null,
   "metadata": {
    "ExecuteTime": {
     "start_time": "2017-10-21T16:10:13.473Z"
    }
   },
   "outputs": [],
   "source": [
    "# import keras\n",
    "from keras.models import Sequential\n",
    "from keras.layers import Dense, Activation\n",
    "from keras import initializers,optimizers\n",
    "\n",
    "model = Sequential()\n",
    "model.add(Dense(units=64,\n",
    "                input_dim=6,\n",
    "                activation=\"relu\",\n",
    "                kernel_initializer=initializers.glorot_normal(seed=0) ))\n",
    "model.add(Dense(units=64,\n",
    "                activation=\"relu\",\n",
    "                kernel_initializer=initializers.glorot_normal()))\n",
    "model.add(Dense(units=64,\n",
    "                activation=\"relu\",\n",
    "                kernel_initializer=initializers.glorot_normal()))\n",
    "model.add(Dense(units=64,\n",
    "                activation=\"relu\",\n",
    "                kernel_initializer=initializers.glorot_normal()))\n",
    "model.add(Dense(units=64,\n",
    "                activation=\"relu\",\n",
    "                kernel_initializer=initializers.glorot_normal()))\n",
    "model.add(Dense(units=1,\n",
    "                activation=\"tanh\",\n",
    "                kernel_initializer=initializers.glorot_normal()))\n",
    "\n",
    "from keras.optimizers import SGD\n",
    "model.compile(loss='mean_squared_error', \n",
    "              optimizer='rmsprop',\n",
    "              #optimizer=optimizers.Adam(lr=0.001, beta_1=0.9, beta_2=0.999, epsilon=1e-08),\n",
    "              metrics=['accuracy'])\n",
    "\n"
   ]
  },
  {
   "cell_type": "code",
   "execution_count": null,
   "metadata": {
    "ExecuteTime": {
     "start_time": "2017-10-21T16:10:13.477Z"
    },
    "scrolled": true
   },
   "outputs": [],
   "source": [
    "model.fit(x_train, y_train, epochs=200, batch_size=50)"
   ]
  },
  {
   "cell_type": "markdown",
   "metadata": {},
   "source": [
    "# 训练拟合"
   ]
  },
  {
   "cell_type": "markdown",
   "metadata": {},
   "source": [
    "# 使用深度神经网络进行预测"
   ]
  },
  {
   "cell_type": "code",
   "execution_count": null,
   "metadata": {
    "collapsed": true
   },
   "outputs": [],
   "source": []
  }
 ],
 "metadata": {
  "kernelspec": {
   "display_name": "Python 3",
   "language": "python",
   "name": "python3"
  },
  "language_info": {
   "codemirror_mode": {
    "name": "ipython",
    "version": 3
   },
   "file_extension": ".py",
   "mimetype": "text/x-python",
   "name": "python",
   "nbconvert_exporter": "python",
   "pygments_lexer": "ipython3",
   "version": "3.5.2"
  },
  "toc": {
   "colors": {
    "hover_highlight": "#DAA520",
    "navigate_num": "#000000",
    "navigate_text": "#333333",
    "running_highlight": "#FF0000",
    "selected_highlight": "#FFD700",
    "sidebar_border": "#EEEEEE",
    "wrapper_background": "#FFFFFF"
   },
   "moveMenuLeft": true,
   "nav_menu": {
    "height": "180px",
    "width": "254px"
   },
   "navigate_menu": true,
   "number_sections": true,
   "sideBar": true,
   "threshold": 4,
   "toc_cell": false,
   "toc_section_display": "block",
   "toc_window_display": false,
   "widenNotebook": false
  }
 },
 "nbformat": 4,
 "nbformat_minor": 2
}
