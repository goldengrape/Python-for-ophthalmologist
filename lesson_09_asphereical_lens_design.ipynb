{
 "cells": [
  {
   "cell_type": "markdown",
   "metadata": {
    "slideshow": {
     "slide_type": "slide"
    }
   },
   "source": [
    "# 抗偏位非球面人工晶体设计简介\n",
    "\n",
    "**非球面平衡曲线？ABC曲线？高次非球面？轴向渐进非球面？非恒定像差？**\n",
    "\n",
    "这些到底是什么？\n",
    "\n",
    "**Ray Tracing？光路追迹**\n",
    "\n",
    "这些又是什么？"
   ]
  },
  {
   "cell_type": "markdown",
   "metadata": {},
   "source": [
    "## 定理\n",
    "\n",
    "“当你需要深入了解时，一定在眼科书里找不到详细。”\n"
   ]
  },
  {
   "cell_type": "markdown",
   "metadata": {
    "slideshow": {
     "slide_type": "slide"
    }
   },
   "source": [
    "## 工具\n",
    "\n",
    "* 工业用光学设计软件：\n",
    "    * Zemax: 专业工具，人工晶体设计厂商常用，昂贵\n",
    "    * OSLO EDU：教学版本免费，一些功能受到限制\n",
    "\n",
    "此次演示使用Python，一种开源的计算机语言，我们从0开始，演示如何建一个轮子。\n",
    "\n",
    "* 需要的知识：\n",
    "    * 高数：求微分\n",
    "    * 线性代数：向量乘法"
   ]
  },
  {
   "cell_type": "code",
   "execution_count": 1,
   "metadata": {
    "slideshow": {
     "slide_type": "fragment"
    }
   },
   "outputs": [],
   "source": [
    "import numpy as np\n",
    "import matplotlib.pyplot as plt\n",
    "from ipywidgets import interact, interactive, fixed, interact_manual\n",
    "import ipywidgets as widgets\n",
    "from lmfit import minimize, Parameters\n",
    "\n",
    "#matplotlib inline"
   ]
  },
  {
   "cell_type": "markdown",
   "metadata": {
    "slideshow": {
     "slide_type": "slide"
    }
   },
   "source": [
    "# 非球面的表示法\n",
    "\n",
    "$$\n",
    "z(r)=\\frac{r^{2}}{R\\left(1+\\sqrt{1-(1 + \\kappa) \\frac{r^{2}}{R^{2}}}\\right)}+\\alpha_{4} r^{4}+\\alpha_{6} r^{6}+\\cdots\n",
    "$$\n",
    "\n",
    "* r 曲面到光轴的距离，假定是轴对称的曲面，r只有偶数次幂级数\n",
    "\n",
    "## 描述一个非球面镜的参数：\n",
    "* R：曲率半径\n",
    "* $\\kappa$\n",
    "    * 眼科常使用Q来代替$\\kappa$\n",
    "    \n",
    "|$\\kappa$ | 意义|\n",
    "|:---|:---|\n",
    "|$\\kappa$ < -1|双曲线|\n",
    "|$\\kappa$ = -1|抛物线|\n",
    "|-1 < $\\kappa$ < 0| 椭圆（prolate spheroid)|\n",
    "|$\\kappa$ = 0| 圆|\n",
    "|$\\kappa$ > 0| 椭圆 （oblate spheroid）|\n",
    "\n",
    "* 高次项系数：$\\alpha_{4},\\alpha_{6},\\alpha_{8},\\alpha_{10},\\cdots$\n",
    "* 镜面中心顶点的位置\n",
    "* 镜面两侧介质的折射率\n"
   ]
  },
  {
   "cell_type": "code",
   "execution_count": 2,
   "metadata": {},
   "outputs": [],
   "source": [
    "def z(r,surface_parameter):\n",
    "    R=surface_parameter[\"R\"]\n",
    "    kappa=surface_parameter[\"kappa\"]\n",
    "    a=surface_parameter['a']\n",
    "    partA = r**2 / (R*(1+np.sqrt(1-(1+kappa)*(r**2)/(R**2))))\n",
    "    partB = 0\n",
    "    for i in range(len(a)):\n",
    "        partB += a[i]*(r**(i*2+2))\n",
    "    return partA+partB \n",
    "\n",
    "def surface(r, surface_parameter):\n",
    "    (z0,r0)=surface_parameter[\"apex\"]\n",
    "    return z(r-r0, surface_parameter)+z0"
   ]
  },
  {
   "cell_type": "markdown",
   "metadata": {},
   "source": [
    "## ABC曲线图示：\n"
   ]
  },
  {
   "cell_type": "markdown",
   "metadata": {},
   "source": [
    "对函数z(r)上每一点的曲率半径：\n",
    "$$\n",
    "Radius=\\frac{\\left|z^{\\prime \\prime}(r)\\right|}{\\left(1+z^{\\prime 2}(r)\\right)^{3 / 2}}\n",
    "$$\n",
    "换算成屈光度\n",
    "$$\n",
    "Power=\\frac{N_2-N_1}{Radius} \\\\\n",
    "Power = \\frac{(N_2-N_1)\\left(1+z^{\\prime 2}(r)\\right)^{3 / 2}}{\\left|z^{\\prime \\prime}(r)\\right|}\n",
    "$$\n",
    "其中$N_1,N_2$是镜面两侧的折射率"
   ]
  },
  {
   "cell_type": "markdown",
   "metadata": {},
   "source": [
    "已知:\n",
    "\n",
    "$$\n",
    "z(r)=\\frac{r^{2}}{R\\left(1+\\sqrt{1-(1 + \\kappa) \\frac{r^{2}}{R^{2}}}\\right)}+\\alpha_{4} r^{4}+\\alpha_{6} r^{6}+\\cdots\n",
    "$$\n",
    "\n",
    "一阶导数: \n",
    "$$\n",
    "z^{\\prime}=\\frac {\\partial z}{\\partial r} = \\frac{r}{R \\sqrt{1-\\frac{r^{2}(1+\\kappa)}{R^{2}}}} + 4 a_4 r^{3}+6 a_6 r^{5}+ \\cdots\n",
    "$$\n",
    "二阶导数：\n",
    "\n",
    "$$\n",
    "z^{\\prime \\prime}=\\frac {\\partial ^2 z}{\\partial r^2} =\\frac{R^{3} \\sqrt{1-\\frac{r^{2}(1+\\kappa)}{R^{2}}}}{\\left(R^{2}-r^{2}(1+\\kappa)\\right)^{2}}+12 a_4 r^{2}+30 a_6 r^{4}+ \\cdots\n",
    "$$\n"
   ]
  },
  {
   "cell_type": "code",
   "execution_count": 3,
   "metadata": {},
   "outputs": [],
   "source": [
    "def dz(r,surface_parameter):\n",
    "    R=surface_parameter[\"R\"]\n",
    "    kappa=surface_parameter[\"kappa\"]\n",
    "    a=surface_parameter['a']\n",
    "    # z'\n",
    "    dz_partA= r/(R* np.sqrt(1-(1+kappa)*r**2/R**2)) \n",
    "    dz_partB = 0\n",
    "    for i in range(len(a)):\n",
    "        dz_partB +=(i*2+2) * a[i]*(r**(i*2+1))\n",
    "    return dz_partA+dz_partB\n",
    "\n",
    "def dz2(r,surface_parameter):\n",
    "    R=surface_parameter[\"R\"]\n",
    "    kappa=surface_parameter[\"kappa\"]\n",
    "    a=surface_parameter['a']\n",
    "    dz2_partA= R**3 * np.sqrt(1-r**2 * (1+kappa)/R**2) / ((R**2-r**2 * (1+kappa))**2)\n",
    "    dz2_partB = 0\n",
    "    for i in range(len(a)):\n",
    "        dz2_partB +=(i*2+2)*(i*2+1) * a[i]*(r**(i*2))\n",
    "    return dz2_partA+dz2_partB\n",
    "    \n",
    "def surface_power(r,surface_parameter):\n",
    "    (n1,n2)=surface_parameter['refractive_index']\n",
    "    d1=dz(r,surface_parameter)\n",
    "    d2=dz2(r,surface_parameter)\n",
    "    power=(n2-n1)*(1+d1**2)**(3/2)/ np.abs(d2)\n",
    "    return power\n"
   ]
  },
  {
   "cell_type": "markdown",
   "metadata": {},
   "source": [
    "## 测试绘图"
   ]
  },
  {
   "cell_type": "code",
   "execution_count": 4,
   "metadata": {},
   "outputs": [],
   "source": [
    "def draw_surface(r, surface_parameter, ax):\n",
    "    ax.plot(surface(r,surface_parameter),r)\n",
    "    ax.scatter(surface_parameter['apex'][0],surface_parameter['apex'][1])\n",
    "    return ax\n",
    "def draw_power(r, surface_parameter, ax):\n",
    "    ax.plot(r,surface_power(r,surface_parameter))\n",
    "    return ax"
   ]
  },
  {
   "cell_type": "code",
   "execution_count": 5,
   "metadata": {},
   "outputs": [],
   "source": [
    "surface_0={\n",
    "    \"R\":10,\n",
    "    \"kappa\": +0.5, # 𝜅  > 0\t椭圆 （oblate spheroid）\n",
    "    \"a\":[0,0,0,0],\n",
    "    'apex':[0,0],\n",
    "    'refractive_index':[1,1/0.9] # before and after\n",
    "}"
   ]
  },
  {
   "cell_type": "markdown",
   "metadata": {},
   "source": [
    "### 透镜剖面图"
   ]
  },
  {
   "cell_type": "code",
   "execution_count": 6,
   "metadata": {},
   "outputs": [
    {
     "data": {
      "image/png": "[encoded data removed]",
      "text/plain": [
       "<Figure size 432x288 with 1 Axes>"
      ]
     },
     "metadata": {
      "needs_background": "light"
     },
     "output_type": "display_data"
    }
   ],
   "source": [
    "r = np.linspace(-3, 3, 500)\n",
    "fig, ax = plt.subplots()\n",
    "plt.axis('equal')\n",
    "ax=draw_surface(r, surface_0, ax)\n",
    "plt.show()"
   ]
  },
  {
   "cell_type": "markdown",
   "metadata": {},
   "source": [
    "### 透镜屈光度图\n",
    "\n",
    "𝜅  > 0\t椭圆 （oblate spheroid），中央屈光度更高，周边逐渐降低，这是一个“负球差”透镜"
   ]
  },
  {
   "cell_type": "code",
   "execution_count": 7,
   "metadata": {},
   "outputs": [
    {
     "data": {
      "image/png": "[encoded data removed]",
      "text/plain": [
       "<Figure size 432x288 with 1 Axes>"
      ]
     },
     "metadata": {
      "needs_background": "light"
     },
     "output_type": "display_data"
    }
   ],
   "source": [
    "r = np.linspace(0, 3, 100)\n",
    "fig, ax = plt.subplots()\n",
    "ax=draw_power(r, surface_0, ax)\n",
    "plt.show()"
   ]
  },
  {
   "cell_type": "markdown",
   "metadata": {},
   "source": [
    "# Ray Tracing（光路追迹，光线追踪）\n",
    "\n",
    "* 光线在均一介质中传播\n",
    "* 光线在界面上的折射"
   ]
  },
  {
   "cell_type": "markdown",
   "metadata": {},
   "source": [
    "# 光线在均一介质中传播\n",
    "\n",
    "直线的方程, 从点$P_0$沿着方向矢量$\\vec l$ 传播距离d, 到达点$P(d)$\n",
    "\n",
    "$$\n",
    "P(d)=P_0+d  \\vec l  \n",
    "$$\n",
    "考虑r方向和z方向两个分量\n",
    "$$\n",
    "P(d)_r=P_{0r}+d_r  l_r \\\\\n",
    "P(d)_z=P_{0z}+d_z  l_z \\\\\n",
    "其中 \\frac{d_r}{d_z}=\\frac{l_r}{l_z}\n",
    "$$\n",
    "\n"
   ]
  },
  {
   "cell_type": "code",
   "execution_count": 8,
   "metadata": {},
   "outputs": [],
   "source": [
    "def travel_in_space(p0,vec_l,dz):\n",
    "    vec_lz =vec_l[:,0].reshape(-1,1)\n",
    "    vec_l_in_z=vec_l/vec_lz\n",
    "    dz=dz.reshape(-1,1)\n",
    "    pdz=p0+dz*vec_l_in_z\n",
    "    return pdz"
   ]
  },
  {
   "cell_type": "markdown",
   "metadata": {},
   "source": [
    "# 折射\n",
    "$$\n",
    "n_1 Sin(\\theta_1) = n_2 Sin(\\theta_2)\n",
    "$$\n",
    "参考 https://en.wikipedia.org/wiki/Snell's_law 中的矢量形式\n",
    "\n",
    "\n",
    "* 入射光方向: $\\vec l$\n",
    "* 曲面的法向量: $\\vec n$\n",
    "* 入射面介质折射率: $n_1$\n",
    "* 出射面介质折射率: $n_2$\n",
    "\n",
    "$$\n",
    "r=n_1/n_2\\\\\n",
    "c=-\\vec n \\cdot \\vec l \\\\\n",
    "\\vec V_{refract}=r\\vec l+(rc-\\sqrt{1-r^2(1-c^2)})\\vec n\n",
    "$$"
   ]
  },
  {
   "cell_type": "code",
   "execution_count": 9,
   "metadata": {},
   "outputs": [],
   "source": [
    "def V_refract(vec_l,vec_n,n1,n2):\n",
    "    r=n1/n2\n",
    "    if len(vec_l.shape)>1:\n",
    "        c=np.diag(-np.matmul(vec_n, np.transpose(vec_l))).reshape(-1,1)\n",
    "    else:\n",
    "        c=-np.matmul(vec_n.reshape(1,-1),vec_l.reshape(-1,1))    \n",
    "    V=r*vec_l  + (r*c-np.sqrt(1-r**2*(1-c**2))) * vec_n\n",
    "    return V/np.linalg.norm(V,axis=1,keepdims=True)"
   ]
  },
  {
   "cell_type": "code",
   "execution_count": 10,
   "metadata": {},
   "outputs": [
    {
     "data": {
      "text/plain": [
       "array([[ 0.63639614, -0.7713624 ],\n",
       "       [ 0.63639614, -0.7713624 ],\n",
       "       [ 0.63639614, -0.7713624 ]])"
      ]
     },
     "execution_count": 10,
     "metadata": {},
     "output_type": "execute_result"
    }
   ],
   "source": [
    "# 测试：\n",
    "vec_l=np.asarray([[0.707107,-0.707107],[0.707107,-0.707107],[0.707107,-0.707107]])\n",
    "vec_n=np.asarray([[0,1],[0,1],[0,1]])\n",
    "n1=1\n",
    "n2=1/0.9\n",
    "V_refract(vec_l,vec_n,n1,n2)\n",
    "# should be:\n",
    "# [ 0.6364, -0.7714]"
   ]
  },
  {
   "cell_type": "markdown",
   "metadata": {},
   "source": [
    "## 曲面的法向量: $\\vec n$\n",
    "\n",
    "* 简化，仅仅考虑二维"
   ]
  },
  {
   "cell_type": "markdown",
   "metadata": {},
   "source": [
    "已知有曲面\n",
    "$$\n",
    "z=z(r)\n",
    "$$\n",
    "则曲面在(z0,r0)位置的法向量: \n",
    "$$\n",
    "\\left[ \n",
    "\\begin{array}{c} \n",
    "-1\\\\ \n",
    "\\frac{\\partial }{\\partial r}z\\left(r \\right) |_{r=r0} \n",
    "\\end{array} \n",
    "\\right]\n",
    "$$"
   ]
  },
  {
   "cell_type": "code",
   "execution_count": 11,
   "metadata": {},
   "outputs": [],
   "source": [
    "def norm_vec(r,surface_parameter):\n",
    "    R=surface_parameter[\"R\"]\n",
    "    kappa=surface_parameter[\"kappa\"]\n",
    "    a=surface_parameter['a']\n",
    "    \n",
    "    V=-1*np.ones([r.shape[0],2])\n",
    "    V[:,1]=dz(r,surface_parameter)\n",
    "    return V/np.linalg.norm(V,axis=1,keepdims=True )"
   ]
  },
  {
   "cell_type": "markdown",
   "metadata": {},
   "source": [
    "### 绘制曲面上的法向量"
   ]
  },
  {
   "cell_type": "code",
   "execution_count": 12,
   "metadata": {},
   "outputs": [
    {
     "data": {
      "image/png": "[encoded data removed]",
      "text/plain": [
       "<Figure size 432x288 with 1 Axes>"
      ]
     },
     "metadata": {
      "needs_background": "light"
     },
     "output_type": "display_data"
    }
   ],
   "source": [
    "fig, ax = plt.subplots()\n",
    "plt.axis('equal')\n",
    "# 绘制曲面\n",
    "r = np.linspace(-4, 4, 500)\n",
    "ax=draw_surface(r, surface_0, ax)\n",
    "\n",
    "# 计算法向量\n",
    "N=5\n",
    "rn = np.linspace(-3, 3, N)\n",
    "norm_v=norm_vec(rn,surface_0)\n",
    "zn  = surface(rn, surface_0)\n",
    "zn1 = zn+norm_v[:,0]\n",
    "rn1 = rn+norm_v[:,1]\n",
    "for i in range(N):\n",
    "    ax.plot([zn[i],zn1[i]],[rn[i],rn1[i]])\n",
    "plt.show()"
   ]
  },
  {
   "cell_type": "markdown",
   "metadata": {},
   "source": [
    "## 在曲面上折射"
   ]
  },
  {
   "cell_type": "code",
   "execution_count": 13,
   "metadata": {},
   "outputs": [],
   "source": [
    "def refract_from_surface(p, vec_l,surface_parameter):\n",
    "    (z0,r0)=surface_parameter[\"apex\"]\n",
    "    (n1,n2)=surface_parameter['refractive_index']\n",
    "    r = p[:,1]\n",
    "    r = r-r0\n",
    "    vec_n = norm_vec(r,surface_parameter)\n",
    "    return V_refract(vec_l,vec_n,n1,n2)"
   ]
  },
  {
   "cell_type": "markdown",
   "metadata": {},
   "source": [
    "# 薄透镜近似\n",
    "\n",
    "* 薄透镜\n",
    "    * 直线与曲线的交点，化简成为直线与直线的交点. **这个简化大大降低了运算难度，但也引入很大误差**\n",
    "* 暂不考虑瞳孔大小"
   ]
  },
  {
   "cell_type": "markdown",
   "metadata": {},
   "source": [
    "# 已知模型，模拟成像过程\n",
    "\n",
    "一组平行光，经过两个非球面镜，聚焦到屏幕上。\n",
    "\n",
    "* 非球面镜0: 镜头垂直于光轴，镜头中心位于光轴上，是一个简单的椭球面\n",
    "* 非球面镜1: 镜头垂直于光轴，但镜头中心有一定的偏位\n",
    "* 屏幕：垂直于光轴\n"
   ]
  },
  {
   "cell_type": "code",
   "execution_count": 14,
   "metadata": {},
   "outputs": [],
   "source": [
    "surface_0={\n",
    "    \"R\":8,\n",
    "    \"kappa\": -0.8,\n",
    "    \"a\":[0],\n",
    "    'apex':[0,0],\n",
    "    'refractive_index':[1,1.3] # before and after\n",
    "}\n",
    "\n",
    "surface_1={\n",
    "    \"R\":7,\n",
    "    \"kappa\": 0.5,\n",
    "    \"a\":[0,0],\n",
    "    'apex':[4,1],\n",
    "    'refractive_index':[1.3, 1.5] # before and after\n",
    "}\n",
    "\n",
    "surface_2={\n",
    "    \"R\":1e+10,\n",
    "    \"kappa\": 0,\n",
    "    \"a\":[0,0],\n",
    "    'apex':[30,0],\n",
    "    'refractive_index':[1.5, 1.5] # before and after\n",
    "}"
   ]
  },
  {
   "cell_type": "markdown",
   "metadata": {},
   "source": [
    "## Ray Tracing（光路追迹，光线追踪）\n",
    "\n",
    "追踪每一条光线所走的路径：\n",
    "* 在均一介质内直线行进：位置改变，方向不变\n",
    "* 在镜头界面上折射：位置不变，方向改变\n",
    "\n",
    "依次穿过每一个透镜界面，计算出最终在屏幕上光线的位置"
   ]
  },
  {
   "cell_type": "code",
   "execution_count": 15,
   "metadata": {},
   "outputs": [],
   "source": [
    "def ray_tracing(light_position_start, light_direction_start, surfaces):\n",
    "\n",
    "    # 记录光线的位置\n",
    "    light_postion_list=[light_position_start]\n",
    "    \n",
    "    # 从被追踪光线的起始位置和起始方向开始：\n",
    "    light_position=light_position_start\n",
    "    light_direction=light_direction_start\n",
    "    \n",
    "    for s in surfaces: # 遍历每一个曲面\n",
    "        #光线在均匀介质内传播，到达该曲面\n",
    "        dz=s['apex'][0]-light_position[:,0]\n",
    "        light_position=travel_in_space(light_position,light_direction,dz)\n",
    "        #光线经过该曲面发生折射\n",
    "        light_direction=refract_from_surface(light_position, light_direction,s)\n",
    "        #记录下光线的位置\n",
    "        light_postion_list.append(light_position)\n",
    "        \n",
    "    return light_postion_list"
   ]
  },
  {
   "cell_type": "code",
   "execution_count": 16,
   "metadata": {},
   "outputs": [],
   "source": [
    "def init_light(N):\n",
    "    #初始化光线\n",
    "    light_position_start=-5*np.ones([N,2]) #从z=-5平面开始发出光线\n",
    "    light_position_start[:,1]= np.linspace(-3, 3, N)\n",
    "    light_direction_start=np.zeros([N,2])\n",
    "    light_direction_start[:,0]=1 #方向矢量(1,0)，指向Z轴方向\n",
    "    return light_position_start,light_direction_start"
   ]
  },
  {
   "cell_type": "code",
   "execution_count": 17,
   "metadata": {},
   "outputs": [],
   "source": [
    "def draw_ray_tracing(N,surfaces):\n",
    "    # 绘制出各个曲面的位置：\n",
    "    fig, ax = plt.subplots()\n",
    "    plt.axis('equal')\n",
    "    r = np.linspace(-5, 5, 500)\n",
    "    for s in surfaces:\n",
    "        ax=draw_surface(r, s, ax)\n",
    "    # 光线的起点和方向\n",
    "#     N=3 # 光线数量\n",
    "    light_position_start,light_direction_start = init_light(N)\n",
    "\n",
    "    # 追踪光线，获得光线在各个曲面上经过时的坐标\n",
    "    light_postion_list=ray_tracing(light_position_start, light_direction_start, surfaces)\n",
    "\n",
    "    # 绘制出每一根光线\n",
    "    for i in range(N):\n",
    "        x=[light_postion[i,0] for light_postion in light_postion_list]\n",
    "        y=[light_postion[i,1] for light_postion in light_postion_list]\n",
    "        ax.plot(x,y)\n",
    "#     ax.set_xlim(28, 32)\n",
    "#     ax.set_ylim(-2,2)\n",
    "    plt.show()"
   ]
  },
  {
   "cell_type": "code",
   "execution_count": 18,
   "metadata": {},
   "outputs": [
    {
     "name": "stderr",
     "output_type": "stream",
     "text": [
      "/Users/goldengrape/anaconda3/envs/blog/lib/python3.6/site-packages/ipykernel_launcher.py:5: RuntimeWarning: invalid value encountered in sqrt\n",
      "  \"\"\"\n"
     ]
    },
    {
     "data": {
      "image/png": "[encoded data removed]",
      "text/plain": [
       "<Figure size 432x288 with 1 Axes>"
      ]
     },
     "metadata": {
      "needs_background": "light"
     },
     "output_type": "display_data"
    }
   ],
   "source": [
    "# 绘制ray tracing过程：\n",
    "draw_ray_tracing(10,[surface_0,surface_1,surface_2])"
   ]
  },
  {
   "cell_type": "markdown",
   "metadata": {},
   "source": [
    "# 未知模型，求解最佳参数\n",
    "\n",
    "一组平行光，经过两个非球面镜，聚焦到屏幕上。\n",
    "\n",
    "* 非球面镜0: 镜头垂直于光轴，镜头中心位于光轴上，是一个简单的椭球面\n",
    "* 非球面镜1: 镜头垂直于光轴，但镜头中心在一定范围内偏位\n"
   ]
  },
  {
   "cell_type": "markdown",
   "metadata": {},
   "source": [
    "## 优化模型\n",
    "\n",
    "当非球面镜1偏位时，每一条光线最好都能够落在焦点附近，\n",
    "\n",
    "* 注意：由于镜头偏位，所以焦点并不一定在光轴上，\n",
    "    * “焦点”，各个光线汇聚的点，或者说，光线的平均位置。\n",
    "* 简化：每一条光线在屏上的位置 **尽量靠近** 非球面镜1的偏位距离\n",
    "    * 尽量靠近：到达给定位置的平方和最小\n",
    "    \n",
    "优化问题： 求loss_function的最小值：\n",
    "$$\n",
    "loss =\\sum_{偏位距离=-\\Delta}^{+\\Delta} \\sum_{光线_i =0 }^{N} |光线_i 在屏上位置- 非球面镜_1 的偏位距离|^2\n",
    "$$"
   ]
  },
  {
   "cell_type": "code",
   "execution_count": 19,
   "metadata": {},
   "outputs": [],
   "source": [
    "def loss_function(params, light_position_start,light_direction_start  ,data=None):\n",
    "\n",
    "    spots_on_screen_list=[]\n",
    "    Delta=0.9\n",
    "    for apex_r in np.linspace(-Delta,Delta,10): # 将曲面在一定范围内移动\n",
    "    \n",
    "        surface_t={\n",
    "            \"R\":params[\"R\"],\n",
    "            \"kappa\": params[\"kappa\"],\n",
    "            \"a\":[params[\"a4\"],params[\"a6\"],params['a8'],params['a10']],\n",
    "            'apex':[4,apex_r],\n",
    "            'refractive_index':[1.3, 1.5] # before and after\n",
    "        }\n",
    "\n",
    "        surfaces=[surface_0,surface_t,surface_2] \n",
    "\n",
    "        # 追踪光线，获得光线在各个曲面上经过时的坐标\n",
    "        light_postion_list=ray_tracing(light_position_start, light_direction_start, surfaces)\n",
    "        \n",
    "        # 希望屏上的光线落在偏位点的附近\n",
    "        spots_on_screen=(light_postion_list[-1][:,-1]-apex_r)\n",
    "        spots_on_screen_list.append(np.abs(spots_on_screen))\n",
    "        \n",
    "    return spots_on_screen_list"
   ]
  },
  {
   "cell_type": "markdown",
   "metadata": {},
   "source": [
    "## 优化器\n",
    "\n",
    "lmfit，scipy优化器的封装，\n",
    "\n",
    "* 设定好需要优化的参数: $ R, \\kappa, a_4,a_6,a_8,a_{10} $ \n",
    "* 设定目标loss_function\n",
    "\n",
    "求解使得loss_function取得最小值的参数表"
   ]
  },
  {
   "cell_type": "code",
   "execution_count": 20,
   "metadata": {},
   "outputs": [],
   "source": [
    "from lmfit import Minimizer, Parameters, report_fit\n",
    "\n",
    "# 定义待求解的参数，以及初值，参数的数值范围\n",
    "params = Parameters()\n",
    "# add with tuples:(NAME,    初始值,  求解， Min    MAX   EXPR  BRUTE_STEP)\n",
    "params.add_many(  ('R',     7,      True, 6,     12,   None, None),\n",
    "                  ('kappa', 0,      True, None,  None, None, None),\n",
    "                  ('a4',    0,      True, None,  None, None, None),\n",
    "                  ('a6',    0,      True, None,  None, None, None),\n",
    "                  ('a8',    0,      True, None,  None, None, None),\n",
    "                  ('a10',   0,      True, None,  None, None, None),\n",
    "               )\n",
    "\n",
    "\n",
    "# 输入N条光线\n",
    "N=100\n",
    "light_position_start,light_direction_start = init_light(N)\n",
    "\n",
    "# 求解参数\n",
    "minner = Minimizer(loss_function, params, \n",
    "                   fcn_args=(light_position_start,light_direction_start,_),\n",
    "                   nan_policy=\"propagate\")\n",
    "result = minner.minimize()"
   ]
  },
  {
   "cell_type": "markdown",
   "metadata": {},
   "source": [
    "# 结果"
   ]
  },
  {
   "cell_type": "code",
   "execution_count": 21,
   "metadata": {},
   "outputs": [
    {
     "name": "stdout",
     "output_type": "stream",
     "text": [
      "R=6.02\n",
      "kappa=1.34\n",
      "a4=-4.52e-02\n",
      "a6=-2.28e-03\n",
      "a8=4.15e-04\n",
      "a10=-2.71e-05\n"
     ]
    }
   ],
   "source": [
    "print(\"R={:.2f}\".format(result.params[\"R\"].value))\n",
    "print(\"kappa={:.2f}\".format(result.params[\"kappa\"].value))\n",
    "print(\"a4={:.2e}\".format(result.params[\"a4\"].value))\n",
    "print(\"a6={:.2e}\".format(result.params[\"a6\"].value))\n",
    "print(\"a8={:.2e}\".format(result.params[\"a8\"].value))\n",
    "print(\"a10={:.2e}\".format(result.params[\"a10\"].value))"
   ]
  },
  {
   "cell_type": "code",
   "execution_count": 22,
   "metadata": {},
   "outputs": [],
   "source": [
    "def get_surface_target(result,apex_r):\n",
    "    return {\n",
    "            \"R\":result.params[\"R\"].value,\n",
    "            \"kappa\": result.params[\"kappa\"].value,\n",
    "            \"a\":[result.params[\"a4\"].value,\n",
    "                 result.params[\"a6\"].value,\n",
    "                 result.params['a8'].value,\n",
    "                 result.params['a10'].value],\n",
    "            'apex':[4,apex_r],\n",
    "            'refractive_index':[1.3, 1.5] # before and after\n",
    "        }"
   ]
  },
  {
   "cell_type": "code",
   "execution_count": 26,
   "metadata": {},
   "outputs": [
    {
     "data": {
      "image/png": "[encoded data removed]",
      "text/plain": [
       "<Figure size 432x288 with 1 Axes>"
      ]
     },
     "metadata": {
      "needs_background": "light"
     },
     "output_type": "display_data"
    }
   ],
   "source": [
    "# surface 0 的光焦度曲线\n",
    "fig, ax = plt.subplots()\n",
    "r = np.linspace(0, 2.5, 500)\n",
    "ax=draw_power(r, surface_0, ax)\n",
    "plt.show()"
   ]
  },
  {
   "cell_type": "code",
   "execution_count": 27,
   "metadata": {},
   "outputs": [
    {
     "data": {
      "image/png": "[encoded data removed]",
      "text/plain": [
       "<Figure size 432x288 with 1 Axes>"
      ]
     },
     "metadata": {
      "needs_background": "light"
     },
     "output_type": "display_data"
    }
   ],
   "source": [
    "# surface 1 的光焦度曲线\n",
    "fig, ax = plt.subplots()\n",
    "# plt.axis('equal')\n",
    "r = np.linspace(0, 3, 500)\n",
    "# ax=draw_surface(r, surface_0, ax)\n",
    "ax=draw_power(r, get_surface_target(result,1), ax)\n",
    "plt.show()"
   ]
  },
  {
   "cell_type": "code",
   "execution_count": 28,
   "metadata": {},
   "outputs": [
    {
     "name": "stderr",
     "output_type": "stream",
     "text": [
      "/Users/goldengrape/anaconda3/envs/blog/lib/python3.6/site-packages/ipykernel_launcher.py:5: RuntimeWarning: invalid value encountered in sqrt\n",
      "  \"\"\"\n"
     ]
    },
    {
     "data": {
      "image/png": "[encoded data removed]",
      "text/plain": [
       "<Figure size 432x288 with 1 Axes>"
      ]
     },
     "metadata": {
      "needs_background": "light"
     },
     "output_type": "display_data"
    },
    {
     "data": {
      "image/png": "[encoded data removed]",
      "text/plain": [
       "<Figure size 432x288 with 1 Axes>"
      ]
     },
     "metadata": {
      "needs_background": "light"
     },
     "output_type": "display_data"
    },
    {
     "data": {
      "image/png": "[encoded data removed]",
      "text/plain": [
       "<Figure size 432x288 with 1 Axes>"
      ]
     },
     "metadata": {
      "needs_background": "light"
     },
     "output_type": "display_data"
    }
   ],
   "source": [
    "# 不同偏位状态时的聚焦情况\n",
    "for apex_r in np.linspace(0,1,3):\n",
    "    draw_ray_tracing(10,[surface_0,get_surface_target(result,apex_r),surface_2])"
   ]
  },
  {
   "cell_type": "code",
   "execution_count": null,
   "metadata": {},
   "outputs": [],
   "source": []
  }
 ],
 "metadata": {
  "kernelspec": {
   "display_name": "Python 3",
   "language": "python",
   "name": "python3"
  },
  "language_info": {
   "codemirror_mode": {
    "name": "ipython",
    "version": 3
   },
   "file_extension": ".py",
   "mimetype": "text/x-python",
   "name": "python",
   "nbconvert_exporter": "python",
   "pygments_lexer": "ipython3",
   "version": "3.6.8"
  }
 },
 "nbformat": 4,
 "nbformat_minor": 2
}
