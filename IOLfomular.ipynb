{
 "cells": [
  {
   "cell_type": "markdown",
   "metadata": {},
   "source": [
    "# IOL 公式集\n",
    "\n",
    "这里我尽量把现有的IOL计算公式都用python写出来, 由于我使用了jupyter的同步存储插件, 所以所有的代码也会同步保存为IOLfomular.py, 因此可以很方便在其他的python程序中以import IOLfomular的方式进行调用. \n",
    "\n",
    "这些计算公式的函数可能有多个版本, 以适应对单一病人数据求解的情况和对批量病人数据求解的情况. \n",
    "\n",
    "大多数运算使用numpy会更加简单和迅速, 所以要首先"
   ]
  },
  {
   "cell_type": "code",
   "execution_count": 27,
   "metadata": {
    "ExecuteTime": {
     "end_time": "2017-10-19T06:38:12.042322Z",
     "start_time": "2017-10-19T06:38:12.038300Z"
    },
    "collapsed": true
   },
   "outputs": [],
   "source": [
    "import numpy as np"
   ]
  },
  {
   "cell_type": "code",
   "execution_count": 101,
   "metadata": {
    "ExecuteTime": {
     "end_time": "2017-10-19T07:35:58.363113Z",
     "start_time": "2017-10-19T07:35:58.339258Z"
    }
   },
   "outputs": [],
   "source": [
    "# 生成标准测试集\n",
    "if __name__ == \"__main__\" :\n",
    "    np.random.seed(0)\n",
    "IOL_A_Const={\n",
    "    # 大概需要用个JSON文件存一下, 数据太多了\n",
    "    'AcrySof IQ': 118.7,\n",
    "    'AcrySof IQ Toric': 119.0,\n",
    "    'PCB00': 118.8\n",
    "}\n",
    "\n",
    "def testdata(patinets_num):\n",
    "    possibleA=list(IOL_A_Const.values())\n",
    "    A=np.random.choice(possibleA,patinets_num,1).reshape(patinets_num,1)\n",
    "    K1=np.random.rand(patinets_num,1)*2+40\n",
    "    K2=np.random.rand(patinets_num,1)*2+40\n",
    "    L=np.random.rand(patinets_num,1)*3+23\n",
    "    patient_data={\n",
    "        'A': A,\n",
    "        'K1': K1,\n",
    "        'K2': K2,\n",
    "        'L': L\n",
    "    }\n",
    "    return patient_data\n",
    "    "
   ]
  },
  {
   "cell_type": "code",
   "execution_count": 116,
   "metadata": {
    "ExecuteTime": {
     "end_time": "2017-10-19T07:37:43.284035Z",
     "start_time": "2017-10-19T07:37:43.276414Z"
    }
   },
   "outputs": [
    {
     "data": {
      "text/plain": [
       "array([[ 24.8247586 ],\n",
       "       [ 24.78996622],\n",
       "       [ 25.35093274],\n",
       "       [ 24.50007889]])"
      ]
     },
     "execution_count": 116,
     "metadata": {},
     "output_type": "execute_result"
    }
   ],
   "source": [
    "data=testdata(4)\n",
    "data['L']"
   ]
  },
  {
   "cell_type": "markdown",
   "metadata": {},
   "source": [
    "# SRK\n",
    "\n",
    "$$\n",
    "P= A - 0.9 \\times K -2.5 \\times L\n",
    "$$\n",
    "其中A是\n",
    "* A常数, \n",
    "* K是平均角膜曲率, $ K=\\frac{K_1+K_2}{2} $\n",
    "* L是眼轴长\n",
    "\n",
    "SRK 公式比较简单, 并没有复杂的判断过程. 可以同时适用于单一病人和批量病人的求解"
   ]
  },
  {
   "cell_type": "code",
   "execution_count": 103,
   "metadata": {
    "ExecuteTime": {
     "end_time": "2017-10-19T07:35:59.496398Z",
     "start_time": "2017-10-19T07:35:59.490108Z"
    },
    "collapsed": true
   },
   "outputs": [],
   "source": [
    "def SRK(A, K1, K2,L):\n",
    "    K=(K1+K2)/2\n",
    "    P= A - 0.9*K - 2.5*L\n",
    "    return P"
   ]
  },
  {
   "cell_type": "code",
   "execution_count": 104,
   "metadata": {
    "ExecuteTime": {
     "end_time": "2017-10-19T07:35:59.869311Z",
     "start_time": "2017-10-19T07:35:59.857214Z"
    }
   },
   "outputs": [
    {
     "name": "stdout",
     "output_type": "stream",
     "text": [
      "[[ 17.32520995]]\n",
      "[[ 18.14056905]\n",
      " [ 21.30276204]\n",
      " [ 19.98762072]\n",
      " [ 24.69195849]]\n"
     ]
    }
   ],
   "source": [
    "if __name__ == \"__main__\" :\n",
    "    pNum=[1,4]\n",
    "    for p in pNum:\n",
    "        data=testdata(p)\n",
    "        print(SRK(data['A'],\n",
    "            data['K1'],\n",
    "            data['K2'],\n",
    "            data['L']\n",
    "           ))\n"
   ]
  },
  {
   "cell_type": "markdown",
   "metadata": {},
   "source": [
    "# SRK-II\n",
    "\n",
    "SRK-II公式, 这个公式中经过修正的A常数A1, 是和眼轴长L有关的. \n",
    "\n",
    "* 当 L< 20.0 时, A1= A+3\n",
    "* 当 20.0<= L < 21.0 时, A1= A+2\n",
    "* 当 21.0<= L < 22.0 时, A1= A+1\n",
    "* 当 22.0<= L < 24.5 时, A1= A\n",
    "* 当 L > 24.5.0 时, A1= A-0.5\n",
    "\n",
    "$$\n",
    "P= A1 - 0.9 \\times K -2.5 \\times L\n",
    "$$\n",
    "\n",
    "为了支持多个病人的数据以向量的方式输入, 就不能简单使用if来做判断. "
   ]
  },
  {
   "cell_type": "code",
   "execution_count": 105,
   "metadata": {
    "ExecuteTime": {
     "end_time": "2017-10-19T07:36:01.017541Z",
     "start_time": "2017-10-19T07:36:00.977927Z"
    },
    "collapsed": true
   },
   "outputs": [],
   "source": [
    "def on_1st_change_2nd(L,A,Lmin,Lmax,deltaA):\n",
    "    if not(np.isscalar(L)):\n",
    "        assert A.shape==L.shape\n",
    "    pickout=np.logical_and(L>Lmin, L<=Lmax)\n",
    "    A[pickout] += deltaA\n",
    "    return A\n",
    "def SRK_2(A,K_1,K_2,L,REF=0):\n",
    "    A = np.asarray(A).copy() # 避免pandas修改原始数据, 还有更好的方案么? \n",
    "    A = on_1st_change_2nd(L,A,0,     20,    3)\n",
    "    A = on_1st_change_2nd(L,A,20,    21,    2)\n",
    "    A = on_1st_change_2nd(L,A,21,    22,    1)\n",
    "    A = on_1st_change_2nd(L,A,22,    24.5,  0)\n",
    "    A = on_1st_change_2nd(L,A,24.5,  50,    -0.5)\n",
    "\n",
    "    K = (K_1+K_2)/2\n",
    "    P_emme= A - 0.9*K -2.5*L\n",
    "    CR = np.ones(P_emme.shape)\n",
    "    CR[ P_emme>=14 ]=1.25\n",
    "        \n",
    "    P_ammc=P_emme-REF*CR\n",
    "    return P_ammc"
   ]
  },
  {
   "cell_type": "code",
   "execution_count": 106,
   "metadata": {
    "ExecuteTime": {
     "end_time": "2017-10-19T07:36:01.658361Z",
     "start_time": "2017-10-19T07:36:01.650396Z"
    }
   },
   "outputs": [
    {
     "name": "stdout",
     "output_type": "stream",
     "text": [
      "[[ 21.96653601]]\n",
      "[[ 19.10168684]\n",
      " [ 21.79621343]\n",
      " [ 24.80012004]\n",
      " [ 18.69449888]]\n"
     ]
    }
   ],
   "source": [
    "if __name__ == \"__main__\" :\n",
    "    pNum=[1,4]\n",
    "    for p in pNum:\n",
    "        data=testdata(p)\n",
    "        print(SRK_2(data['A'],\n",
    "            data['K1'],\n",
    "            data['K2'],\n",
    "            data['L']\n",
    "           ))"
   ]
  },
  {
   "cell_type": "markdown",
   "metadata": {},
   "source": [
    "# SRK-T\n",
    "* 正视眼: \n",
    "P_emme = ( 1000 * na * X ) / ((L1-C1) * Y) \n",
    "\n",
    "* 屈光不正眼: \n",
    "P_amet = ( 1000 * na * (X-0.001*REF*(V*X+L1*r) ))/((L1-C1)*(Y-0.001*REF*(V*X+C1*r))\n",
    "\n",
    "* 其中: \n",
    "  * X  = na*r-L1*(nc-1)\n",
    "  * Y  = na*r - C1*(nc -1)\n",
    "  * L1 光学视轴长\n",
    "    * L1=L+(0.65696- 0.02029 * L)\n",
    "  * REF 目标屈光度\n",
    "  * r 平均角膜曲率\n",
    "    * r = 337.5/K\n",
    "  * W 计算角膜厚度\n",
    "    * W= -5.41+0.58412 * LC + 0.098 * K\n",
    "  * LC 修正眼轴长\n",
    "    * if L<=24.2: LC=L\n",
    "    * if L>24.2:  LC=-3.446+1.176*L-0.237*(L**2)\n",
    "  * C1 估计术后前房深度\n",
    "    * C1=H + Ofst\n",
    "  * Ofst Calculated distance between  the iris sufrace and IOL optical surface including corneal thickness(mm)\n",
    "    * Ofst=(0.62467*A-68.747)-3.336\n",
    "  * H 角膜穹顶高\n",
    "    * $ H=r-\\sqrt{r^2-W^2/4} $\n",
    "  * A : A常数\n",
    "  * K 平均角膜屈光度\n",
    "    * K=(K1+K2)/2\n",
    "  * P 植入IOL度数\n",
    "  * V 顶点距离 V=12\n",
    "  * na 房水和玻璃体折射率 na=1.336\n",
    "  * nc 角膜折射率 nc=1.333\n",
    "    \n",
    "洋人非常喜欢倒叙, 注意在写程序的时候要把叙述的顺序搞清楚. "
   ]
  },
  {
   "cell_type": "code",
   "execution_count": 158,
   "metadata": {
    "ExecuteTime": {
     "end_time": "2017-10-19T07:52:04.076378Z",
     "start_time": "2017-10-19T07:52:04.026455Z"
    }
   },
   "outputs": [],
   "source": [
    "def SRK_T(A,K1,K2,L, REF=0): \n",
    "    V=12\n",
    "    na=1.336\n",
    "    nc=1.333\n",
    "    K=(K1+K2)/2\n",
    "    r = 337.5/K\n",
    "    L=np.asarray(L)\n",
    "    LC=L.copy()    \n",
    "    mLlist=L>24.2\n",
    "    LC[mLlist]=-3.446+1.716*L[mLlist]-0.0237*(L[mLlist]**2)\n",
    "    \n",
    "    W = -5.41+0.58412*LC + 0.098*K\n",
    "    print(\"W\")\n",
    "    print(W)\n",
    "\n",
    "    H = r-np.sqrt(r**2-(W**2)/4)\n",
    "    Ofst = (0.62467*A-68.747)-3.336\n",
    "    C1 = H + Ofst\n",
    "    L1 = L+(0.65696- 0.02029 * L)\n",
    "    X = na*r-L1*(nc-1)\n",
    "    Y = na*r - C1*(nc -1)\n",
    "    \n",
    "    P_emme = ( 1000*na*X ) / ((L1-C1) * Y)\n",
    "    P_amet = ( 1000*na*(X-0.001*REF*(V*X+L1*r) )) / ((L1-C1)*(Y-0.001*REF*(V*X+C1*r)))   \n",
    "\n",
    "    # 此行以上填写\n",
    "    return P_amet"
   ]
  },
  {
   "cell_type": "code",
   "execution_count": 159,
   "metadata": {
    "ExecuteTime": {
     "end_time": "2017-10-19T07:52:04.486515Z",
     "start_time": "2017-10-19T07:52:04.472034Z"
    }
   },
   "outputs": [
    {
     "name": "stdout",
     "output_type": "stream",
     "text": [
      "1\n",
      "W\n",
      "[[ 12.64697535]]\n",
      "[[ 21.89160901]]\n",
      "2\n",
      "W\n",
      "[[ 12.12579722]\n",
      " [ 12.4315146 ]]\n",
      "[[ 24.93438823]\n",
      " [ 23.70374132]]\n"
     ]
    }
   ],
   "source": [
    "if __name__ == \"__main__\" :\n",
    "    pNum=[1,2]\n",
    "    for p in pNum:\n",
    "        data=testdata(p)\n",
    "        print(p)\n",
    "        print(SRK_T(data['A'],\n",
    "            data['K1'],\n",
    "            data['K2'],\n",
    "            data['L']\n",
    "           ))"
   ]
  },
  {
   "cell_type": "code",
   "execution_count": null,
   "metadata": {
    "collapsed": true
   },
   "outputs": [],
   "source": []
  }
 ],
 "metadata": {
  "kernelspec": {
   "display_name": "Python 3",
   "language": "python",
   "name": "python3"
  },
  "language_info": {
   "codemirror_mode": {
    "name": "ipython",
    "version": 3
   },
   "file_extension": ".py",
   "mimetype": "text/x-python",
   "name": "python",
   "nbconvert_exporter": "python",
   "pygments_lexer": "ipython3",
   "version": "3.5.2"
  },
  "toc": {
   "colors": {
    "hover_highlight": "#DAA520",
    "navigate_num": "#000000",
    "navigate_text": "#333333",
    "running_highlight": "#FF0000",
    "selected_highlight": "#FFD700",
    "sidebar_border": "#EEEEEE",
    "wrapper_background": "#FFFFFF"
   },
   "moveMenuLeft": true,
   "nav_menu": {
    "height": "114px",
    "width": "254px"
   },
   "navigate_menu": true,
   "number_sections": true,
   "sideBar": true,
   "threshold": 4,
   "toc_cell": false,
   "toc_section_display": "block",
   "toc_window_display": false,
   "widenNotebook": false
  }
 },
 "nbformat": 4,
 "nbformat_minor": 2
}
