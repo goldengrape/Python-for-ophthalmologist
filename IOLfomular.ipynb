{
 "cells": [
  {
   "cell_type": "markdown",
   "metadata": {},
   "source": [
    "# IOL 公式集\n",
    "\n",
    "这里我尽量把现有的IOL计算公式都用python写出来, 由于我使用了jupyter的同步存储插件, 所以所有的代码也会同步保存为IOLfomular.py, 因此可以很方便在其他的python程序中以import IOLfomular的方式进行调用. \n",
    "\n",
    "这些计算公式的函数可能有多个版本, 以适应对单一病人数据求解的情况和对批量病人数据求解的情况. \n",
    "\n",
    "大多数运算使用numpy会更加简单和迅速, 所以要首先"
   ]
  },
  {
   "cell_type": "code",
   "execution_count": 1,
   "metadata": {
    "ExecuteTime": {
     "end_time": "2017-10-19T17:16:19.893011Z",
     "start_time": "2017-10-19T17:16:19.027344Z"
    },
    "collapsed": true
   },
   "outputs": [],
   "source": [
    "import numpy as np"
   ]
  },
  {
   "cell_type": "code",
   "execution_count": 2,
   "metadata": {
    "ExecuteTime": {
     "end_time": "2017-10-19T17:16:19.933446Z",
     "start_time": "2017-10-19T17:16:19.895232Z"
    }
   },
   "outputs": [],
   "source": [
    "# 生成标准测试集\n",
    "if __name__ == \"__main__\" :\n",
    "    np.random.seed(0)\n",
    "\n",
    "\n",
    "def testdata(patinets_num):\n",
    "    IOL_A_Const={\n",
    "    # 大概需要用个JSON文件存一下, 数据太多了\n",
    "    'AcrySof IQ': 118.7,\n",
    "    'AcrySof IQ Toric': 119.0,\n",
    "    'PCB00': 118.8,\n",
    "    'AR40e': 118.4\n",
    "    }\n",
    "    possibleA=list(IOL_A_Const.values())\n",
    "    A=np.random.choice(possibleA,patinets_num,1).reshape(patinets_num,1)\n",
    "    K1=np.random.randn(patinets_num,1)*2+41\n",
    "    K2=np.random.randn(patinets_num,1)*2+41\n",
    "    L=np.random.rand(patinets_num,1)*3+23\n",
    "    REF=np.random.choice([0,-0.5,-3,-2.75,-3.25],patinets_num,1).reshape(patinets_num,1)\n",
    "    patient_data={\n",
    "        'A': A,\n",
    "        'K1': K1,\n",
    "        'K2': K2,\n",
    "        'L': L,\n",
    "        'REF':REF\n",
    "    }\n",
    "    return patient_data\n",
    "    "
   ]
  },
  {
   "cell_type": "code",
   "execution_count": 3,
   "metadata": {
    "ExecuteTime": {
     "end_time": "2017-10-19T17:16:19.971429Z",
     "start_time": "2017-10-19T17:16:19.937168Z"
    }
   },
   "outputs": [
    {
     "data": {
      "text/plain": [
       "array([[ 25.37517511],\n",
       "       [ 24.58668476],\n",
       "       [ 24.70413368],\n",
       "       [ 25.77678991]])"
      ]
     },
     "execution_count": 3,
     "metadata": {},
     "output_type": "execute_result"
    }
   ],
   "source": [
    "data=testdata(4)\n",
    "data['L']"
   ]
  },
  {
   "cell_type": "markdown",
   "metadata": {},
   "source": [
    "# SRK\n",
    "\n",
    "$$\n",
    "P= A - 0.9 \\times K -2.5 \\times L\n",
    "$$\n",
    "其中A是\n",
    "* A常数, \n",
    "* K是平均角膜曲率, $ K=\\frac{K_1+K_2}{2} $\n",
    "* L是眼轴长\n",
    "\n",
    "SRK 公式比较简单, 并没有复杂的判断过程. 可以同时适用于单一病人和批量病人的求解"
   ]
  },
  {
   "cell_type": "code",
   "execution_count": 4,
   "metadata": {
    "ExecuteTime": {
     "end_time": "2017-10-19T17:16:19.981069Z",
     "start_time": "2017-10-19T17:16:19.974171Z"
    },
    "collapsed": true
   },
   "outputs": [],
   "source": [
    "def SRK(A, K1, K2,L):\n",
    "    K=(K1+K2)/2\n",
    "    P= A - 0.9*K - 2.5*L\n",
    "    return P"
   ]
  },
  {
   "cell_type": "code",
   "execution_count": 5,
   "metadata": {
    "ExecuteTime": {
     "end_time": "2017-10-19T17:16:20.009346Z",
     "start_time": "2017-10-19T17:16:19.983708Z"
    }
   },
   "outputs": [
    {
     "name": "stdout",
     "output_type": "stream",
     "text": [
      "[[ 16.91780152]]\n",
      "[[ 19.96006156]\n",
      " [ 18.45882504]\n",
      " [ 22.18988729]\n",
      " [ 22.99350208]]\n"
     ]
    }
   ],
   "source": [
    "if __name__ == \"__main__\" :\n",
    "    pNum=[1,4]\n",
    "    for p in pNum:\n",
    "        data=testdata(p)\n",
    "        print(SRK(data['A'],\n",
    "            data['K1'],\n",
    "            data['K2'],\n",
    "            data['L']\n",
    "           ))\n"
   ]
  },
  {
   "cell_type": "markdown",
   "metadata": {},
   "source": [
    "# SRK-II\n",
    "\n",
    "SRK-II公式, 这个公式中经过修正的A常数A1, 是和眼轴长L有关的. \n",
    "\n",
    "* 当 L< 20.0 时, A1= A+3\n",
    "* 当 20.0<= L < 21.0 时, A1= A+2\n",
    "* 当 21.0<= L < 22.0 时, A1= A+1\n",
    "* 当 22.0<= L < 24.5 时, A1= A\n",
    "* 当 L > 24.5.0 时, A1= A-0.5\n",
    "\n",
    "$$\n",
    "P= A1 - 0.9 \\times K -2.5 \\times L\n",
    "$$\n",
    "\n",
    "为了支持多个病人的数据以向量的方式输入, 就不能简单使用if来做判断. "
   ]
  },
  {
   "cell_type": "code",
   "execution_count": 6,
   "metadata": {
    "ExecuteTime": {
     "end_time": "2017-10-19T17:16:20.057661Z",
     "start_time": "2017-10-19T17:16:20.012678Z"
    },
    "collapsed": true
   },
   "outputs": [],
   "source": [
    "def on_1st_change_2nd(L,A,Lmin,Lmax,deltaA):\n",
    "    if not(np.isscalar(L)):\n",
    "        assert A.shape==L.shape\n",
    "    pickout=np.logical_and(L>Lmin, L<=Lmax)\n",
    "    A[pickout] += deltaA\n",
    "    return A\n",
    "def SRK_2(A,K_1,K_2,L,REF=0):\n",
    "    A = np.asarray(A).copy() # 避免pandas修改原始数据, 还有更好的方案么? \n",
    "    A = on_1st_change_2nd(L,A,0,     20,    3)\n",
    "    A = on_1st_change_2nd(L,A,20,    21,    2)\n",
    "    A = on_1st_change_2nd(L,A,21,    22,    1)\n",
    "    A = on_1st_change_2nd(L,A,22,    24.5,  0)\n",
    "    A = on_1st_change_2nd(L,A,24.5,  50,    -0.5)\n",
    "\n",
    "    K = (K_1+K_2)/2\n",
    "    P_emme= A - 0.9*K -2.5*L\n",
    "    CR = np.ones(P_emme.shape)\n",
    "    CR[ P_emme>=14 ]=1.25\n",
    "        \n",
    "    P_ammc=P_emme-REF*CR\n",
    "    return P_ammc"
   ]
  },
  {
   "cell_type": "code",
   "execution_count": 7,
   "metadata": {
    "ExecuteTime": {
     "end_time": "2017-10-19T17:16:20.068759Z",
     "start_time": "2017-10-19T17:16:20.060181Z"
    }
   },
   "outputs": [
    {
     "name": "stdout",
     "output_type": "stream",
     "text": [
      "[[ 18.78693175]]\n",
      "[[ 16.22363227]\n",
      " [ 24.0305382 ]\n",
      " [ 24.61766164]\n",
      " [ 21.60655324]]\n"
     ]
    }
   ],
   "source": [
    "if __name__ == \"__main__\" :\n",
    "    pNum=[1,4]\n",
    "    for p in pNum:\n",
    "        data=testdata(p)\n",
    "        print(SRK_2(data['A'],\n",
    "            data['K1'],\n",
    "            data['K2'],\n",
    "            data['L']\n",
    "           ))"
   ]
  },
  {
   "cell_type": "markdown",
   "metadata": {},
   "source": [
    "# SRK-T\n",
    "* 正视眼: \n",
    "P_emme = ( 1000 * na * X ) / ((L1-C1) * Y) \n",
    "\n",
    "* 屈光不正眼: \n",
    "P_amet = ( 1000 * na * (X-0.001*REF*(V*X+L1*r) ))/((L1-C1)*(Y-0.001*REF*(V*X+C1*r))\n",
    "\n",
    "* 其中: \n",
    "  * X  = na*r-L1*(nc-1)\n",
    "  * Y  = na*r - C1*(nc -1)\n",
    "  * L1 光学视轴长\n",
    "    * L1=L+(0.65696- 0.02029 * L)\n",
    "  * REF 目标屈光度\n",
    "  * r 平均角膜曲率\n",
    "    * r = 337.5/K\n",
    "  * W 计算角膜厚度\n",
    "    * W= -5.41+0.58412 * LC + 0.098 * K\n",
    "  * LC 修正眼轴长\n",
    "    * if L<=24.2: LC=L\n",
    "    * if L>24.2:  LC=-3.446+1.716*L-0.0237*(L**2)\n",
    "  * C1 估计术后前房深度\n",
    "    * C1=H + Ofst\n",
    "  * Ofst Calculated distance between  the iris sufrace and IOL optical surface including corneal thickness(mm)\n",
    "    * Ofst=(0.62467*A-68.747)-3.336\n",
    "  * H 角膜穹顶高\n",
    "    * $ H=r-\\sqrt{r^2-W^2/4} $\n",
    "  * A : A常数\n",
    "  * K 平均角膜屈光度\n",
    "    * K=(K1+K2)/2\n",
    "  * P 植入IOL度数\n",
    "  * V 顶点距离 V=12\n",
    "  * na 房水和玻璃体折射率 na=1.336\n",
    "  * nc 角膜折射率 nc=1.333\n",
    "    \n",
    "洋人非常喜欢倒叙, 注意在写程序的时候要把叙述的顺序搞清楚. "
   ]
  },
  {
   "cell_type": "code",
   "execution_count": 8,
   "metadata": {
    "ExecuteTime": {
     "end_time": "2017-10-19T17:16:20.145381Z",
     "start_time": "2017-10-19T17:16:20.071280Z"
    },
    "collapsed": true
   },
   "outputs": [],
   "source": [
    "def SRK_T(A,K1,K2,L, REF=0): \n",
    "    V=12\n",
    "    na=1.336\n",
    "    nc=1.333\n",
    "    K=(K1+K2)/2\n",
    "    r = 337.5/K\n",
    "    L=np.asarray(L)\n",
    "    LC=L.copy()    \n",
    "    mLlist=L>24.2\n",
    "    LC[mLlist]=-3.446+1.716*L[mLlist]-0.0237*(L[mLlist]**2)\n",
    "    \n",
    "    W = -5.41+0.58412*LC + 0.098*K\n",
    "    H = r-np.sqrt(r**2-(W**2)/4)\n",
    "    Ofst = (0.62467*A-68.747)-3.336\n",
    "    C1 = H + Ofst\n",
    "    L1 = L+(0.65696- 0.02029 * L)\n",
    "    X = na*r-L1*(nc-1)\n",
    "    Y = na*r - C1*(nc -1)\n",
    "    \n",
    "    P_emme = ( 1000*na*X ) / ((L1-C1) * Y)\n",
    "    P_amet = ( 1000*na*(X-0.001*REF*(V*X+L1*r) )) / ((L1-C1)*(Y-0.001*REF*(V*X+C1*r)))   \n",
    "\n",
    "    # 此行以上填写\n",
    "    return P_amet"
   ]
  },
  {
   "cell_type": "code",
   "execution_count": 9,
   "metadata": {
    "ExecuteTime": {
     "end_time": "2017-10-19T17:16:20.158491Z",
     "start_time": "2017-10-19T17:16:20.148355Z"
    }
   },
   "outputs": [
    {
     "name": "stdout",
     "output_type": "stream",
     "text": [
      "1\n",
      "[[ 19.66171332]]\n",
      "2\n",
      "[[ 16.94901795]\n",
      " [ 20.39220768]]\n"
     ]
    }
   ],
   "source": [
    "if __name__ == \"__main__\" :\n",
    "    pNum=[1,2]\n",
    "    for p in pNum:\n",
    "        data=testdata(p)\n",
    "        print(p)\n",
    "        print(SRK_T(data['A'],\n",
    "            data['K1'],\n",
    "            data['K2'],\n",
    "            data['L']\n",
    "           ))"
   ]
  },
  {
   "cell_type": "code",
   "execution_count": null,
   "metadata": {
    "collapsed": true
   },
   "outputs": [],
   "source": []
  }
 ],
 "metadata": {
  "kernelspec": {
   "display_name": "Python 3",
   "language": "python",
   "name": "python3"
  },
  "language_info": {
   "codemirror_mode": {
    "name": "ipython",
    "version": 3
   },
   "file_extension": ".py",
   "mimetype": "text/x-python",
   "name": "python",
   "nbconvert_exporter": "python",
   "pygments_lexer": "ipython3",
   "version": "3.5.2"
  },
  "toc": {
   "colors": {
    "hover_highlight": "#DAA520",
    "navigate_num": "#000000",
    "navigate_text": "#333333",
    "running_highlight": "#FF0000",
    "selected_highlight": "#FFD700",
    "sidebar_border": "#EEEEEE",
    "wrapper_background": "#FFFFFF"
   },
   "moveMenuLeft": true,
   "nav_menu": {
    "height": "114px",
    "width": "254px"
   },
   "navigate_menu": true,
   "number_sections": true,
   "sideBar": true,
   "threshold": 4,
   "toc_cell": false,
   "toc_section_display": "block",
   "toc_window_display": false,
   "widenNotebook": false
  }
 },
 "nbformat": 4,
 "nbformat_minor": 2
}
