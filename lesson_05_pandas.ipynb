{
 "cells": [
  {
   "cell_type": "markdown",
   "metadata": {},
   "source": [
    "# 读取进度\n",
    "\n",
    "玩游戏的话, 如果没有存盘和读取, 简直就没法玩了. 写程序也差不多, 除了要实时保存自己写好的代码, 还需要能够保存和读取数据. 比如做个临床研究, 不大可能手工一个一个按照numpy array的格式录入眼轴长L, 角膜曲率K之类的数据. 这类的数据往往是由机器导出的, 或者由哪个可怜的研究生去病案室抄出来然后存成一个文件的. \n",
    "\n",
    "这个文件很有可能是excel的. 所以, 这节课我们就以excel为例子读取一组病人的数据, 然后计算IOL度数, 再写入到excel里面. "
   ]
  },
  {
   "cell_type": "markdown",
   "metadata": {},
   "source": [
    "# 文件名\n",
    "\n",
    "欢迎来到现实世界. 前面几课我们面对的都是非常理想化的环境, 我们自己设定什么, 计算机就可以按照我们设想的去做. 但当涉及到文件操作的时候, 就不一定了. 比如, 对于桌面电脑, 可能主流有三类操作系统: Windows, macOS, Linux, 大多数非程序员是用Windows, 但也有相当多的眼科医生用macOS. 在程序员的世界里, 比如我推荐使用的CoCalc或者Azure Notebooks, 其实后台的操作系统是Linux的. \n",
    "\n",
    "如果你的文件IOLdata.xlsx存储在一个叫做data的文件夹下面, 那么, 问题出现了. 文件名在不同的系统写法会有一点细微的差别: \n",
    "* 对于Windows,       data\\IOLdata.xlsx\n",
    "* 对于macOS和Linux,  data/IOLdata.xlsx\n",
    "\n",
    "斜杠左右不同, 所以在读取文件的时候, 你不能简单指定文件名是'data\\IOLdata.xlsx' 还是 'data/IOLdata.xlsx', 因为你并不知道用程序的人用着什么样的电脑. \n",
    "\n",
    "萨特说 ** 他人即地狱 **\n",
    "\n",
    "所以我们需要用os库中的os.path.join函数来把文件的路径和文件名按照当前运行时的操作系统要求组合起来."
   ]
  },
  {
   "cell_type": "code",
   "execution_count": 27,
   "metadata": {
    "ExecuteTime": {
     "end_time": "2017-10-19T06:26:12.579891Z",
     "start_time": "2017-10-19T06:26:12.570600Z"
    },
    "scrolled": true
   },
   "outputs": [
    {
     "name": "stdout",
     "output_type": "stream",
     "text": [
      "data/IOLdata.xlsx\n"
     ]
    }
   ],
   "source": [
    "import os\n",
    "pathname='data'\n",
    "fname='IOLdata.xlsx'\n",
    "print(os.path.join(pathname,fname))"
   ]
  },
  {
   "cell_type": "markdown",
   "metadata": {},
   "source": [
    "上面的输出结果在不同的电脑上看起来可能会是不同的, 但如果你使用的是[CoCalc](https://cocalc.com)或者[Azure Notebooks](https://notebooks.azure.com)所提供的在线服务, 那么应该显示的是data/IOLdata.xlsx"
   ]
  },
  {
   "cell_type": "markdown",
   "metadata": {},
   "source": [
    "# 多个文件名\n",
    "\n",
    "你的合作伙伴很有可能给你的多个文件, 而不仅仅是一个, 当然你可以在excel中依次把它们打开, 然后复制粘贴到一起, (记得把第二个以后文件的标题行删掉). 但如果能够直接用程序读取并且合并不是更好么. \n",
    "\n",
    "下面, 我要讲解一个之前刻意跳过的内容: List\n",
    "\n",
    "其实也没什么神秘的, 就是用方括号[ ]装起来的一组东西, 这组东西必须是一个类型的, 比如都是数字, 或者都是字符. \n",
    "如果要访问第0个元素, 就用 list名[0], 第1个元素就用 list名[1]. ** 注意python是从0开始计数的. **"
   ]
  },
  {
   "cell_type": "code",
   "execution_count": 28,
   "metadata": {
    "ExecuteTime": {
     "end_time": "2017-10-19T06:26:12.591765Z",
     "start_time": "2017-10-19T06:26:12.582314Z"
    }
   },
   "outputs": [
    {
     "name": "stdout",
     "output_type": "stream",
     "text": [
      "['IOLdata00.xlsx', 'IOLdata01.xlsx']\n",
      "IOLdata00.xlsx\n",
      "IOLdata01.xlsx\n"
     ]
    }
   ],
   "source": [
    "filenames=['IOLdata00.xlsx','IOLdata01.xlsx']\n",
    "print(filenames)\n",
    "print(filenames[0])\n",
    "print(filenames[1])"
   ]
  },
  {
   "cell_type": "markdown",
   "metadata": {},
   "source": [
    "试试用os.path.join产生一组带有路径的文件名? "
   ]
  },
  {
   "cell_type": "code",
   "execution_count": 29,
   "metadata": {
    "ExecuteTime": {
     "end_time": "2017-10-19T06:26:12.862810Z",
     "start_time": "2017-10-19T06:26:12.594630Z"
    },
    "scrolled": true
   },
   "outputs": [
    {
     "ename": "TypeError",
     "evalue": "join() argument must be str or bytes, not 'list'",
     "output_type": "error",
     "traceback": [
      "\u001b[0;31m---------------------------------------------------------------------------\u001b[0m",
      "\u001b[0;31mTypeError\u001b[0m                                 Traceback (most recent call last)",
      "\u001b[0;32m<ipython-input-29-ecdbda71648b>\u001b[0m in \u001b[0;36m<module>\u001b[0;34m()\u001b[0m\n\u001b[0;32m----> 1\u001b[0;31m \u001b[0mos\u001b[0m\u001b[0;34m.\u001b[0m\u001b[0mpath\u001b[0m\u001b[0;34m.\u001b[0m\u001b[0mjoin\u001b[0m\u001b[0;34m(\u001b[0m\u001b[0mpathname\u001b[0m\u001b[0;34m,\u001b[0m\u001b[0mfilenames\u001b[0m\u001b[0;34m)\u001b[0m\u001b[0;34m\u001b[0m\u001b[0m\n\u001b[0m",
      "\u001b[0;32m~/anaconda3/envs/opencvenv/lib/python3.5/posixpath.py\u001b[0m in \u001b[0;36mjoin\u001b[0;34m(a, *p)\u001b[0m\n\u001b[1;32m     87\u001b[0m                 \u001b[0mpath\u001b[0m \u001b[0;34m+=\u001b[0m \u001b[0msep\u001b[0m \u001b[0;34m+\u001b[0m \u001b[0mb\u001b[0m\u001b[0;34m\u001b[0m\u001b[0m\n\u001b[1;32m     88\u001b[0m     \u001b[0;32mexcept\u001b[0m \u001b[0;34m(\u001b[0m\u001b[0mTypeError\u001b[0m\u001b[0;34m,\u001b[0m \u001b[0mAttributeError\u001b[0m\u001b[0;34m,\u001b[0m \u001b[0mBytesWarning\u001b[0m\u001b[0;34m)\u001b[0m\u001b[0;34m:\u001b[0m\u001b[0;34m\u001b[0m\u001b[0m\n\u001b[0;32m---> 89\u001b[0;31m         \u001b[0mgenericpath\u001b[0m\u001b[0;34m.\u001b[0m\u001b[0m_check_arg_types\u001b[0m\u001b[0;34m(\u001b[0m\u001b[0;34m'join'\u001b[0m\u001b[0;34m,\u001b[0m \u001b[0ma\u001b[0m\u001b[0;34m,\u001b[0m \u001b[0;34m*\u001b[0m\u001b[0mp\u001b[0m\u001b[0;34m)\u001b[0m\u001b[0;34m\u001b[0m\u001b[0m\n\u001b[0m\u001b[1;32m     90\u001b[0m         \u001b[0;32mraise\u001b[0m\u001b[0;34m\u001b[0m\u001b[0m\n\u001b[1;32m     91\u001b[0m     \u001b[0;32mreturn\u001b[0m \u001b[0mpath\u001b[0m\u001b[0;34m\u001b[0m\u001b[0m\n",
      "\u001b[0;32m~/anaconda3/envs/opencvenv/lib/python3.5/genericpath.py\u001b[0m in \u001b[0;36m_check_arg_types\u001b[0;34m(funcname, *args)\u001b[0m\n\u001b[1;32m    141\u001b[0m         \u001b[0;32melse\u001b[0m\u001b[0;34m:\u001b[0m\u001b[0;34m\u001b[0m\u001b[0m\n\u001b[1;32m    142\u001b[0m             raise TypeError('%s() argument must be str or bytes, not %r' %\n\u001b[0;32m--> 143\u001b[0;31m                             (funcname, s.__class__.__name__)) from None\n\u001b[0m\u001b[1;32m    144\u001b[0m     \u001b[0;32mif\u001b[0m \u001b[0mhasstr\u001b[0m \u001b[0;32mand\u001b[0m \u001b[0mhasbytes\u001b[0m\u001b[0;34m:\u001b[0m\u001b[0;34m\u001b[0m\u001b[0m\n\u001b[1;32m    145\u001b[0m         \u001b[0;32mraise\u001b[0m \u001b[0mTypeError\u001b[0m\u001b[0;34m(\u001b[0m\u001b[0;34m\"Can't mix strings and bytes in path components\"\u001b[0m\u001b[0;34m)\u001b[0m \u001b[0;32mfrom\u001b[0m \u001b[0;32mNone\u001b[0m\u001b[0;34m\u001b[0m\u001b[0m\n",
      "\u001b[0;31mTypeError\u001b[0m: join() argument must be str or bytes, not 'list'"
     ]
    }
   ],
   "source": [
    "os.path.join(pathname,filenames)"
   ]
  },
  {
   "cell_type": "markdown",
   "metadata": {},
   "source": [
    "看到出错了吧, 想想你对os.path.join()的要求也太高了, 它怎么知道pathname要跟list里面的每一个元素依次join呢"
   ]
  },
  {
   "cell_type": "markdown",
   "metadata": {},
   "source": [
    "# 循环\n",
    "\n",
    "这也是我之前刻意逃避的一个内容, 如果是处理数字, 我推荐尽量避免使用循环, 而直接用向量来处理. 但现在要处理字符串的部分, 可能还是需要介绍一下循环的使用"
   ]
  },
  {
   "cell_type": "code",
   "execution_count": 30,
   "metadata": {
    "ExecuteTime": {
     "end_time": "2017-10-19T06:26:29.419922Z",
     "start_time": "2017-10-19T06:26:29.412151Z"
    }
   },
   "outputs": [
    {
     "name": "stdout",
     "output_type": "stream",
     "text": [
      "['data/IOLdata00.xlsx', 'data/IOLdata01.xlsx']\n"
     ]
    }
   ],
   "source": [
    "filename_list=[]\n",
    "for f in filenames:\n",
    "    filename_list.append(os.path.join(pathname,f))\n",
    "print(filename_list)"
   ]
  },
  {
   "cell_type": "markdown",
   "metadata": {},
   "source": [
    "上面这一段代码中, 我先建立了一个空的list\n",
    "```python\n",
    "filename_list=[]\n",
    "```\n",
    "然后用list的一个功能 .append()往里添加元素\n",
    "```python\n",
    "filename_list.append(xxxx)\n",
    "```\n",
    "顺便说, x.y()这样的形式, 也是函数, 只不过.y()是x自带的函数, 如果需要知道x都自带了哪些函数, 可以用dir(x)这样的方式查询, 如果需要了解具体那个函数怎么用, 则可以用help. 当然更优选的方案是面向google/stackoverflow的编程.\n",
    "```python\n",
    "dir(filename_list)\n",
    "help(filename_list.append)\n",
    "```"
   ]
  },
  {
   "cell_type": "markdown",
   "metadata": {},
   "source": [
    "上面的代码中, 还有\n",
    "```python\n",
    "for f in filenames:\n",
    "    filename_list.append(os.path.join(pathname,f))\n",
    "```\n",
    "这就是一个for循环了. 循环变量f会依次跑遍filenames这个list里面的每一个元素, 然后f携带着list中的元素依次代入到循环体中参与工作. \n",
    "\n",
    "注意格式, \n",
    "* for语句的尾部需要有冒号: \n",
    "* 循环体要有统一的缩进, 一般是4个空格\n",
    "\n",
    "for循环最常见的例子, 恐怕就是从1一直加到100了"
   ]
  },
  {
   "cell_type": "code",
   "execution_count": 31,
   "metadata": {
    "ExecuteTime": {
     "end_time": "2017-10-19T06:26:31.033018Z",
     "start_time": "2017-10-19T06:26:31.027113Z"
    }
   },
   "outputs": [
    {
     "name": "stdout",
     "output_type": "stream",
     "text": [
      "5050\n"
     ]
    }
   ],
   "source": [
    "import numpy as np\n",
    "s=0\n",
    "for i in np.arange(1,100+1):  # 注意arange也是<, 所以要加到100, arange要到101\n",
    "   s=s+i\n",
    "print(s)"
   ]
  },
  {
   "cell_type": "code",
   "execution_count": 32,
   "metadata": {
    "ExecuteTime": {
     "end_time": "2017-10-19T06:26:31.868136Z",
     "start_time": "2017-10-19T06:26:31.859639Z"
    },
    "scrolled": true
   },
   "outputs": [
    {
     "name": "stdout",
     "output_type": "stream",
     "text": [
      "5050\n"
     ]
    }
   ],
   "source": [
    "# 我更喜欢这样的方式, 运算速度上会有一点差别, 但这个加法太简单, 不明显\n",
    "s=np.sum(np.arange(1,101))\n",
    "print(s)"
   ]
  },
  {
   "cell_type": "markdown",
   "metadata": {},
   "source": [
    "关于循环, 还有下面这样的形式, \n",
    "```python\n",
    "f_list=[os.path.join(pathname,f) for f in filenames]\n",
    "```\n",
    "这句话和\n",
    "```python\n",
    "filename_list=[]\n",
    "for f in filenames:\n",
    "    filename_list.append(os.path.join(pathname,f))\n",
    "```\n",
    "是完全一致的. 写法上简单了很多: \n",
    "* 方括号[ ]表示将产生一个list\n",
    "* 第一部分是os.path.join(pathname,f) , 表示list中的元素是怎么来的\n",
    "* 第二部分是一个类似for循环的东西, for f in filenames"
   ]
  },
  {
   "cell_type": "code",
   "execution_count": 33,
   "metadata": {
    "ExecuteTime": {
     "end_time": "2017-10-19T06:26:33.177034Z",
     "start_time": "2017-10-19T06:26:33.170499Z"
    }
   },
   "outputs": [
    {
     "name": "stdout",
     "output_type": "stream",
     "text": [
      "['data/IOLdata00.xlsx', 'data/IOLdata01.xlsx']\n"
     ]
    }
   ],
   "source": [
    "f_list=[os.path.join(pathname,f) for f in filenames]\n",
    "print(f_list)"
   ]
  },
  {
   "cell_type": "markdown",
   "metadata": {},
   "source": [
    "这个叫做list comprehension, 如果看python程序员写的代码, 会有非常多这样的结构出现, 初学者可能认为这样的方式可读性差一些, 属于奇技淫巧, 但由于使用的场景非常多, 所以呈现特殊形式也不难理解. 就像英文里复数并不总加s, 过去式并不总是ed, 而且越是常用的东西往往越不按照语法规则来. \n",
    "\n",
    "终于收拾好了文件名, 接下来我们可以读取excel文件了"
   ]
  },
  {
   "cell_type": "markdown",
   "metadata": {},
   "source": [
    "# pandas\n",
    "\n",
    "Pandas是一个python的数据处理库, 类似于numpy是一个科学计算库一样. 很多跟数据处理相关的工作需要用pandas来完成, 这堂课里我们只需要使用到跟excel读写相关的内容, 但pandas能做得东西更多, 具体的请参考Python for Data Analysis这本书, 这本书有免费的[在线版本](https://github.com/wesm/pydata-book), 也有中文版[<利用Python进行数据分析>](https://www.amazon.cn/mn/detailApp/?asin=B00KD7Q7U2) (居然还是kindle unlimited可免费借阅的, 总算让我觉得没白买). \n",
    "\n",
    "使用pandas, 也要先import, 一般把pandas简称为pd, 所以就是"
   ]
  },
  {
   "cell_type": "code",
   "execution_count": 34,
   "metadata": {
    "ExecuteTime": {
     "end_time": "2017-10-19T06:26:34.847245Z",
     "start_time": "2017-10-19T06:26:34.844083Z"
    },
    "collapsed": true
   },
   "outputs": [],
   "source": [
    "import pandas as pd "
   ]
  },
  {
   "cell_type": "markdown",
   "metadata": {},
   "source": [
    "(如果在本地电脑上安装pandas, 要小心里面还有两个坑, excel的读取和写入要借助另一组包xlrd和openpyxl, 需要安装他们, 否则报错. 我而anaconda居然没有自动解决这个问题. 不过cocalc和azure notebooks里面没问题)"
   ]
  },
  {
   "cell_type": "markdown",
   "metadata": {},
   "source": [
    "读取excel文件就是用pd.read_excel(文件名), 读取的结果是一种pandas的叫做DataFrame的数据结构, 看起来和带有索引的表格很接近. "
   ]
  },
  {
   "cell_type": "code",
   "execution_count": 35,
   "metadata": {
    "ExecuteTime": {
     "end_time": "2017-10-19T06:26:36.398506Z",
     "start_time": "2017-10-19T06:26:36.371744Z"
    },
    "scrolled": true
   },
   "outputs": [
    {
     "name": "stdout",
     "output_type": "stream",
     "text": [
      "      ID   name    A    AL    K1    K2  Ref\n",
      "0  21010  Bob00  119  21.7  41.3  40.3   -3\n",
      "1  21011  Bob01  119  20.7  39.1  40.9   -3\n",
      "2  21012  Bob02  119  24.7  40.8  40.1   -3\n",
      "3  21013  Bob03  119  19.3  39.8  42.4   -3\n",
      "4  21014  Bob04  119  20.7  40.6  39.1   -3\n",
      "5  21015  Bob05  119  22.0  42.2  42.6   -3\n",
      "6  21016  Bob06  119  19.3  40.0  39.7   -3\n",
      "7  21017  Bob07  119  25.5  41.0  39.3   -3\n",
      "8  21018  Bob08  119  21.3  40.6  39.4   -3\n"
     ]
    }
   ],
   "source": [
    "testdata=pd.read_excel(f_list[1])\n",
    "print(testdata)"
   ]
  },
  {
   "cell_type": "markdown",
   "metadata": {},
   "source": [
    "如果要取某一列的数据, 只需要用 .列名来调用, 如果要调用一列数据中的具体某个数据, 就用方括号括上序号即可. \n",
    "\n",
    "数据列和numpy的列向量在某种程度上是互通的. "
   ]
  },
  {
   "cell_type": "code",
   "execution_count": 36,
   "metadata": {
    "ExecuteTime": {
     "end_time": "2017-10-19T06:26:37.452972Z",
     "start_time": "2017-10-19T06:26:37.445426Z"
    }
   },
   "outputs": [
    {
     "name": "stdout",
     "output_type": "stream",
     "text": [
      "0    21.7\n",
      "1    20.7\n",
      "2    24.7\n",
      "3    19.3\n",
      "4    20.7\n",
      "5    22.0\n",
      "6    19.3\n",
      "7    25.5\n",
      "8    21.3\n",
      "Name: AL, dtype: float64\n",
      "39.1\n"
     ]
    }
   ],
   "source": [
    "print(testdata.AL)\n",
    "print(testdata.K1[1])"
   ]
  },
  {
   "cell_type": "markdown",
   "metadata": {},
   "source": [
    "# 读取多个excel表格\n",
    "\n",
    "前面折腾了半天的多个文件名, 就是为了要读取多个表格, 然后合并. \n",
    "\n",
    "读取多个表格可以使用for循环, 也可以用list comprehension"
   ]
  },
  {
   "cell_type": "code",
   "execution_count": 37,
   "metadata": {
    "ExecuteTime": {
     "end_time": "2017-10-19T06:26:39.021720Z",
     "start_time": "2017-10-19T06:26:39.002789Z"
    },
    "collapsed": true,
    "scrolled": true
   },
   "outputs": [],
   "source": [
    "IOLdata_list=[pd.read_excel(f) for f in f_list]"
   ]
  },
  {
   "cell_type": "markdown",
   "metadata": {},
   "source": [
    "合并数据表有多种方法, 在这里我使用的是pd.concat, 它能够把列表中的多个DataFrame合并成一个, 其中ignore_index=True是将索引序号给忽略重排了, 否则会出现两组1号, 两组2号. . . 关于pandas.concat的详细说明请Google查询. "
   ]
  },
  {
   "cell_type": "code",
   "execution_count": 38,
   "metadata": {
    "ExecuteTime": {
     "end_time": "2017-10-19T06:26:40.021675Z",
     "start_time": "2017-10-19T06:26:40.003838Z"
    },
    "scrolled": true
   },
   "outputs": [
    {
     "name": "stdout",
     "output_type": "stream",
     "text": [
      "       ID   name      A    AL    K1    K2  Ref\n",
      "17  11027  Sam17  118.4  24.6  42.6  39.5  0.0\n",
      "18  11028  Sam18  118.4  19.6  41.7  40.8  0.0\n",
      "19  21010  Bob00  119.0  21.7  41.3  40.3 -3.0\n",
      "20  21011  Bob01  119.0  20.7  39.1  40.9 -3.0\n"
     ]
    }
   ],
   "source": [
    "IOLdata=pd.concat(IOLdata_list,ignore_index=True) # 这里可以试试把True改成False\n",
    "print(IOLdata[17:21])"
   ]
  },
  {
   "cell_type": "markdown",
   "metadata": {},
   "source": [
    "读取了数据以后, 就可以直接当作列向量丢进函数里面了. 重写一下上节课的SRK_2函数. 如果上节课作业没有写的同学, 请不要看下面的剧透, 先回去把上节课作业写完. "
   ]
  },
  {
   "cell_type": "code",
   "execution_count": 39,
   "metadata": {
    "ExecuteTime": {
     "end_time": "2017-10-19T06:26:45.896117Z",
     "start_time": "2017-10-19T06:26:45.859096Z"
    },
    "collapsed": true
   },
   "outputs": [],
   "source": [
    "def on_L_change_A(L,A,Lmin,Lmax,deltaA):\n",
    "    #A=np.asarray(A).copy()\n",
    "    #L=np.asarray(L).copy()\n",
    "    assert A.shape()==L.shape()\n",
    "    pickout=np.logical_and(L>Lmin, L<=Lmax)\n",
    "    A[pickout] += deltaA\n",
    "    return A\n",
    "def SRK_2(A,K_1,K_2,L,REF=0):\n",
    "    A = np.asarray(A).copy() # 避免pandas修改原始数据, 还有更好的方案么? \n",
    "    A = on_L_change_A(L,A,0,    20,    3)\n",
    "    A = on_L_change_A(L,A,20,    21,    2)\n",
    "    A = on_L_change_A(L,A,21,    22,    1)\n",
    "    A = on_L_change_A(L,A,22,    24.5,  0)\n",
    "    A = on_L_change_A(L,A,24.5, 50,    -0.5)\n",
    "\n",
    "    K = (K_1+K_2)/2\n",
    "    P_emme= A - 0.9*K -2.5*L\n",
    "    CR = np.ones(P_emme.shape)\n",
    "    CR[ P_emme>=14 ]=1.25\n",
    "        \n",
    "    P_ammc=P_emme-REF*CR\n",
    "    return P_ammc"
   ]
  },
  {
   "cell_type": "markdown",
   "metadata": {},
   "source": [
    "# 调用数据\n",
    "\n",
    "前面说过, 就是用 .列名, 就可以调用已经读入的excel数据了, 而且在使用上和numpy array没有区别. 所以就可以直接送入到已经写好的函数中. "
   ]
  },
  {
   "cell_type": "code",
   "execution_count": 40,
   "metadata": {
    "ExecuteTime": {
     "end_time": "2017-10-19T06:26:48.334072Z",
     "start_time": "2017-10-19T06:26:48.325031Z"
    },
    "scrolled": true
   },
   "outputs": [
    {
     "name": "stdout",
     "output_type": "stream",
     "text": [
      "0    25.590\n",
      "1    23.235\n",
      "2    36.000\n",
      "3    19.465\n",
      "4    26.205\n",
      "dtype: float64\n"
     ]
    }
   ],
   "source": [
    "IOLpower=SRK_2(IOLdata.A, IOLdata.K1,IOLdata.K2,IOLdata.AL)\n",
    "print(IOLpower[0:5])\n",
    "IOLpower=pd.DataFrame(IOLpower)"
   ]
  },
  {
   "cell_type": "markdown",
   "metadata": {},
   "source": [
    "# 保存数据\n",
    "\n",
    "计算完成的结果, 应该存储下来, 供以后处理, 只保存计算好的IOL度数似乎没什么意义, 因为看不出与其他信息之间的关系了. 最简单的方法就是在原来的表后面加上一列计算结果, 然后保存. \n",
    "\n",
    "之前在合并多个excel表格的时候见过了pd.concat, 此处我们使用DataFrame的 .join()函数来给原来的IOLdata后面添加一列. (这里也可以用pd.concat)"
   ]
  },
  {
   "cell_type": "code",
   "execution_count": 41,
   "metadata": {
    "ExecuteTime": {
     "end_time": "2017-10-19T06:26:50.441042Z",
     "start_time": "2017-10-19T06:26:50.419459Z"
    },
    "scrolled": true
   },
   "outputs": [
    {
     "name": "stdout",
     "output_type": "stream",
     "text": [
      "       ID   name      A    AL    K1    K2  Ref       0\n",
      "0   11010  Sam00  118.4  22.4  42.3  39.5 -0.5  25.590\n",
      "1   11011  Sam01  118.4  23.0  42.4  41.3 -0.5  23.235\n",
      "2   11012  Sam02  118.4  19.4  42.7  39.3 -0.5  36.000\n",
      "3   11013  Sam03  118.4  25.1  39.5  39.8 -0.5  19.465\n",
      "4   11014  Sam04  118.4  22.1  41.5  40.6 -0.5  26.205\n",
      "5   11015  Sam05  118.4  24.0  42.2  41.2 -0.5  20.870\n",
      "6   11016  Sam06  118.4  22.6  41.3  40.5 -0.5  25.090\n",
      "7   11017  Sam07  118.4  21.6  41.7  39.2 -3.0  28.995\n",
      "8   11018  Sam08  118.4  24.5  40.5  42.7 -3.0  19.710\n",
      "9   11019  Sam09  118.4  19.0  41.6  41.8 -3.0  36.370\n",
      "10  11020  Sam10  118.4  24.4  39.0  40.4 -3.0  21.670\n",
      "11  11021  Sam11  118.4  19.0  42.4  39.3 -3.0  37.135\n",
      "12  11022  Sam12  118.4  22.0  39.8  42.9 -3.0  27.185\n",
      "13  11023  Sam13  118.4  24.1  39.7  39.8  0.0  22.375\n",
      "14  11024  Sam14  118.4  23.2  39.8  42.2  0.0  23.500\n",
      "15  11025  Sam15  118.4  20.0  40.4  40.9  0.0  34.815\n",
      "16  11026  Sam16  118.4  25.5  41.2  41.3  0.0  17.025\n",
      "17  11027  Sam17  118.4  24.6  42.6  39.5  0.0  19.455\n",
      "18  11028  Sam18  118.4  19.6  41.7  40.8  0.0  35.275\n",
      "19  21010  Bob00  119.0  21.7  41.3  40.3 -3.0  29.030\n",
      "20  21011  Bob01  119.0  20.7  39.1  40.9 -3.0  33.250\n",
      "21  21012  Bob02  119.0  24.7  40.8  40.1 -3.0  20.345\n",
      "22  21013  Bob03  119.0  19.3  39.8  42.4 -3.0  36.760\n",
      "23  21014  Bob04  119.0  20.7  40.6  39.1 -3.0  33.385\n",
      "24  21015  Bob05  119.0  22.0  42.2  42.6 -3.0  26.840\n",
      "25  21016  Bob06  119.0  19.3  40.0  39.7 -3.0  37.885\n",
      "26  21017  Bob07  119.0  25.5  41.0  39.3 -3.0  18.615\n",
      "27  21018  Bob08  119.0  21.3  40.6  39.4 -3.0  30.750\n"
     ]
    }
   ],
   "source": [
    "newIOLdata=IOLdata.join(IOLpower)\n",
    "print(newIOLdata)"
   ]
  },
  {
   "cell_type": "markdown",
   "metadata": {},
   "source": [
    "最后就是写入excel文件了. 动作与读取类似, 但这个 .to_excel(文件名)的函数是直接由DataFrame数据自带的函数, 所以用如下形式调用"
   ]
  },
  {
   "cell_type": "code",
   "execution_count": 19,
   "metadata": {
    "ExecuteTime": {
     "end_time": "2017-10-18T19:15:47.439676Z",
     "start_time": "2017-10-18T19:15:46.966569Z"
    },
    "collapsed": true
   },
   "outputs": [],
   "source": [
    "# 要确保装入了openpyxl\n",
    "newIOLdata.to_excel(os.path.join(pathname,'output.xlsx'))"
   ]
  },
  {
   "cell_type": "markdown",
   "metadata": {},
   "source": [
    "用Linux命令列一下data文件夹下的文件名, 确认是否新产生了'output.xlsx'的文件"
   ]
  },
  {
   "cell_type": "code",
   "execution_count": 20,
   "metadata": {
    "ExecuteTime": {
     "end_time": "2017-10-18T19:15:49.256194Z",
     "start_time": "2017-10-18T19:15:49.127328Z"
    }
   },
   "outputs": [
    {
     "name": "stdout",
     "output_type": "stream",
     "text": [
      "IOLdata00.xlsx IOLdata01.xlsx output.xlsx\r\n"
     ]
    }
   ],
   "source": [
    "!ls data"
   ]
  },
  {
   "cell_type": "markdown",
   "metadata": {},
   "source": [
    "如果在cocalc或者azure notebooks上, 就可以在文件中点击下载看看了"
   ]
  },
  {
   "cell_type": "markdown",
   "metadata": {},
   "source": [
    "# 目录\n",
    "* [第 0 课, 动机](./lesson_00_motivation.html)\n",
    "* [第 1 课, CoCalc](./lesson_01_jupyter.html)\n",
    "* [第 2 课, SRK公式](./lesson_02_SRK.html)\n",
    "  * [第 2 课, jupyter笔记本下载](./lesson_02_SRK.ipynb)\n",
    "* [第 3 课, SRK-II公式](./lesson_03_SRKII.html)\n",
    "  * [第 3 课, jupyter笔记本下载](./lesson_03_SRKII.ipynb)\n",
    "* [第 4 课, 一千零一个病人](./lesson_04_1001patients.html)\n",
    "  * [第 4 课, jupyter笔记本下载](./lesson_04_1001patients.ipynb)\n",
    "* [第 5 课, save 和 load](./lesson_05_pandas.html)\n",
    "  * [第 5 课, jupyter笔记本下载](./lesson_05_pandas.ipynb)\n"
   ]
  },
  {
   "cell_type": "code",
   "execution_count": null,
   "metadata": {
    "collapsed": true
   },
   "outputs": [],
   "source": []
  }
 ],
 "metadata": {
  "kernelspec": {
   "display_name": "Python 3",
   "language": "python",
   "name": "python3"
  },
  "language_info": {
   "codemirror_mode": {
    "name": "ipython",
    "version": 3
   },
   "file_extension": ".py",
   "mimetype": "text/x-python",
   "name": "python",
   "nbconvert_exporter": "python",
   "pygments_lexer": "ipython3",
   "version": "3.5.2"
  },
  "toc": {
   "colors": {
    "hover_highlight": "#DAA520",
    "navigate_num": "#000000",
    "navigate_text": "#333333",
    "running_highlight": "#FF0000",
    "selected_highlight": "#FFD700",
    "sidebar_border": "#EEEEEE",
    "wrapper_background": "#FFFFFF"
   },
   "moveMenuLeft": true,
   "nav_menu": {
    "height": "4px",
    "width": "254px"
   },
   "navigate_menu": true,
   "number_sections": true,
   "sideBar": true,
   "threshold": 4,
   "toc_cell": false,
   "toc_section_display": "block",
   "toc_window_display": false,
   "widenNotebook": false
  }
 },
 "nbformat": 4,
 "nbformat_minor": 2
}
