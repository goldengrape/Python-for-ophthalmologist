{
 "cells": [
  {
   "cell_type": "code",
   "execution_count": 26,
   "metadata": {
    "ExecuteTime": {
     "end_time": "2017-10-18T08:32:58.225614Z",
     "start_time": "2017-10-18T08:32:58.221651Z"
    },
    "collapsed": true
   },
   "outputs": [],
   "source": [
    "import pandas as pd # pandas里面还有两个坑, 要确定已经装入了xlrd和openpyxl\n",
    "import numpy as np\n",
    "import os "
   ]
  },
  {
   "cell_type": "code",
   "execution_count": 27,
   "metadata": {
    "ExecuteTime": {
     "end_time": "2017-10-18T08:32:59.679318Z",
     "start_time": "2017-10-18T08:32:59.664931Z"
    }
   },
   "outputs": [
    {
     "name": "stdout",
     "output_type": "stream",
     "text": [
      "data/IOLdata00.xlsx\n",
      "['data/IOLdata00.xlsx', 'data/IOLdata01.xlsx']\n",
      "['data/IOLdata00.xlsx', 'data/IOLdata01.xlsx']\n"
     ]
    }
   ],
   "source": [
    "pathname='data'\n",
    "filename=['IOLdata00.xlsx','IOLdata01.xlsx']\n",
    "print(os.path.join(pathname,filename[0]))\n",
    "filename_list=[]\n",
    "for f in filename:\n",
    "    filename_list.append(os.path.join(pathname,f))\n",
    "print(filename_list)\n",
    "f_list=[os.path.join(pathname,f) for f in filename]\n",
    "print(f_list)"
   ]
  },
  {
   "cell_type": "code",
   "execution_count": 28,
   "metadata": {
    "ExecuteTime": {
     "end_time": "2017-10-18T08:33:08.870420Z",
     "start_time": "2017-10-18T08:33:08.831900Z"
    },
    "scrolled": true
   },
   "outputs": [
    {
     "name": "stdout",
     "output_type": "stream",
     "text": [
      "       ID   name      A    AL    K1    K2  Ref\n",
      "17  11027  Sam17  118.4  24.6  42.6  39.5  0.0\n",
      "18  11028  Sam18  118.4  19.6  41.7  40.8  0.0\n",
      "19  21010  Bob00  119.0  21.7  41.3  40.3 -3.0\n",
      "20  21011  Bob01  119.0  20.7  39.1  40.9 -3.0\n"
     ]
    }
   ],
   "source": [
    "IOLdata_list=[pd.read_excel(f) for f in f_list]\n",
    "IOLdata=pd.concat(IOLdata_list,ignore_index=True)\n",
    "print(IOLdata[17:21])"
   ]
  },
  {
   "cell_type": "code",
   "execution_count": 29,
   "metadata": {
    "ExecuteTime": {
     "end_time": "2017-10-18T08:33:09.387163Z",
     "start_time": "2017-10-18T08:33:09.381419Z"
    }
   },
   "outputs": [
    {
     "name": "stdout",
     "output_type": "stream",
     "text": [
      "0    42.3\n",
      "1    42.4\n",
      "2    42.7\n",
      "3    39.5\n",
      "4    41.5\n",
      "Name: K1, dtype: float64\n"
     ]
    }
   ],
   "source": [
    "print(IOLdata.K1[0:5])"
   ]
  },
  {
   "cell_type": "code",
   "execution_count": 30,
   "metadata": {
    "ExecuteTime": {
     "end_time": "2017-10-18T08:33:09.984072Z",
     "start_time": "2017-10-18T08:33:09.950495Z"
    },
    "collapsed": true
   },
   "outputs": [],
   "source": [
    "def on_L_change_A(L,A,Lmin,Lmax,deltaA):\n",
    "    pickout=np.logical_and(L>Lmin, L<=Lmax)\n",
    "    A[pickout] += deltaA\n",
    "    return A\n",
    "def SRK_2(A,K_1,K_2,L,REF=0):\n",
    "    A = np.asarray(A).copy() # 避免pandas修改原始数据, 还有更好的方案么? \n",
    "    A = on_L_change_A(L,A,0,    20,    3)\n",
    "    A = on_L_change_A(L,A,20,    21,    2)\n",
    "    A = on_L_change_A(L,A,21,    22,    1)\n",
    "    A = on_L_change_A(L,A,22,    24.5,  0)\n",
    "    A = on_L_change_A(L,A,24.5, 50,    -0.5)\n",
    "\n",
    "    K = (K_1+K_2)/2\n",
    "    P_emme= A - 0.9*K -2.5*L\n",
    "    CR = np.ones(P_emme.shape)\n",
    "    CR[ P_emme>=14 ]=1.25\n",
    "        \n",
    "    P_ammc=P_emme-REF*CR\n",
    "    return P_ammc"
   ]
  },
  {
   "cell_type": "code",
   "execution_count": 31,
   "metadata": {
    "ExecuteTime": {
     "end_time": "2017-10-18T08:33:10.738990Z",
     "start_time": "2017-10-18T08:33:10.726814Z"
    }
   },
   "outputs": [],
   "source": [
    "IOLpower=SRK_2(IOLdata.A, IOLdata.K1,IOLdata.K2,IOLdata.AL)"
   ]
  },
  {
   "cell_type": "code",
   "execution_count": 32,
   "metadata": {
    "ExecuteTime": {
     "end_time": "2017-10-18T08:33:11.110211Z",
     "start_time": "2017-10-18T08:33:11.103305Z"
    }
   },
   "outputs": [],
   "source": [
    "newIOLdata=pd.concat([IOLdata,IOLpower],axis=1)"
   ]
  },
  {
   "cell_type": "code",
   "execution_count": 33,
   "metadata": {
    "ExecuteTime": {
     "end_time": "2017-10-18T08:33:11.556186Z",
     "start_time": "2017-10-18T08:33:11.525629Z"
    }
   },
   "outputs": [],
   "source": [
    "#print(newIOLdata)\n",
    "# 要确保装入了openpyxl\n",
    "newIOLdata.to_excel(os.path.join(pathname,'output.xlsx'))"
   ]
  },
  {
   "cell_type": "code",
   "execution_count": null,
   "metadata": {
    "collapsed": true
   },
   "outputs": [],
   "source": []
  }
 ],
 "metadata": {
  "kernelspec": {
   "display_name": "Python 3",
   "language": "python",
   "name": "python3"
  },
  "language_info": {
   "codemirror_mode": {
    "name": "ipython",
    "version": 3
   },
   "file_extension": ".py",
   "mimetype": "text/x-python",
   "name": "python",
   "nbconvert_exporter": "python",
   "pygments_lexer": "ipython3",
   "version": "3.5.2"
  },
  "toc": {
   "colors": {
    "hover_highlight": "#DAA520",
    "navigate_num": "#000000",
    "navigate_text": "#333333",
    "running_highlight": "#FF0000",
    "selected_highlight": "#FFD700",
    "sidebar_border": "#EEEEEE",
    "wrapper_background": "#FFFFFF"
   },
   "moveMenuLeft": true,
   "nav_menu": {
    "height": "4px",
    "width": "254px"
   },
   "navigate_menu": true,
   "number_sections": true,
   "sideBar": true,
   "threshold": 4,
   "toc_cell": false,
   "toc_section_display": "block",
   "toc_window_display": false,
   "widenNotebook": false
  }
 },
 "nbformat": 4,
 "nbformat_minor": 2
}
