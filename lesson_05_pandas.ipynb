{
 "cells": [
  {
   "cell_type": "markdown",
   "metadata": {},
   "source": [
    "# 读取进度\n",
    "\n",
    "玩游戏的话, 如果没有存盘和读取, 简直就没法玩了. 写程序也差不多, 除了要实时保存自己写好的代码, 还需要能够保存和读取数据. 比如做个临床研究, 不大可能手工一个一个按照numpy array的格式录入眼轴长L, 角膜曲率K之类的数据. 这类的数据往往是由机器导出的, 或者由哪个可怜的研究生去病案室抄出来然后存成一个文件的. \n",
    "\n",
    "这个文件很有可能是excel的. 所以, 这节课我们就以excel为例子读取一组病人的数据, 然后计算IOL度数, 再写入到excel里面. "
   ]
  },
  {
   "cell_type": "markdown",
   "metadata": {},
   "source": [
    "# 文件名\n",
    "\n",
    "欢迎来到现实世界. 前面几课我们面对的都是非常理想化的环境, 我们自己设定什么, 计算机就可以按照我们设想的去做. 但当涉及到文件操作的时候, 就不一定了. 比如, 对于桌面电脑, 可能主流有三类操作系统: Windows, macOS, Linux, 大多数非程序员是用Windows, 但也有相当多的眼科医生用macOS. 在程序员的世界里, 比如我推荐使用的CoCalc或者Azure Notebooks, 其实后台的操作系统是Linux的. \n",
    "\n",
    "如果你的文件IOLdata.xlsx存储在一个叫做data的文件夹下面, 那么, 问题出现了. 文件名在不同的系统写法会有一点细微的差别: \n",
    "* 对于Windows,       data\\IOLdata.xlsx\n",
    "* 对于macOS和Linux,  data/IOLdata.xlsx\n",
    "\n",
    "斜杠左右不同, 所以在读取文件的时候, 你不能简单指定文件名是'data\\IOLdata.xlsx' 还是 'data/IOLdata.xlsx', 因为你并不知道用程序的人用着什么样的电脑. \n",
    "\n",
    "萨特说 ** 他人即地狱 **\n",
    "\n",
    "所以我们需要用os库中的os.path.join函数来把文件的路径和文件名按照当前运行时的操作系统要求组合起来."
   ]
  },
  {
   "cell_type": "code",
   "execution_count": 62,
   "metadata": {
    "ExecuteTime": {
     "end_time": "2017-10-18T17:44:13.523569Z",
     "start_time": "2017-10-18T17:44:13.515060Z"
    },
    "scrolled": true
   },
   "outputs": [
    {
     "name": "stdout",
     "output_type": "stream",
     "text": [
      "data/IOLdata.xlsx\n"
     ]
    }
   ],
   "source": [
    "import os\n",
    "pathname='data'\n",
    "fname='IOLdata.xlsx'\n",
    "print(os.path.join(pathname,fname))"
   ]
  },
  {
   "cell_type": "markdown",
   "metadata": {},
   "source": [
    "上面的输出结果在不同的电脑上看起来可能会是不同的, 但如果你使用的是[CoCalc](https://cocalc.com)或者[Azure Notebooks](https://notebooks.azure.com)所提供的在线服务, 那么应该显示的是data/IOLdata.xlsx"
   ]
  },
  {
   "cell_type": "markdown",
   "metadata": {},
   "source": [
    "# 多个文件名\n",
    "\n",
    "你的合作伙伴很有可能给你的多个文件, 而不仅仅是一个, 当然你可以在excel中依次把它们打开, 然后复制粘贴到一起, (记得把第二个以后文件的标题行删掉). 但如果能够直接用程序读取并且合并不是更好么. \n",
    "\n",
    "下面, 我要讲解一个之前刻意跳过的内容: List\n",
    "\n",
    "其实也没什么神秘的, 就是用方括号[ ]装起来的一组东西, 这组东西必须是一个类型的, 比如都是数字, 或者都是字符. \n",
    "如果要访问第0个元素, 就用 list名[0], 第1个元素就用 list名[1]. ** 注意python是从0开始计数的. **"
   ]
  },
  {
   "cell_type": "code",
   "execution_count": 40,
   "metadata": {
    "ExecuteTime": {
     "end_time": "2017-10-18T16:20:22.479529Z",
     "start_time": "2017-10-18T16:20:22.471490Z"
    }
   },
   "outputs": [
    {
     "name": "stdout",
     "output_type": "stream",
     "text": [
      "['IOLdata00.xlsx', 'IOLdata01.xlsx']\n",
      "IOLdata00.xlsx\n",
      "IOLdata01.xlsx\n"
     ]
    }
   ],
   "source": [
    "filenames=['IOLdata00.xlsx','IOLdata01.xlsx']\n",
    "print(filenames)\n",
    "print(filenames[0])\n",
    "print(filenames[1])"
   ]
  },
  {
   "cell_type": "markdown",
   "metadata": {},
   "source": [
    "试试用os.path.join产生一组带有路径的文件名? "
   ]
  },
  {
   "cell_type": "code",
   "execution_count": 39,
   "metadata": {
    "ExecuteTime": {
     "end_time": "2017-10-18T16:17:17.458144Z",
     "start_time": "2017-10-18T16:17:17.440133Z"
    },
    "scrolled": true
   },
   "outputs": [
    {
     "ename": "TypeError",
     "evalue": "join() argument must be str or bytes, not 'list'",
     "output_type": "error",
     "traceback": [
      "\u001b[0;31m---------------------------------------------------------------------------\u001b[0m",
      "\u001b[0;31mTypeError\u001b[0m                                 Traceback (most recent call last)",
      "\u001b[0;32m<ipython-input-39-ecdbda71648b>\u001b[0m in \u001b[0;36m<module>\u001b[0;34m()\u001b[0m\n\u001b[0;32m----> 1\u001b[0;31m \u001b[0mos\u001b[0m\u001b[0;34m.\u001b[0m\u001b[0mpath\u001b[0m\u001b[0;34m.\u001b[0m\u001b[0mjoin\u001b[0m\u001b[0;34m(\u001b[0m\u001b[0mpathname\u001b[0m\u001b[0;34m,\u001b[0m\u001b[0mfilenames\u001b[0m\u001b[0;34m)\u001b[0m\u001b[0;34m\u001b[0m\u001b[0m\n\u001b[0m",
      "\u001b[0;32m~/anaconda3/envs/opencvenv/lib/python3.5/posixpath.py\u001b[0m in \u001b[0;36mjoin\u001b[0;34m(a, *p)\u001b[0m\n\u001b[1;32m     87\u001b[0m                 \u001b[0mpath\u001b[0m \u001b[0;34m+=\u001b[0m \u001b[0msep\u001b[0m \u001b[0;34m+\u001b[0m \u001b[0mb\u001b[0m\u001b[0;34m\u001b[0m\u001b[0m\n\u001b[1;32m     88\u001b[0m     \u001b[0;32mexcept\u001b[0m \u001b[0;34m(\u001b[0m\u001b[0mTypeError\u001b[0m\u001b[0;34m,\u001b[0m \u001b[0mAttributeError\u001b[0m\u001b[0;34m,\u001b[0m \u001b[0mBytesWarning\u001b[0m\u001b[0;34m)\u001b[0m\u001b[0;34m:\u001b[0m\u001b[0;34m\u001b[0m\u001b[0m\n\u001b[0;32m---> 89\u001b[0;31m         \u001b[0mgenericpath\u001b[0m\u001b[0;34m.\u001b[0m\u001b[0m_check_arg_types\u001b[0m\u001b[0;34m(\u001b[0m\u001b[0;34m'join'\u001b[0m\u001b[0;34m,\u001b[0m \u001b[0ma\u001b[0m\u001b[0;34m,\u001b[0m \u001b[0;34m*\u001b[0m\u001b[0mp\u001b[0m\u001b[0;34m)\u001b[0m\u001b[0;34m\u001b[0m\u001b[0m\n\u001b[0m\u001b[1;32m     90\u001b[0m         \u001b[0;32mraise\u001b[0m\u001b[0;34m\u001b[0m\u001b[0m\n\u001b[1;32m     91\u001b[0m     \u001b[0;32mreturn\u001b[0m \u001b[0mpath\u001b[0m\u001b[0;34m\u001b[0m\u001b[0m\n",
      "\u001b[0;32m~/anaconda3/envs/opencvenv/lib/python3.5/genericpath.py\u001b[0m in \u001b[0;36m_check_arg_types\u001b[0;34m(funcname, *args)\u001b[0m\n\u001b[1;32m    141\u001b[0m         \u001b[0;32melse\u001b[0m\u001b[0;34m:\u001b[0m\u001b[0;34m\u001b[0m\u001b[0m\n\u001b[1;32m    142\u001b[0m             raise TypeError('%s() argument must be str or bytes, not %r' %\n\u001b[0;32m--> 143\u001b[0;31m                             (funcname, s.__class__.__name__)) from None\n\u001b[0m\u001b[1;32m    144\u001b[0m     \u001b[0;32mif\u001b[0m \u001b[0mhasstr\u001b[0m \u001b[0;32mand\u001b[0m \u001b[0mhasbytes\u001b[0m\u001b[0;34m:\u001b[0m\u001b[0;34m\u001b[0m\u001b[0m\n\u001b[1;32m    145\u001b[0m         \u001b[0;32mraise\u001b[0m \u001b[0mTypeError\u001b[0m\u001b[0;34m(\u001b[0m\u001b[0;34m\"Can't mix strings and bytes in path components\"\u001b[0m\u001b[0;34m)\u001b[0m \u001b[0;32mfrom\u001b[0m \u001b[0;32mNone\u001b[0m\u001b[0;34m\u001b[0m\u001b[0m\n",
      "\u001b[0;31mTypeError\u001b[0m: join() argument must be str or bytes, not 'list'"
     ]
    }
   ],
   "source": [
    "os.path.join(pathname,filenames)"
   ]
  },
  {
   "cell_type": "markdown",
   "metadata": {},
   "source": [
    "看到出错了吧, 想想你对os.path.join()的要求也太高了, 它怎么知道pathname要跟list里面的每一个元素依次join呢"
   ]
  },
  {
   "cell_type": "markdown",
   "metadata": {},
   "source": [
    "# 循环\n",
    "\n",
    "这也是我之前刻意逃避的一个内容, 如果是处理数字, 我推荐尽量避免使用循环, 而直接用向量来处理. 但现在要处理字符串的部分, 可能还是需要介绍一下循环的使用"
   ]
  },
  {
   "cell_type": "code",
   "execution_count": 44,
   "metadata": {
    "ExecuteTime": {
     "end_time": "2017-10-18T16:26:28.675562Z",
     "start_time": "2017-10-18T16:26:28.667129Z"
    }
   },
   "outputs": [
    {
     "name": "stdout",
     "output_type": "stream",
     "text": [
      "['data/IOLdata00.xlsx', 'data/IOLdata01.xlsx']\n"
     ]
    }
   ],
   "source": [
    "filename_list=[]\n",
    "for f in filenames:\n",
    "    filename_list.append(os.path.join(pathname,f))\n",
    "print(filename_list)"
   ]
  },
  {
   "cell_type": "markdown",
   "metadata": {},
   "source": [
    "上面这一段代码中, 我先建立了一个空的list\n",
    "```python\n",
    "filename_list=[]\n",
    "```\n",
    "然后用list的一个功能 .append()往里添加元素\n",
    "```python\n",
    "filename_list.append(xxxx)\n",
    "```\n",
    "顺便说, x.y()这样的形式, 也是函数, 只不过.y()是x自带的函数, 如果需要知道x都自带了哪些函数, 可以用dir(x)这样的方式查询, 如果需要了解具体那个函数怎么用, 则可以用help. 当然更优选的方案是面向google/stackoverflow的编程.\n",
    "```python\n",
    "dir(filename_list)\n",
    "help(filename_list.append)\n",
    "```"
   ]
  },
  {
   "cell_type": "markdown",
   "metadata": {},
   "source": [
    "上面的代码中, 还有\n",
    "```python\n",
    "for f in filenames:\n",
    "    filename_list.append(os.path.join(pathname,f))\n",
    "```\n",
    "这就是一个for循环了. 循环变量f会依次跑遍filenames这个list里面的每一个元素, 然后f携带着list中的元素依次代入到循环体中参与工作. \n",
    "\n",
    "注意格式, \n",
    "* for语句的尾部需要有冒号: \n",
    "* 循环体要有统一的缩进, 一般是4个空格\n",
    "\n",
    "for循环最常见的例子, 恐怕就是从1一直加到100了"
   ]
  },
  {
   "cell_type": "code",
   "execution_count": 59,
   "metadata": {
    "ExecuteTime": {
     "end_time": "2017-10-18T16:56:48.795231Z",
     "start_time": "2017-10-18T16:56:48.787826Z"
    }
   },
   "outputs": [
    {
     "name": "stdout",
     "output_type": "stream",
     "text": [
      "5050\n"
     ]
    }
   ],
   "source": [
    "import numpy as np\n",
    "s=0\n",
    "for i in np.arange(1,100+1):  # 注意arange也是<, 所以要加到100, arange要到101\n",
    "   s=s+i\n",
    "print(s)"
   ]
  },
  {
   "cell_type": "code",
   "execution_count": 56,
   "metadata": {
    "ExecuteTime": {
     "end_time": "2017-10-18T16:54:20.462326Z",
     "start_time": "2017-10-18T16:54:20.456672Z"
    },
    "scrolled": true
   },
   "outputs": [
    {
     "name": "stdout",
     "output_type": "stream",
     "text": [
      "5050\n"
     ]
    }
   ],
   "source": [
    "# 我更喜欢这样的方式, 运算速度上会有一点差别, 但这个加法太简单, 不明显\n",
    "s=np.sum(np.arange(1,101))\n",
    "print(s)"
   ]
  },
  {
   "cell_type": "markdown",
   "metadata": {},
   "source": [
    "关于循环, 还有下面这样的形式, \n",
    "```python\n",
    "f_list=[os.path.join(pathname,f) for f in filenames]\n",
    "```\n",
    "这句话和\n",
    "```python\n",
    "filename_list=[]\n",
    "for f in filenames:\n",
    "    filename_list.append(os.path.join(pathname,f))\n",
    "```\n",
    "是完全一致的. 写法上简单了很多: \n",
    "* 方括号[ ]表示将产生一个list\n",
    "* 第一部分是os.path.join(pathname,f) , 表示list中的元素是怎么来的\n",
    "* 第二部分是一个类似for循环的东西, for f in filenames"
   ]
  },
  {
   "cell_type": "code",
   "execution_count": 61,
   "metadata": {
    "ExecuteTime": {
     "end_time": "2017-10-18T17:31:41.978601Z",
     "start_time": "2017-10-18T17:31:41.973587Z"
    }
   },
   "outputs": [
    {
     "name": "stdout",
     "output_type": "stream",
     "text": [
      "['data/IOLdata00.xlsx', 'data/IOLdata01.xlsx']\n"
     ]
    }
   ],
   "source": [
    "f_list=[os.path.join(pathname,f) for f in filenames]\n",
    "print(f_list)"
   ]
  },
  {
   "cell_type": "markdown",
   "metadata": {},
   "source": [
    "这个叫做list comprehension, 如果看python程序员写的代码, 会有非常多这样的结构出现, 初学者可能认为这样的方式可读性差一些, 属于奇技淫巧, 但由于使用的场景非常多, 所以呈现特殊形式也不难理解. 就像英文里复数并不总加s, 过去式并不总是ed, 而且越是常用的东西往往越不按照语法规则来. \n",
    "\n",
    "终于收拾好了文件名, 接下来我们可以读取excel文件了"
   ]
  },
  {
   "cell_type": "markdown",
   "metadata": {},
   "source": [
    "# pandas"
   ]
  },
  {
   "cell_type": "code",
   "execution_count": 26,
   "metadata": {
    "ExecuteTime": {
     "end_time": "2017-10-18T08:32:58.225614Z",
     "start_time": "2017-10-18T08:32:58.221651Z"
    },
    "collapsed": true
   },
   "outputs": [],
   "source": [
    "import pandas as pd # pandas里面还有两个坑, 要确定已经装入了xlrd和openpyxl"
   ]
  },
  {
   "cell_type": "code",
   "execution_count": 28,
   "metadata": {
    "ExecuteTime": {
     "end_time": "2017-10-18T08:33:08.870420Z",
     "start_time": "2017-10-18T08:33:08.831900Z"
    },
    "scrolled": true
   },
   "outputs": [
    {
     "name": "stdout",
     "output_type": "stream",
     "text": [
      "       ID   name      A    AL    K1    K2  Ref\n",
      "17  11027  Sam17  118.4  24.6  42.6  39.5  0.0\n",
      "18  11028  Sam18  118.4  19.6  41.7  40.8  0.0\n",
      "19  21010  Bob00  119.0  21.7  41.3  40.3 -3.0\n",
      "20  21011  Bob01  119.0  20.7  39.1  40.9 -3.0\n"
     ]
    }
   ],
   "source": [
    "IOLdata_list=[pd.read_excel(f) for f in f_list]\n",
    "IOLdata=pd.concat(IOLdata_list,ignore_index=True)\n",
    "print(IOLdata[17:21])"
   ]
  },
  {
   "cell_type": "code",
   "execution_count": 29,
   "metadata": {
    "ExecuteTime": {
     "end_time": "2017-10-18T08:33:09.387163Z",
     "start_time": "2017-10-18T08:33:09.381419Z"
    }
   },
   "outputs": [
    {
     "name": "stdout",
     "output_type": "stream",
     "text": [
      "0    42.3\n",
      "1    42.4\n",
      "2    42.7\n",
      "3    39.5\n",
      "4    41.5\n",
      "Name: K1, dtype: float64\n"
     ]
    }
   ],
   "source": [
    "print(IOLdata.K1[0:5])"
   ]
  },
  {
   "cell_type": "code",
   "execution_count": 30,
   "metadata": {
    "ExecuteTime": {
     "end_time": "2017-10-18T08:33:09.984072Z",
     "start_time": "2017-10-18T08:33:09.950495Z"
    },
    "collapsed": true
   },
   "outputs": [],
   "source": [
    "def on_L_change_A(L,A,Lmin,Lmax,deltaA):\n",
    "    pickout=np.logical_and(L>Lmin, L<=Lmax)\n",
    "    A[pickout] += deltaA\n",
    "    return A\n",
    "def SRK_2(A,K_1,K_2,L,REF=0):\n",
    "    A = np.asarray(A).copy() # 避免pandas修改原始数据, 还有更好的方案么? \n",
    "    A = on_L_change_A(L,A,0,    20,    3)\n",
    "    A = on_L_change_A(L,A,20,    21,    2)\n",
    "    A = on_L_change_A(L,A,21,    22,    1)\n",
    "    A = on_L_change_A(L,A,22,    24.5,  0)\n",
    "    A = on_L_change_A(L,A,24.5, 50,    -0.5)\n",
    "\n",
    "    K = (K_1+K_2)/2\n",
    "    P_emme= A - 0.9*K -2.5*L\n",
    "    CR = np.ones(P_emme.shape)\n",
    "    CR[ P_emme>=14 ]=1.25\n",
    "        \n",
    "    P_ammc=P_emme-REF*CR\n",
    "    return P_ammc"
   ]
  },
  {
   "cell_type": "code",
   "execution_count": 31,
   "metadata": {
    "ExecuteTime": {
     "end_time": "2017-10-18T08:33:10.738990Z",
     "start_time": "2017-10-18T08:33:10.726814Z"
    },
    "collapsed": true
   },
   "outputs": [],
   "source": [
    "IOLpower=SRK_2(IOLdata.A, IOLdata.K1,IOLdata.K2,IOLdata.AL)"
   ]
  },
  {
   "cell_type": "code",
   "execution_count": 32,
   "metadata": {
    "ExecuteTime": {
     "end_time": "2017-10-18T08:33:11.110211Z",
     "start_time": "2017-10-18T08:33:11.103305Z"
    },
    "collapsed": true
   },
   "outputs": [],
   "source": [
    "newIOLdata=pd.concat([IOLdata,IOLpower],axis=1)"
   ]
  },
  {
   "cell_type": "code",
   "execution_count": 33,
   "metadata": {
    "ExecuteTime": {
     "end_time": "2017-10-18T08:33:11.556186Z",
     "start_time": "2017-10-18T08:33:11.525629Z"
    },
    "collapsed": true
   },
   "outputs": [],
   "source": [
    "#print(newIOLdata)\n",
    "# 要确保装入了openpyxl\n",
    "newIOLdata.to_excel(os.path.join(pathname,'output.xlsx'))"
   ]
  },
  {
   "cell_type": "code",
   "execution_count": null,
   "metadata": {
    "collapsed": true
   },
   "outputs": [],
   "source": []
  }
 ],
 "metadata": {
  "kernelspec": {
   "display_name": "Python 3",
   "language": "python",
   "name": "python3"
  },
  "language_info": {
   "codemirror_mode": {
    "name": "ipython",
    "version": 3
   },
   "file_extension": ".py",
   "mimetype": "text/x-python",
   "name": "python",
   "nbconvert_exporter": "python",
   "pygments_lexer": "ipython3",
   "version": "3.5.2"
  },
  "toc": {
   "colors": {
    "hover_highlight": "#DAA520",
    "navigate_num": "#000000",
    "navigate_text": "#333333",
    "running_highlight": "#FF0000",
    "selected_highlight": "#FFD700",
    "sidebar_border": "#EEEEEE",
    "wrapper_background": "#FFFFFF"
   },
   "moveMenuLeft": true,
   "nav_menu": {
    "height": "4px",
    "width": "254px"
   },
   "navigate_menu": true,
   "number_sections": true,
   "sideBar": true,
   "threshold": 4,
   "toc_cell": false,
   "toc_section_display": "block",
   "toc_window_display": false,
   "widenNotebook": false
  }
 },
 "nbformat": 4,
 "nbformat_minor": 2
}
