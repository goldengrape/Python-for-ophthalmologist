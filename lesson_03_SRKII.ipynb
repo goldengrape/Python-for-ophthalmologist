{
 "cells": [
  {
   "cell_type": "markdown",
   "metadata": {},
   "source": [
    "# 条件判断\n",
    "\n",
    "来看SRK-II公式, 这个公式中经过修正的A常数A1, 是和眼轴长L有关的. \n",
    "\n",
    "* 当 L< 20.0 时, A1= A+3\n",
    "* 当 20.0<= L < 21.0 时, A1= A+2\n",
    "* 当 21.0<= L < 22.0 时, A1= A+1\n",
    "* 当 22.0<= L < 24.5 时, A1= A\n",
    "* 当 L > 24.5.0 时, A1= A-0.5\n",
    "\n",
    "这是一个分段函数, 需要判断条件, 才能决定另一个参数. 遇到这种情况就需要使用if语句了. \n",
    "``` python\n",
    "if 条件1为真 :\n",
    "    执行这一段代码\n",
    "elif 条件2为真 :\n",
    "    执行这一段代码\n",
    "else : \n",
    "    以上条件都不满足, 执行这一段代码\n",
    "```\n",
    "\n",
    "不知道有人注意过没有, 在医学公式里, 存在条件判断是常态. 而在物理学里面, 特别是描述世界本质的理论物理, 据我所知并没有一个是带有if语句的公式. 真是奇怪的世界. \n"
   ]
  },
  {
   "cell_type": "code",
   "execution_count": 1,
   "metadata": {
    "ExecuteTime": {
     "end_time": "2017-09-29T15:11:53.366400Z",
     "start_time": "2017-09-29T15:11:53.316325Z"
    },
    "collapsed": true
   },
   "outputs": [],
   "source": [
    "def SRK_2(A,K_1,K_2,L,REF=0):\n",
    "    if L < 20.0 :\n",
    "        A1=A+3\n",
    "    elif L < 21.0 :\n",
    "        A1=A+2\n",
    "    elif L < 22.0 :\n",
    "        A1=A+1\n",
    "    elif L == 22.0:\n",
    "        A1=A\n",
    "    elif L > 22.0 and L < 24.5 :\n",
    "        A1=A\n",
    "    elif L >= 24.5:\n",
    "        A1=A-0.5\n",
    "    \n",
    "    K = (K_1+K_2)/2\n",
    "    P_emme= A1- 0.9*K -2.5*L\n",
    "    \n",
    "    if P_emme < 14:\n",
    "        CR = 1.00\n",
    "    else:\n",
    "        CR = 1.25\n",
    "        \n",
    "    P_ammc=P_emme-REF*CR\n",
    "    return P_ammc"
   ]
  },
  {
   "cell_type": "code",
   "execution_count": 2,
   "metadata": {
    "ExecuteTime": {
     "end_time": "2017-09-29T15:11:53.376539Z",
     "start_time": "2017-09-29T15:11:53.369000Z"
    }
   },
   "outputs": [
    {
     "name": "stdout",
     "output_type": "stream",
     "text": [
      "26.0\n"
     ]
    }
   ],
   "source": [
    "print(SRK_2(118.4,40,42,22.2))"
   ]
  },
  {
   "cell_type": "markdown",
   "metadata": {},
   "source": [
    "注意一些if的使用细节: \n",
    "\n",
    "* 每个if/ elif/ else后面都要有冒号: \n",
    "* 每个代码块要注意有相同的缩进\n",
    "* python用两个等号==表示等于\n",
    "* 如果需要判断多个逻辑关系, 可以用and 或者 or 来将各个判断条件联系起来. 医学文献里经常出现的and/or是非常错误的写法. \n",
    "\n",
    "在上面的函数定义中, 除了用到了if elif else以外, 还有一个小细节: \n",
    "```python\n",
    "def SRK_2(A,K_1,K_2,L,REF=0):\n",
    "```\n",
    "其中REF=0的含义是, 这个REF参数有缺省值=0, 如果在调用函数的时候没有写它, 这个参数就等于缺省值. \n"
   ]
  },
  {
   "cell_type": "code",
   "execution_count": 3,
   "metadata": {
    "ExecuteTime": {
     "end_time": "2017-09-29T15:11:53.392221Z",
     "start_time": "2017-09-29T15:11:53.379827Z"
    }
   },
   "outputs": [
    {
     "name": "stdout",
     "output_type": "stream",
     "text": [
      "术后预留-3D: \n",
      "29.75\n",
      "29.75\n",
      "术后保留正视眼: \n",
      "26.0\n"
     ]
    }
   ],
   "source": [
    "print(\"术后预留-3D: \")\n",
    "print(SRK_2(118.4,40,42,22.2, REF=-3.00))\n",
    "print(SRK_2(118.4,40,42,22.2,-3.00))\n",
    "print(\"术后保留正视眼: \")\n",
    "print(SRK_2(118.4,40, 42,22.2))"
   ]
  },
  {
   "cell_type": "markdown",
   "metadata": {},
   "source": [
    "# 练习\n",
    "干脆把几个IOL公式都写了吧: \n",
    "\n",
    "\n"
   ]
  },
  {
   "cell_type": "markdown",
   "metadata": {},
   "source": [
    "## SRK-T\n",
    "* 正视眼: \n",
    "P_emme = ( 1000 * na * X ) / ((L1-C1) * Y) \n",
    "\n",
    "* 屈光不正眼: \n",
    "P_amet = ( 1000 * na * (X-0.001*REF*(V*X+L1*r) ))/((L1-C1)*(Y-0.001*REF*(V*X+C1*r))\n",
    "\n",
    "* 其中: \n",
    "  * X  = na*r-L1*(nc-1)\n",
    "  * Y  = na*r - C1*(nc -1)\n",
    "  * L1 光学视轴长\n",
    "    * L1=L+(0.65696- 0.02029 * L)\n",
    "  * REF 目标屈光度\n",
    "  * r 平均角膜曲率\n",
    "    * r = 337.5/K\n",
    "  * W 计算角膜厚度\n",
    "    * W= -5.41+0.58412 * LC + 0.098 * K\n",
    "  * LC 修正眼轴长\n",
    "    * if L<=24.2: LC=L\n",
    "    * if L>24.2:  LC=-3.446+1.176*L-0.237*(L**2)\n",
    "  * C1 估计术后前房深度\n",
    "    * C1=H + Ofst\n",
    "  * Ofst Calculated distance between  the iris sufrace and IOL optical surface including corneal thickness(mm)\n",
    "    * Ofst=(0.62467*A-68.747)-3.336\n",
    "  * H 角膜穹顶高\n",
    "    * $ H=r-\\sqrt{r^2-W^2/4} $\n",
    "  * A : A常数\n",
    "  * K 平均角膜屈光度\n",
    "    * K=(K1+K2)/2\n",
    "  * P 植入IOL度数\n",
    "  * V 顶点距离 V=12\n",
    "  * na 房水和玻璃体折射率 na=1.336\n",
    "  * nc 角膜折射率 nc=1.333\n",
    "    \n",
    "洋人非常喜欢倒叙, 注意在写程序的时候要把叙述的顺序搞清楚. "
   ]
  },
  {
   "cell_type": "markdown",
   "metadata": {},
   "source": [
    "## 导入数学库\n",
    "\n",
    "$$ H=r-\\sqrt{r^2-W^2/4} $$\n",
    "\n",
    "需要注意的是, 在计算H的时候, 用到了平方和开方. \n",
    "\n",
    "平方用两个 * 号表示: $r^2==r**2 $\n",
    "\n",
    "python的标准库里是没有开方运算的. 需要导入一个数学库numpy, 今后我们会经常使用numpy\n",
    "\n",
    "比如计算 $ \\sqrt{2} $"
   ]
  },
  {
   "cell_type": "code",
   "execution_count": 4,
   "metadata": {
    "ExecuteTime": {
     "end_time": "2017-09-29T15:11:54.976559Z",
     "start_time": "2017-09-29T15:11:53.395105Z"
    }
   },
   "outputs": [
    {
     "data": {
      "text/plain": [
       "1.4142135623730951"
      ]
     },
     "execution_count": 4,
     "metadata": {},
     "output_type": "execute_result"
    }
   ],
   "source": [
    "import numpy as np\n",
    "np.sqrt(2)"
   ]
  },
  {
   "cell_type": "markdown",
   "metadata": {},
   "source": [
    "```python\n",
    "import numpy as np\n",
    "```\n",
    "这句话的意思是, 导入numpy这个数学库, 并且把它简称为np, 虽然也可以简称为其他, 但大家习惯上还是使用np. \n",
    "\n",
    "导入了数学库以后, 要调用数学库中的运算, 就用np.XXX( ), 比如开方:  np.sqrt(2)\n",
    "\n",
    "通常来说导入外部库的import语句放在程序的最开头. 不过反正在调用之前都可以, 而且只要import一次就好了. \n",
    "\n"
   ]
  },
  {
   "cell_type": "code",
   "execution_count": 5,
   "metadata": {
    "ExecuteTime": {
     "end_time": "2017-09-29T15:11:55.082318Z",
     "start_time": "2017-09-29T15:11:54.979257Z"
    },
    "collapsed": true
   },
   "outputs": [],
   "source": [
    "def SRK_T( REF=0): # 参数表会有不少哦, 自己看着填吧\n",
    "    V=12\n",
    "    na=1.336\n",
    "    nc=1.333\n",
    "    K=(K1+K2)/2\n",
    "    r = 337.5/K\n",
    "    # 此行以下填写\n",
    "    if L<=24.2: \n",
    "        LC=None\n",
    "    elif L>24.2: \n",
    "        LC=None\n",
    "    \n",
    "    W = None\n",
    "    H = r-np.sqrt(r**2-(W**2)/4)\n",
    "    Ofst = None\n",
    "    C1 = None\n",
    "    L1 = None\n",
    "    X = None\n",
    "    Y = None\n",
    "    \n",
    "    P_amet = None\n",
    "\n",
    "    # 此行以上填写\n",
    "    return P_amet"
   ]
  },
  {
   "cell_type": "markdown",
   "metadata": {},
   "source": [
    "# 目录\n",
    "* [第 0 课, 动机](./lesson_00_motivation.html)\n",
    "* [第 1 课, CoCalc](./lesson_01_jupyter.html)\n",
    "* [第 2 课, SRK公式](./lesson_02_SRK.html)\n",
    "  * [第 2 课, jupyter笔记本下载](./lesson_02_SRK.ipynb)\n",
    "* [第 3 课, SRK-II公式](./lesson_03_SRKII.html)\n",
    "  * [第 3 课, jupyter笔记本下载](./lesson_03_SRKII.ipynb)\n",
    "* [第 4 课, 一千零一个病人](./lesson_04_1001patients.html)\n",
    "  * [第 4 课, jupyter笔记本下载](./lesson_04_1001patients.ipynb)\n",
    "* [第 5 课, save 和 load](./lesson_05_pandas.html)\n",
    "  * [第 5 课, jupyter笔记本下载](./lesson_05_pandas.ipynb)\n"
   ]
  },
  {
   "cell_type": "code",
   "execution_count": null,
   "metadata": {
    "collapsed": true
   },
   "outputs": [],
   "source": []
  }
 ],
 "metadata": {
  "kernelspec": {
   "display_name": "Python 3",
   "language": "python",
   "name": "python3"
  },
  "language_info": {
   "codemirror_mode": {
    "name": "ipython",
    "version": 3
   },
   "file_extension": ".py",
   "mimetype": "text/x-python",
   "name": "python",
   "nbconvert_exporter": "python",
   "pygments_lexer": "ipython3",
   "version": "3.5.2"
  },
  "toc": {
   "colors": {
    "hover_highlight": "#DAA520",
    "navigate_num": "#000000",
    "navigate_text": "#333333",
    "running_highlight": "#FF0000",
    "selected_highlight": "#FFD700",
    "sidebar_border": "#EEEEEE",
    "wrapper_background": "#FFFFFF"
   },
   "moveMenuLeft": true,
   "nav_menu": {
    "height": "92px",
    "width": "254px"
   },
   "navigate_menu": true,
   "number_sections": true,
   "sideBar": true,
   "threshold": 4,
   "toc_cell": false,
   "toc_section_display": "block",
   "toc_window_display": false,
   "widenNotebook": false
  }
 },
 "nbformat": 4,
 "nbformat_minor": 2
}
