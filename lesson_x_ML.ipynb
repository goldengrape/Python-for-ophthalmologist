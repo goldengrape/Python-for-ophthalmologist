{
 "cells": [
  {
   "cell_type": "markdown",
   "metadata": {},
   "source": [
    "# 公式拟合\n",
    "\n",
    "某医院进行临床登记实验, 收集白内障病例2000眼, 进行Phaco+IOL植入术, 使用SRK-2公式进行IOL计算, \n",
    "\n",
    "术前检查记录: \n",
    "* 选用IOL的A常数: A\n",
    "* 角膜曲率: K1, K2\n",
    "* 眼轴长: L\n",
    "* 目标屈光度: REF\n",
    "\n",
    "术中记录: \n",
    "* 植入IOL度数: P\n",
    "\n",
    "术后3个月复查: \n",
    "* 仅记录了术后对屈光状态不满意, 给予眼镜处方患者的显然验光结果: PostREF\n",
    "* 一部分病人失访, 术后验光结果空缺\n",
    "\n",
    "现该医院委托你拟合一个新的IOL计算公式, 所有的病例数据已经整理好存成excel文件, 放在了data文件夹内的sampleIOLdataset.xlsx文件中. \n"
   ]
  },
  {
   "cell_type": "markdown",
   "metadata": {},
   "source": [
    "# 读取数据集"
   ]
  },
  {
   "cell_type": "code",
   "execution_count": 14,
   "metadata": {
    "ExecuteTime": {
     "end_time": "2017-10-26T01:55:56.290390Z",
     "start_time": "2017-10-26T01:55:50.167003Z"
    },
    "collapsed": true
   },
   "outputs": [],
   "source": [
    "import os\n",
    "import pandas as pd\n",
    "pathname='data'\n",
    "fname='sampleIOLdataset.xlsx'\n",
    "filename=os.path.join(pathname,fname)\n",
    "IOLdata=testdata=pd.read_excel(filename)"
   ]
  },
  {
   "cell_type": "code",
   "execution_count": 15,
   "metadata": {
    "ExecuteTime": {
     "end_time": "2017-10-26T01:55:56.358660Z",
     "start_time": "2017-10-26T01:55:56.293217Z"
    }
   },
   "outputs": [
    {
     "name": "stdout",
     "output_type": "stream",
     "text": [
      "       A         K1         K2          L   REF   IOLPower  PostOPREF\n",
      "0  118.8  41.351356  42.312151  24.171811 -0.50  21.346894  -0.250431\n",
      "1  118.4  43.621478  43.501080  24.586358 -3.25  21.291454  -1.088519\n",
      "2  118.4  42.109335  38.567343  24.283508 -3.25  25.449224  -0.981862\n",
      "3  118.8  37.217467  41.210893  23.503847 -3.25  28.810120  -1.493851\n",
      "4  119.0  42.110941  38.590989  23.361435 -3.25  28.343045  -1.620569\n",
      "0    118.8\n",
      "1    118.4\n",
      "2    118.4\n",
      "Name: A, dtype: float64\n"
     ]
    }
   ],
   "source": [
    "print(IOLdata[0:5])\n",
    "print(IOLdata.A[0:3])\n"
   ]
  },
  {
   "cell_type": "markdown",
   "metadata": {},
   "source": [
    "# 数据清洗"
   ]
  },
  {
   "cell_type": "code",
   "execution_count": 16,
   "metadata": {
    "ExecuteTime": {
     "end_time": "2017-10-26T01:55:56.401285Z",
     "start_time": "2017-10-26T01:55:56.375083Z"
    }
   },
   "outputs": [
    {
     "name": "stdout",
     "output_type": "stream",
     "text": [
      "Empty DataFrame\n",
      "Columns: [A, K1, K2, L, REF, IOLPower, PostOPREF]\n",
      "Index: []\n"
     ]
    }
   ],
   "source": [
    "import numpy as np\n",
    "nanlist=np.isnan(IOLdata.PostOPREF)\n",
    "print(IOLdata[nanlist][0:4])"
   ]
  },
  {
   "cell_type": "code",
   "execution_count": 17,
   "metadata": {
    "ExecuteTime": {
     "end_time": "2017-10-26T01:55:56.449348Z",
     "start_time": "2017-10-26T01:55:56.408522Z"
    },
    "scrolled": true
   },
   "outputs": [
    {
     "name": "stdout",
     "output_type": "stream",
     "text": [
      "Empty DataFrame\n",
      "Columns: [A, K1, K2, L, REF, IOLPower, PostOPREF]\n",
      "Index: []\n",
      "(20000, 1)\n",
      "(20000, 6)\n"
     ]
    }
   ],
   "source": [
    "IOLdata.PostOPREF[nanlist]=IOLdata.REF[nanlist]\n",
    "# IOLdata=IOLdata.replace(np.nan,0)\n",
    "print(IOLdata[nanlist][0:4])\n",
    "y_data=np.asarray(IOLdata.PostOPREF).T.reshape(-1,1)\n",
    "x_data=np.asarray(IOLdata)[:,0:6]\n",
    "\n",
    "print(y_data.shape)\n",
    "print(x_data.shape)"
   ]
  },
  {
   "cell_type": "code",
   "execution_count": 18,
   "metadata": {
    "ExecuteTime": {
     "end_time": "2017-10-26T01:55:56.493848Z",
     "start_time": "2017-10-26T01:55:56.455303Z"
    },
    "scrolled": true
   },
   "outputs": [],
   "source": [
    "y_mean=np.mean(y_data)\n",
    "y_std=np.std(y_data)\n",
    "new_y_data=(y_data-y_mean)/y_std\n",
    "splitNum=int(new_y_data.shape[0]*0.8)\n",
    "\n",
    "y_train=new_y_data[0:splitNum]\n",
    "y_test=new_y_data[splitNum:]\n",
    "\n",
    "\n",
    "x_mean=np.mean(x_data,axis=0,keepdims=True)\n",
    "x_std=np.std(x_data,axis=0,keepdims=True)\n",
    "\n",
    "new_x_data=(x_data-x_mean)/x_std\n",
    "\n",
    "x_train=new_x_data[:splitNum]\n",
    "x_test=new_x_data[splitNum:]\n"
   ]
  },
  {
   "cell_type": "markdown",
   "metadata": {},
   "source": [
    "# 神经网络简介"
   ]
  },
  {
   "cell_type": "markdown",
   "metadata": {},
   "source": [
    "# Keras简介"
   ]
  },
  {
   "cell_type": "markdown",
   "metadata": {},
   "source": [
    "https://keras-cn.readthedocs.io/en/latest/"
   ]
  },
  {
   "cell_type": "markdown",
   "metadata": {},
   "source": [
    "# 建立深度神经网络"
   ]
  },
  {
   "cell_type": "code",
   "execution_count": 19,
   "metadata": {
    "ExecuteTime": {
     "end_time": "2017-10-26T01:55:56.948774Z",
     "start_time": "2017-10-26T01:55:56.496607Z"
    }
   },
   "outputs": [],
   "source": [
    "# import keras\n",
    "from keras.models import Sequential\n",
    "from keras.layers import Dense, Activation\n",
    "from keras import initializers,optimizers\n",
    "\n",
    "model = Sequential()\n",
    "model.add(Dense(units=18,\n",
    "                input_dim=6,\n",
    "                activation=\"relu\",\n",
    "                kernel_initializer=initializers.glorot_normal(seed=0) ))\n",
    "model.add(Dense(units=12,\n",
    "                activation=\"relu\",\n",
    "                kernel_initializer=initializers.glorot_normal()))\n",
    "model.add(Dense(units=1,\n",
    "                activation=\"tanh\",\n",
    "                kernel_initializer=initializers.glorot_normal()))\n",
    "\n",
    "from keras.optimizers import SGD\n",
    "model.compile(loss='mean_squared_error', \n",
    "              optimizer='rmsprop',\n",
    "              #optimizer=optimizers.Adam(lr=0.001, beta_1=0.9, beta_2=0.999, epsilon=1e-08),\n",
    "              #metrics=['loss']\n",
    "             )\n",
    "\n"
   ]
  },
  {
   "cell_type": "code",
   "execution_count": 20,
   "metadata": {
    "ExecuteTime": {
     "end_time": "2017-10-26T01:56:09.728692Z",
     "start_time": "2017-10-26T01:55:56.956178Z"
    },
    "scrolled": false
   },
   "outputs": [
    {
     "name": "stdout",
     "output_type": "stream",
     "text": [
      "Epoch 1/10\n",
      "16000/16000 [==============================] - 1s - loss: 0.2715     \n",
      "Epoch 2/10\n",
      "16000/16000 [==============================] - 1s - loss: 0.1705     \n",
      "Epoch 3/10\n",
      "16000/16000 [==============================] - 0s - loss: 0.1633     \n",
      "Epoch 4/10\n",
      "16000/16000 [==============================] - 1s - loss: 0.1571     \n",
      "Epoch 5/10\n",
      "16000/16000 [==============================] - 1s - loss: 0.1507     \n",
      "Epoch 6/10\n",
      "16000/16000 [==============================] - 0s - loss: 0.1442     \n",
      "Epoch 7/10\n",
      "16000/16000 [==============================] - 0s - loss: 0.1396     \n",
      "Epoch 8/10\n",
      "16000/16000 [==============================] - 1s - loss: 0.1369     \n",
      "Epoch 9/10\n",
      "16000/16000 [==============================] - 0s - loss: 0.1352     \n",
      "Epoch 10/10\n",
      "16000/16000 [==============================] - 0s - loss: 0.1340     \n"
     ]
    },
    {
     "data": {
      "text/plain": [
       "<keras.callbacks.History at 0x121b2cf98>"
      ]
     },
     "execution_count": 20,
     "metadata": {},
     "output_type": "execute_result"
    }
   ],
   "source": [
    "model.fit(x_train, y_train)#, epochs=200, batch_size=50)"
   ]
  },
  {
   "cell_type": "markdown",
   "metadata": {},
   "source": [
    "结果也太渣了"
   ]
  },
  {
   "cell_type": "markdown",
   "metadata": {},
   "source": [
    "# 训练拟合"
   ]
  },
  {
   "cell_type": "markdown",
   "metadata": {},
   "source": [
    "# 使用深度神经网络进行预测"
   ]
  },
  {
   "cell_type": "code",
   "execution_count": null,
   "metadata": {
    "collapsed": true
   },
   "outputs": [],
   "source": []
  }
 ],
 "metadata": {
  "kernelspec": {
   "display_name": "Python 3",
   "language": "python",
   "name": "python3"
  },
  "language_info": {
   "codemirror_mode": {
    "name": "ipython",
    "version": 3
   },
   "file_extension": ".py",
   "mimetype": "text/x-python",
   "name": "python",
   "nbconvert_exporter": "python",
   "pygments_lexer": "ipython3",
   "version": "3.5.2"
  },
  "toc": {
   "colors": {
    "hover_highlight": "#DAA520",
    "navigate_num": "#000000",
    "navigate_text": "#333333",
    "running_highlight": "#FF0000",
    "selected_highlight": "#FFD700",
    "sidebar_border": "#EEEEEE",
    "wrapper_background": "#FFFFFF"
   },
   "moveMenuLeft": true,
   "nav_menu": {
    "height": "180px",
    "width": "254px"
   },
   "navigate_menu": true,
   "number_sections": true,
   "sideBar": true,
   "threshold": 4,
   "toc_cell": false,
   "toc_section_display": "block",
   "toc_window_display": false,
   "widenNotebook": false
  }
 },
 "nbformat": 4,
 "nbformat_minor": 2
}
